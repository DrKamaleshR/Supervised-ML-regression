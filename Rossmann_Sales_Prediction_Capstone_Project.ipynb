{
  "nbformat": 4,
  "nbformat_minor": 0,
  "metadata": {
    "kernelspec": {
      "display_name": "Python 3",
      "language": "python",
      "name": "python3"
    },
    "language_info": {
      "codemirror_mode": {
        "name": "ipython",
        "version": 3
      },
      "file_extension": ".py",
      "mimetype": "text/x-python",
      "name": "python",
      "nbconvert_exporter": "python",
      "pygments_lexer": "ipython3",
      "version": "3.6.6"
    },
    "colab": {
      "name": "Rossmann Sales Prediction - Capstone Project.ipynb",
      "provenance": [],
      "collapsed_sections": [],
      "include_colab_link": true
    },
    "accelerator": "GPU",
    "gpuClass": "standard"
  },
  "cells": [
    {
      "cell_type": "markdown",
      "metadata": {
        "id": "view-in-github",
        "colab_type": "text"
      },
      "source": [
        "<a href=\"https://colab.research.google.com/github/DrKamaleshR/Supervised-ML-regression/blob/main/Rossmann_Sales_Prediction_Capstone_Project.ipynb\" target=\"_parent\"><img src=\"https://colab.research.google.com/assets/colab-badge.svg\" alt=\"Open In Colab\"/></a>"
      ]
    },
    {
      "cell_type": "markdown",
      "metadata": {
        "id": "tOGC-qoyhJeX"
      },
      "source": [
        "# <b><u> Project Title : Sales Prediction : Predicting sales of a major store chain Rossmann</u></b>"
      ]
    },
    {
      "cell_type": "markdown",
      "metadata": {
        "id": "Y06xIdG26kRF"
      },
      "source": [
        "## <b> Problem Description </b>\n",
        "\n",
        "### Rossmann operates over 3,000 drug stores in 7 European countries. Currently, Rossmann store managers are tasked with predicting their daily sales for up to six weeks in advance. Store sales are influenced by many factors, including promotions, competition, school and state holidays, seasonality, and locality. With thousands of individual managers predicting sales based on their unique circumstances, the accuracy of results can be quite varied.\n",
        "\n",
        "### You are provided with historical sales data for 1,115 Rossmann stores. The task is to forecast the \"Sales\" column for the test set. Note that some stores in the dataset were temporarily closed for refurbishment."
      ]
    },
    {
      "cell_type": "markdown",
      "metadata": {
        "id": "WWeU1f9bwqQq"
      },
      "source": [
        "## <b> Data Description </b>\n",
        "\n",
        "### <b>Rossmann Stores Data.csv </b> - historical data including Sales\n",
        "### <b>store.csv </b> - supplemental information about the stores\n",
        "\n",
        "\n",
        "### <b><u>Data fields</u></b>\n",
        "### Most of the fields are self-explanatory. The following are descriptions for those that aren't.\n",
        "\n",
        "* #### Id - an Id that represents a (Store, Date) duple within the test set\n",
        "* #### Store - a unique Id for each store\n",
        "* #### Sales - the turnover for any given day (this is what you are predicting)\n",
        "* #### Customers - the number of customers on a given day\n",
        "* #### Open - an indicator for whether the store was open: 0 = closed, 1 = open\n",
        "* #### StateHoliday - indicates a state holiday. Normally all stores, with few exceptions, are closed on state holidays. Note that all schools are closed on public holidays and weekends. a = public holiday, b = Easter holiday, c = Christmas, 0 = None\n",
        "* #### SchoolHoliday - indicates if the (Store, Date) was affected by the closure of public schools\n",
        "* #### StoreType - differentiates between 4 different store models: a, b, c, d\n",
        "* #### Assortment - describes an assortment level: a = basic, b = extra, c = extended\n",
        "* #### CompetitionDistance - distance in meters to the nearest competitor store\n",
        "* #### CompetitionOpenSince[Month/Year] - gives the approximate year and month of the time the nearest competitor was opened\n",
        "* #### Promo - indicates whether a store is running a promo on that day\n",
        "* #### Promo2 - Promo2 is a continuing and consecutive promotion for some stores: 0 = store is not participating, 1 = store is participating\n",
        "* #### Promo2Since[Year/Week] - describes the year and calendar week when the store started participating in Promo2\n",
        "* #### PromoInterval - describes the consecutive intervals Promo2 is started, naming the months the promotion is started anew. E.g. \"Feb,May,Aug,Nov\" means each round starts in February, May, August, November of any given year for that store"
      ]
    },
    {
      "cell_type": "markdown",
      "source": [
        "For any business growth it is very important to know it's future business and take steps accordingly to improve or grow their business.\n",
        "\n",
        "Here we have Rossmann various stores and we are to predict sales for different stores.\n",
        "\n",
        "Let's start by exploring data set, which are the factors affecting Sales in this stores."
      ],
      "metadata": {
        "id": "9dTaNY4tf2_c"
      }
    },
    {
      "cell_type": "code",
      "source": [
        "import numpy as np\n",
        "import pandas as pd\n",
        "import matplotlib.pyplot as plt\n",
        "import seaborn as sns\n",
        "import pylab\n",
        "from scipy import stats\n",
        "import warnings\n",
        "warnings.filterwarnings('ignore')\n",
        "import time\n",
        "from math import sqrt\n",
        "from sklearn.metrics import mean_squared_error\n",
        "from sklearn import metrics\n",
        "from sklearn.decomposition import PCA\n",
        "from sklearn.model_selection import GridSearchCV"
      ],
      "metadata": {
        "id": "rx25bW0-gAfo"
      },
      "execution_count": 3,
      "outputs": []
    },
    {
      "cell_type": "code",
      "source": [
        "from sklearn.linear_model import Ridge, Lasso, ElasticNet\n",
        "from sklearn.tree import DecisionTreeRegressor\n",
        "from sklearn.ensemble import RandomForestRegressor, GradientBoostingRegressor, ExtraTreesRegressor, AdaBoostRegressor\n",
        "import xgboost as xgb\n",
        "from sklearn import neighbors\n",
        "from sklearn.svm import SVR"
      ],
      "metadata": {
        "id": "t07rdglWlHQ6"
      },
      "execution_count": 2,
      "outputs": []
    },
    {
      "cell_type": "code",
      "source": [
        "pip install catboost"
      ],
      "metadata": {
        "colab": {
          "base_uri": "https://localhost:8080/"
        },
        "id": "3yomRnGalOSn",
        "outputId": "86de9855-88b9-40bd-bc1c-7ee4e0a16893"
      },
      "execution_count": 3,
      "outputs": [
        {
          "output_type": "stream",
          "name": "stdout",
          "text": [
            "Looking in indexes: https://pypi.org/simple, https://us-python.pkg.dev/colab-wheels/public/simple/\n",
            "Collecting catboost\n",
            "  Downloading catboost-1.0.6-cp37-none-manylinux1_x86_64.whl (76.6 MB)\n",
            "\u001b[K     |████████████████████████████████| 76.6 MB 76 kB/s \n",
            "\u001b[?25hRequirement already satisfied: plotly in /usr/local/lib/python3.7/dist-packages (from catboost) (5.5.0)\n",
            "Requirement already satisfied: graphviz in /usr/local/lib/python3.7/dist-packages (from catboost) (0.10.1)\n",
            "Requirement already satisfied: six in /usr/local/lib/python3.7/dist-packages (from catboost) (1.15.0)\n",
            "Requirement already satisfied: pandas>=0.24.0 in /usr/local/lib/python3.7/dist-packages (from catboost) (1.3.5)\n",
            "Requirement already satisfied: matplotlib in /usr/local/lib/python3.7/dist-packages (from catboost) (3.2.2)\n",
            "Requirement already satisfied: scipy in /usr/local/lib/python3.7/dist-packages (from catboost) (1.7.3)\n",
            "Requirement already satisfied: numpy>=1.16.0 in /usr/local/lib/python3.7/dist-packages (from catboost) (1.21.6)\n",
            "Requirement already satisfied: pytz>=2017.3 in /usr/local/lib/python3.7/dist-packages (from pandas>=0.24.0->catboost) (2022.2.1)\n",
            "Requirement already satisfied: python-dateutil>=2.7.3 in /usr/local/lib/python3.7/dist-packages (from pandas>=0.24.0->catboost) (2.8.2)\n",
            "Requirement already satisfied: cycler>=0.10 in /usr/local/lib/python3.7/dist-packages (from matplotlib->catboost) (0.11.0)\n",
            "Requirement already satisfied: pyparsing!=2.0.4,!=2.1.2,!=2.1.6,>=2.0.1 in /usr/local/lib/python3.7/dist-packages (from matplotlib->catboost) (3.0.9)\n",
            "Requirement already satisfied: kiwisolver>=1.0.1 in /usr/local/lib/python3.7/dist-packages (from matplotlib->catboost) (1.4.4)\n",
            "Requirement already satisfied: typing-extensions in /usr/local/lib/python3.7/dist-packages (from kiwisolver>=1.0.1->matplotlib->catboost) (4.1.1)\n",
            "Requirement already satisfied: tenacity>=6.2.0 in /usr/local/lib/python3.7/dist-packages (from plotly->catboost) (8.0.1)\n",
            "Installing collected packages: catboost\n",
            "Successfully installed catboost-1.0.6\n"
          ]
        }
      ]
    },
    {
      "cell_type": "code",
      "source": [
        "from catboost import CatBoostRegressor"
      ],
      "metadata": {
        "id": "XXmBTZczlSuh"
      },
      "execution_count": 4,
      "outputs": []
    },
    {
      "cell_type": "code",
      "source": [
        "from google.colab import drive\n",
        "drive.mount('/content/drive')"
      ],
      "metadata": {
        "colab": {
          "base_uri": "https://localhost:8080/"
        },
        "id": "Uv-pFFGZgR1X",
        "outputId": "8b93fdd8-6a0e-476c-a422-6bcb64a75b6e"
      },
      "execution_count": 5,
      "outputs": [
        {
          "output_type": "stream",
          "name": "stdout",
          "text": [
            "Mounted at /content/drive\n"
          ]
        }
      ]
    },
    {
      "cell_type": "code",
      "source": [
        "ross_dfpath='/content/drive/My Drive/almabetter projects/SUPERVISED re/Rossmann Stores Data.csv'"
      ],
      "metadata": {
        "id": "Y2Wd9bv4geX3"
      },
      "execution_count": 6,
      "outputs": []
    },
    {
      "cell_type": "code",
      "source": [
        "rosstorepath='/content/drive/My Drive/almabetter projects/SUPERVISED re/store.csv'"
      ],
      "metadata": {
        "id": "tNo7682eh1IN"
      },
      "execution_count": 7,
      "outputs": []
    },
    {
      "cell_type": "code",
      "source": [
        "ross_df=pd.read_csv(ross_dfpath)"
      ],
      "metadata": {
        "id": "v64AwwIGjdvK"
      },
      "execution_count": 8,
      "outputs": []
    },
    {
      "cell_type": "code",
      "source": [
        "store_df=pd.read_csv(rosstorepath)\n"
      ],
      "metadata": {
        "id": "U_vQYZAJWZrf"
      },
      "execution_count": 9,
      "outputs": []
    },
    {
      "cell_type": "markdown",
      "source": [
        "# Exploratory Data Analysis\n",
        "\n"
      ],
      "metadata": {
        "id": "BRPVm8oVV7xe"
      }
    },
    {
      "cell_type": "code",
      "source": [
        "ross_df.info()"
      ],
      "metadata": {
        "colab": {
          "base_uri": "https://localhost:8080/"
        },
        "id": "rokOt1s2iLAX",
        "outputId": "a196bb4e-7d75-4f3c-9517-7e3bed3a2a02"
      },
      "execution_count": 10,
      "outputs": [
        {
          "output_type": "stream",
          "name": "stdout",
          "text": [
            "<class 'pandas.core.frame.DataFrame'>\n",
            "RangeIndex: 1017209 entries, 0 to 1017208\n",
            "Data columns (total 9 columns):\n",
            " #   Column         Non-Null Count    Dtype \n",
            "---  ------         --------------    ----- \n",
            " 0   Store          1017209 non-null  int64 \n",
            " 1   DayOfWeek      1017209 non-null  int64 \n",
            " 2   Date           1017209 non-null  object\n",
            " 3   Sales          1017209 non-null  int64 \n",
            " 4   Customers      1017209 non-null  int64 \n",
            " 5   Open           1017209 non-null  int64 \n",
            " 6   Promo          1017209 non-null  int64 \n",
            " 7   StateHoliday   1017209 non-null  object\n",
            " 8   SchoolHoliday  1017209 non-null  int64 \n",
            "dtypes: int64(7), object(2)\n",
            "memory usage: 69.8+ MB\n"
          ]
        }
      ]
    },
    {
      "cell_type": "code",
      "source": [
        "ross_df.shape"
      ],
      "metadata": {
        "colab": {
          "base_uri": "https://localhost:8080/"
        },
        "id": "jdnyf20tjuhZ",
        "outputId": "1bcd4f00-9c69-4d0a-b8ca-893027dd7677"
      },
      "execution_count": 11,
      "outputs": [
        {
          "output_type": "execute_result",
          "data": {
            "text/plain": [
              "(1017209, 9)"
            ]
          },
          "metadata": {},
          "execution_count": 11
        }
      ]
    },
    {
      "cell_type": "code",
      "source": [
        "ross_df.head()"
      ],
      "metadata": {
        "colab": {
          "base_uri": "https://localhost:8080/",
          "height": 206
        },
        "id": "qrwTr3JsCM_f",
        "outputId": "152b0958-c880-4e5c-a1fa-831e099459ae"
      },
      "execution_count": 12,
      "outputs": [
        {
          "output_type": "execute_result",
          "data": {
            "text/plain": [
              "   Store  DayOfWeek        Date  Sales  Customers  Open  Promo StateHoliday  \\\n",
              "0      1          5  2015-07-31   5263        555     1      1            0   \n",
              "1      2          5  2015-07-31   6064        625     1      1            0   \n",
              "2      3          5  2015-07-31   8314        821     1      1            0   \n",
              "3      4          5  2015-07-31  13995       1498     1      1            0   \n",
              "4      5          5  2015-07-31   4822        559     1      1            0   \n",
              "\n",
              "   SchoolHoliday  \n",
              "0              1  \n",
              "1              1  \n",
              "2              1  \n",
              "3              1  \n",
              "4              1  "
            ],
            "text/html": [
              "\n",
              "  <div id=\"df-0e3a5bed-d0bf-4542-8186-8dd469ac8500\">\n",
              "    <div class=\"colab-df-container\">\n",
              "      <div>\n",
              "<style scoped>\n",
              "    .dataframe tbody tr th:only-of-type {\n",
              "        vertical-align: middle;\n",
              "    }\n",
              "\n",
              "    .dataframe tbody tr th {\n",
              "        vertical-align: top;\n",
              "    }\n",
              "\n",
              "    .dataframe thead th {\n",
              "        text-align: right;\n",
              "    }\n",
              "</style>\n",
              "<table border=\"1\" class=\"dataframe\">\n",
              "  <thead>\n",
              "    <tr style=\"text-align: right;\">\n",
              "      <th></th>\n",
              "      <th>Store</th>\n",
              "      <th>DayOfWeek</th>\n",
              "      <th>Date</th>\n",
              "      <th>Sales</th>\n",
              "      <th>Customers</th>\n",
              "      <th>Open</th>\n",
              "      <th>Promo</th>\n",
              "      <th>StateHoliday</th>\n",
              "      <th>SchoolHoliday</th>\n",
              "    </tr>\n",
              "  </thead>\n",
              "  <tbody>\n",
              "    <tr>\n",
              "      <th>0</th>\n",
              "      <td>1</td>\n",
              "      <td>5</td>\n",
              "      <td>2015-07-31</td>\n",
              "      <td>5263</td>\n",
              "      <td>555</td>\n",
              "      <td>1</td>\n",
              "      <td>1</td>\n",
              "      <td>0</td>\n",
              "      <td>1</td>\n",
              "    </tr>\n",
              "    <tr>\n",
              "      <th>1</th>\n",
              "      <td>2</td>\n",
              "      <td>5</td>\n",
              "      <td>2015-07-31</td>\n",
              "      <td>6064</td>\n",
              "      <td>625</td>\n",
              "      <td>1</td>\n",
              "      <td>1</td>\n",
              "      <td>0</td>\n",
              "      <td>1</td>\n",
              "    </tr>\n",
              "    <tr>\n",
              "      <th>2</th>\n",
              "      <td>3</td>\n",
              "      <td>5</td>\n",
              "      <td>2015-07-31</td>\n",
              "      <td>8314</td>\n",
              "      <td>821</td>\n",
              "      <td>1</td>\n",
              "      <td>1</td>\n",
              "      <td>0</td>\n",
              "      <td>1</td>\n",
              "    </tr>\n",
              "    <tr>\n",
              "      <th>3</th>\n",
              "      <td>4</td>\n",
              "      <td>5</td>\n",
              "      <td>2015-07-31</td>\n",
              "      <td>13995</td>\n",
              "      <td>1498</td>\n",
              "      <td>1</td>\n",
              "      <td>1</td>\n",
              "      <td>0</td>\n",
              "      <td>1</td>\n",
              "    </tr>\n",
              "    <tr>\n",
              "      <th>4</th>\n",
              "      <td>5</td>\n",
              "      <td>5</td>\n",
              "      <td>2015-07-31</td>\n",
              "      <td>4822</td>\n",
              "      <td>559</td>\n",
              "      <td>1</td>\n",
              "      <td>1</td>\n",
              "      <td>0</td>\n",
              "      <td>1</td>\n",
              "    </tr>\n",
              "  </tbody>\n",
              "</table>\n",
              "</div>\n",
              "      <button class=\"colab-df-convert\" onclick=\"convertToInteractive('df-0e3a5bed-d0bf-4542-8186-8dd469ac8500')\"\n",
              "              title=\"Convert this dataframe to an interactive table.\"\n",
              "              style=\"display:none;\">\n",
              "        \n",
              "  <svg xmlns=\"http://www.w3.org/2000/svg\" height=\"24px\"viewBox=\"0 0 24 24\"\n",
              "       width=\"24px\">\n",
              "    <path d=\"M0 0h24v24H0V0z\" fill=\"none\"/>\n",
              "    <path d=\"M18.56 5.44l.94 2.06.94-2.06 2.06-.94-2.06-.94-.94-2.06-.94 2.06-2.06.94zm-11 1L8.5 8.5l.94-2.06 2.06-.94-2.06-.94L8.5 2.5l-.94 2.06-2.06.94zm10 10l.94 2.06.94-2.06 2.06-.94-2.06-.94-.94-2.06-.94 2.06-2.06.94z\"/><path d=\"M17.41 7.96l-1.37-1.37c-.4-.4-.92-.59-1.43-.59-.52 0-1.04.2-1.43.59L10.3 9.45l-7.72 7.72c-.78.78-.78 2.05 0 2.83L4 21.41c.39.39.9.59 1.41.59.51 0 1.02-.2 1.41-.59l7.78-7.78 2.81-2.81c.8-.78.8-2.07 0-2.86zM5.41 20L4 18.59l7.72-7.72 1.47 1.35L5.41 20z\"/>\n",
              "  </svg>\n",
              "      </button>\n",
              "      \n",
              "  <style>\n",
              "    .colab-df-container {\n",
              "      display:flex;\n",
              "      flex-wrap:wrap;\n",
              "      gap: 12px;\n",
              "    }\n",
              "\n",
              "    .colab-df-convert {\n",
              "      background-color: #E8F0FE;\n",
              "      border: none;\n",
              "      border-radius: 50%;\n",
              "      cursor: pointer;\n",
              "      display: none;\n",
              "      fill: #1967D2;\n",
              "      height: 32px;\n",
              "      padding: 0 0 0 0;\n",
              "      width: 32px;\n",
              "    }\n",
              "\n",
              "    .colab-df-convert:hover {\n",
              "      background-color: #E2EBFA;\n",
              "      box-shadow: 0px 1px 2px rgba(60, 64, 67, 0.3), 0px 1px 3px 1px rgba(60, 64, 67, 0.15);\n",
              "      fill: #174EA6;\n",
              "    }\n",
              "\n",
              "    [theme=dark] .colab-df-convert {\n",
              "      background-color: #3B4455;\n",
              "      fill: #D2E3FC;\n",
              "    }\n",
              "\n",
              "    [theme=dark] .colab-df-convert:hover {\n",
              "      background-color: #434B5C;\n",
              "      box-shadow: 0px 1px 3px 1px rgba(0, 0, 0, 0.15);\n",
              "      filter: drop-shadow(0px 1px 2px rgba(0, 0, 0, 0.3));\n",
              "      fill: #FFFFFF;\n",
              "    }\n",
              "  </style>\n",
              "\n",
              "      <script>\n",
              "        const buttonEl =\n",
              "          document.querySelector('#df-0e3a5bed-d0bf-4542-8186-8dd469ac8500 button.colab-df-convert');\n",
              "        buttonEl.style.display =\n",
              "          google.colab.kernel.accessAllowed ? 'block' : 'none';\n",
              "\n",
              "        async function convertToInteractive(key) {\n",
              "          const element = document.querySelector('#df-0e3a5bed-d0bf-4542-8186-8dd469ac8500');\n",
              "          const dataTable =\n",
              "            await google.colab.kernel.invokeFunction('convertToInteractive',\n",
              "                                                     [key], {});\n",
              "          if (!dataTable) return;\n",
              "\n",
              "          const docLinkHtml = 'Like what you see? Visit the ' +\n",
              "            '<a target=\"_blank\" href=https://colab.research.google.com/notebooks/data_table.ipynb>data table notebook</a>'\n",
              "            + ' to learn more about interactive tables.';\n",
              "          element.innerHTML = '';\n",
              "          dataTable['output_type'] = 'display_data';\n",
              "          await google.colab.output.renderOutput(dataTable, element);\n",
              "          const docLink = document.createElement('div');\n",
              "          docLink.innerHTML = docLinkHtml;\n",
              "          element.appendChild(docLink);\n",
              "        }\n",
              "      </script>\n",
              "    </div>\n",
              "  </div>\n",
              "  "
            ]
          },
          "metadata": {},
          "execution_count": 12
        }
      ]
    },
    {
      "cell_type": "code",
      "source": [
        "store_df.info()"
      ],
      "metadata": {
        "id": "P4EckGRnaZ-R",
        "outputId": "e1ee48cb-4d47-4b33-c2c5-2daf2a956cc3",
        "colab": {
          "base_uri": "https://localhost:8080/"
        }
      },
      "execution_count": 13,
      "outputs": [
        {
          "output_type": "stream",
          "name": "stdout",
          "text": [
            "<class 'pandas.core.frame.DataFrame'>\n",
            "RangeIndex: 1115 entries, 0 to 1114\n",
            "Data columns (total 10 columns):\n",
            " #   Column                     Non-Null Count  Dtype  \n",
            "---  ------                     --------------  -----  \n",
            " 0   Store                      1115 non-null   int64  \n",
            " 1   StoreType                  1115 non-null   object \n",
            " 2   Assortment                 1115 non-null   object \n",
            " 3   CompetitionDistance        1112 non-null   float64\n",
            " 4   CompetitionOpenSinceMonth  761 non-null    float64\n",
            " 5   CompetitionOpenSinceYear   761 non-null    float64\n",
            " 6   Promo2                     1115 non-null   int64  \n",
            " 7   Promo2SinceWeek            571 non-null    float64\n",
            " 8   Promo2SinceYear            571 non-null    float64\n",
            " 9   PromoInterval              571 non-null    object \n",
            "dtypes: float64(5), int64(2), object(3)\n",
            "memory usage: 87.2+ KB\n"
          ]
        }
      ]
    },
    {
      "cell_type": "code",
      "source": [
        "store_df.shape"
      ],
      "metadata": {
        "id": "zqGNcyOHalat",
        "outputId": "ca80db85-fb34-417f-d3b9-e2c00b9ee29b",
        "colab": {
          "base_uri": "https://localhost:8080/"
        }
      },
      "execution_count": 14,
      "outputs": [
        {
          "output_type": "execute_result",
          "data": {
            "text/plain": [
              "(1115, 10)"
            ]
          },
          "metadata": {},
          "execution_count": 14
        }
      ]
    },
    {
      "cell_type": "code",
      "source": [
        "store_df.head()"
      ],
      "metadata": {
        "id": "mOhublDQarbX",
        "outputId": "8d6a5b47-8e43-4bb0-e04a-a43c70338ba2",
        "colab": {
          "base_uri": "https://localhost:8080/",
          "height": 270
        }
      },
      "execution_count": 15,
      "outputs": [
        {
          "output_type": "execute_result",
          "data": {
            "text/plain": [
              "   Store StoreType Assortment  CompetitionDistance  CompetitionOpenSinceMonth  \\\n",
              "0      1         c          a               1270.0                        9.0   \n",
              "1      2         a          a                570.0                       11.0   \n",
              "2      3         a          a              14130.0                       12.0   \n",
              "3      4         c          c                620.0                        9.0   \n",
              "4      5         a          a              29910.0                        4.0   \n",
              "\n",
              "   CompetitionOpenSinceYear  Promo2  Promo2SinceWeek  Promo2SinceYear  \\\n",
              "0                    2008.0       0              NaN              NaN   \n",
              "1                    2007.0       1             13.0           2010.0   \n",
              "2                    2006.0       1             14.0           2011.0   \n",
              "3                    2009.0       0              NaN              NaN   \n",
              "4                    2015.0       0              NaN              NaN   \n",
              "\n",
              "     PromoInterval  \n",
              "0              NaN  \n",
              "1  Jan,Apr,Jul,Oct  \n",
              "2  Jan,Apr,Jul,Oct  \n",
              "3              NaN  \n",
              "4              NaN  "
            ],
            "text/html": [
              "\n",
              "  <div id=\"df-f81ce5da-11e5-4a9c-a38d-cc326e244d97\">\n",
              "    <div class=\"colab-df-container\">\n",
              "      <div>\n",
              "<style scoped>\n",
              "    .dataframe tbody tr th:only-of-type {\n",
              "        vertical-align: middle;\n",
              "    }\n",
              "\n",
              "    .dataframe tbody tr th {\n",
              "        vertical-align: top;\n",
              "    }\n",
              "\n",
              "    .dataframe thead th {\n",
              "        text-align: right;\n",
              "    }\n",
              "</style>\n",
              "<table border=\"1\" class=\"dataframe\">\n",
              "  <thead>\n",
              "    <tr style=\"text-align: right;\">\n",
              "      <th></th>\n",
              "      <th>Store</th>\n",
              "      <th>StoreType</th>\n",
              "      <th>Assortment</th>\n",
              "      <th>CompetitionDistance</th>\n",
              "      <th>CompetitionOpenSinceMonth</th>\n",
              "      <th>CompetitionOpenSinceYear</th>\n",
              "      <th>Promo2</th>\n",
              "      <th>Promo2SinceWeek</th>\n",
              "      <th>Promo2SinceYear</th>\n",
              "      <th>PromoInterval</th>\n",
              "    </tr>\n",
              "  </thead>\n",
              "  <tbody>\n",
              "    <tr>\n",
              "      <th>0</th>\n",
              "      <td>1</td>\n",
              "      <td>c</td>\n",
              "      <td>a</td>\n",
              "      <td>1270.0</td>\n",
              "      <td>9.0</td>\n",
              "      <td>2008.0</td>\n",
              "      <td>0</td>\n",
              "      <td>NaN</td>\n",
              "      <td>NaN</td>\n",
              "      <td>NaN</td>\n",
              "    </tr>\n",
              "    <tr>\n",
              "      <th>1</th>\n",
              "      <td>2</td>\n",
              "      <td>a</td>\n",
              "      <td>a</td>\n",
              "      <td>570.0</td>\n",
              "      <td>11.0</td>\n",
              "      <td>2007.0</td>\n",
              "      <td>1</td>\n",
              "      <td>13.0</td>\n",
              "      <td>2010.0</td>\n",
              "      <td>Jan,Apr,Jul,Oct</td>\n",
              "    </tr>\n",
              "    <tr>\n",
              "      <th>2</th>\n",
              "      <td>3</td>\n",
              "      <td>a</td>\n",
              "      <td>a</td>\n",
              "      <td>14130.0</td>\n",
              "      <td>12.0</td>\n",
              "      <td>2006.0</td>\n",
              "      <td>1</td>\n",
              "      <td>14.0</td>\n",
              "      <td>2011.0</td>\n",
              "      <td>Jan,Apr,Jul,Oct</td>\n",
              "    </tr>\n",
              "    <tr>\n",
              "      <th>3</th>\n",
              "      <td>4</td>\n",
              "      <td>c</td>\n",
              "      <td>c</td>\n",
              "      <td>620.0</td>\n",
              "      <td>9.0</td>\n",
              "      <td>2009.0</td>\n",
              "      <td>0</td>\n",
              "      <td>NaN</td>\n",
              "      <td>NaN</td>\n",
              "      <td>NaN</td>\n",
              "    </tr>\n",
              "    <tr>\n",
              "      <th>4</th>\n",
              "      <td>5</td>\n",
              "      <td>a</td>\n",
              "      <td>a</td>\n",
              "      <td>29910.0</td>\n",
              "      <td>4.0</td>\n",
              "      <td>2015.0</td>\n",
              "      <td>0</td>\n",
              "      <td>NaN</td>\n",
              "      <td>NaN</td>\n",
              "      <td>NaN</td>\n",
              "    </tr>\n",
              "  </tbody>\n",
              "</table>\n",
              "</div>\n",
              "      <button class=\"colab-df-convert\" onclick=\"convertToInteractive('df-f81ce5da-11e5-4a9c-a38d-cc326e244d97')\"\n",
              "              title=\"Convert this dataframe to an interactive table.\"\n",
              "              style=\"display:none;\">\n",
              "        \n",
              "  <svg xmlns=\"http://www.w3.org/2000/svg\" height=\"24px\"viewBox=\"0 0 24 24\"\n",
              "       width=\"24px\">\n",
              "    <path d=\"M0 0h24v24H0V0z\" fill=\"none\"/>\n",
              "    <path d=\"M18.56 5.44l.94 2.06.94-2.06 2.06-.94-2.06-.94-.94-2.06-.94 2.06-2.06.94zm-11 1L8.5 8.5l.94-2.06 2.06-.94-2.06-.94L8.5 2.5l-.94 2.06-2.06.94zm10 10l.94 2.06.94-2.06 2.06-.94-2.06-.94-.94-2.06-.94 2.06-2.06.94z\"/><path d=\"M17.41 7.96l-1.37-1.37c-.4-.4-.92-.59-1.43-.59-.52 0-1.04.2-1.43.59L10.3 9.45l-7.72 7.72c-.78.78-.78 2.05 0 2.83L4 21.41c.39.39.9.59 1.41.59.51 0 1.02-.2 1.41-.59l7.78-7.78 2.81-2.81c.8-.78.8-2.07 0-2.86zM5.41 20L4 18.59l7.72-7.72 1.47 1.35L5.41 20z\"/>\n",
              "  </svg>\n",
              "      </button>\n",
              "      \n",
              "  <style>\n",
              "    .colab-df-container {\n",
              "      display:flex;\n",
              "      flex-wrap:wrap;\n",
              "      gap: 12px;\n",
              "    }\n",
              "\n",
              "    .colab-df-convert {\n",
              "      background-color: #E8F0FE;\n",
              "      border: none;\n",
              "      border-radius: 50%;\n",
              "      cursor: pointer;\n",
              "      display: none;\n",
              "      fill: #1967D2;\n",
              "      height: 32px;\n",
              "      padding: 0 0 0 0;\n",
              "      width: 32px;\n",
              "    }\n",
              "\n",
              "    .colab-df-convert:hover {\n",
              "      background-color: #E2EBFA;\n",
              "      box-shadow: 0px 1px 2px rgba(60, 64, 67, 0.3), 0px 1px 3px 1px rgba(60, 64, 67, 0.15);\n",
              "      fill: #174EA6;\n",
              "    }\n",
              "\n",
              "    [theme=dark] .colab-df-convert {\n",
              "      background-color: #3B4455;\n",
              "      fill: #D2E3FC;\n",
              "    }\n",
              "\n",
              "    [theme=dark] .colab-df-convert:hover {\n",
              "      background-color: #434B5C;\n",
              "      box-shadow: 0px 1px 3px 1px rgba(0, 0, 0, 0.15);\n",
              "      filter: drop-shadow(0px 1px 2px rgba(0, 0, 0, 0.3));\n",
              "      fill: #FFFFFF;\n",
              "    }\n",
              "  </style>\n",
              "\n",
              "      <script>\n",
              "        const buttonEl =\n",
              "          document.querySelector('#df-f81ce5da-11e5-4a9c-a38d-cc326e244d97 button.colab-df-convert');\n",
              "        buttonEl.style.display =\n",
              "          google.colab.kernel.accessAllowed ? 'block' : 'none';\n",
              "\n",
              "        async function convertToInteractive(key) {\n",
              "          const element = document.querySelector('#df-f81ce5da-11e5-4a9c-a38d-cc326e244d97');\n",
              "          const dataTable =\n",
              "            await google.colab.kernel.invokeFunction('convertToInteractive',\n",
              "                                                     [key], {});\n",
              "          if (!dataTable) return;\n",
              "\n",
              "          const docLinkHtml = 'Like what you see? Visit the ' +\n",
              "            '<a target=\"_blank\" href=https://colab.research.google.com/notebooks/data_table.ipynb>data table notebook</a>'\n",
              "            + ' to learn more about interactive tables.';\n",
              "          element.innerHTML = '';\n",
              "          dataTable['output_type'] = 'display_data';\n",
              "          await google.colab.output.renderOutput(dataTable, element);\n",
              "          const docLink = document.createElement('div');\n",
              "          docLink.innerHTML = docLinkHtml;\n",
              "          element.appendChild(docLink);\n",
              "        }\n",
              "      </script>\n",
              "    </div>\n",
              "  </div>\n",
              "  "
            ]
          },
          "metadata": {},
          "execution_count": 15
        }
      ]
    },
    {
      "cell_type": "code",
      "source": [
        "'''CHECKING FOR NaN values'''\n",
        "ross_df.isnull().sum()"
      ],
      "metadata": {
        "id": "uvJcpuBYa31F",
        "outputId": "c3c273eb-beff-4520-aecf-3a0f1b440e55",
        "colab": {
          "base_uri": "https://localhost:8080/"
        }
      },
      "execution_count": 16,
      "outputs": [
        {
          "output_type": "execute_result",
          "data": {
            "text/plain": [
              "Store            0\n",
              "DayOfWeek        0\n",
              "Date             0\n",
              "Sales            0\n",
              "Customers        0\n",
              "Open             0\n",
              "Promo            0\n",
              "StateHoliday     0\n",
              "SchoolHoliday    0\n",
              "dtype: int64"
            ]
          },
          "metadata": {},
          "execution_count": 16
        }
      ]
    },
    {
      "cell_type": "markdown",
      "source": [
        "No NaN caluses are present in ross_df.csv"
      ],
      "metadata": {
        "id": "S4YtuEiSLQ5e"
      }
    },
    {
      "cell_type": "code",
      "source": [
        "store_df.isnull().sum()"
      ],
      "metadata": {
        "id": "hPT-bZq6a2B2",
        "outputId": "3db9dd20-601b-471e-a655-08a06fc1dd0d",
        "colab": {
          "base_uri": "https://localhost:8080/"
        }
      },
      "execution_count": 14,
      "outputs": [
        {
          "output_type": "execute_result",
          "data": {
            "text/plain": [
              "Store                          0\n",
              "StoreType                      0\n",
              "Assortment                     0\n",
              "CompetitionDistance            3\n",
              "CompetitionOpenSinceMonth    354\n",
              "CompetitionOpenSinceYear     354\n",
              "Promo2                         0\n",
              "Promo2SinceWeek              544\n",
              "Promo2SinceYear              544\n",
              "PromoInterval                544\n",
              "dtype: int64"
            ]
          },
          "metadata": {},
          "execution_count": 14
        }
      ]
    },
    {
      "cell_type": "markdown",
      "source": [
        "Numerous Nan values are seen in - 'CompetitionOpenSinceMonth', 'CompetitionOpenSinceYear', 'Promointerval', 'Promo2sinceWeek' and 'Promo2sinceYear'. However, 'CompetitionDistance 'has only 3 null values. Data cleaning is needed.\n"
      ],
      "metadata": {
        "id": "XBq2Hg3iK0D5"
      }
    },
    {
      "cell_type": "code",
      "source": [
        "#creating copy\n",
        "store_dfv2 = store_df.copy()"
      ],
      "metadata": {
        "id": "xe1dw5HWLKNk"
      },
      "execution_count": 15,
      "outputs": []
    },
    {
      "cell_type": "code",
      "source": [
        "## Replacing Nan values with 0.\n",
        "store_dfv2['CompetitionOpenSinceMonth'] = store_dfv2['CompetitionOpenSinceMonth'].fillna(0)\n",
        "store_dfv2['CompetitionOpenSinceYear'] = store_dfv2['CompetitionOpenSinceYear'].fillna(0)\n",
        "store_dfv2['Promo2SinceWeek'] = store_dfv2['Promo2SinceWeek'].fillna(0)\n",
        "store_dfv2['Promo2SinceYear'] = store_dfv2['Promo2SinceYear'].fillna(0)\n",
        "store_dfv2['PromoInterval'] = store_dfv2['PromoInterval'].fillna(0)"
      ],
      "metadata": {
        "id": "_bsLUFqw8yAg"
      },
      "execution_count": 16,
      "outputs": []
    },
    {
      "cell_type": "code",
      "metadata": {
        "id": "bw8uK_vIwYjs"
      },
      "source": [
        "## code for replacing Nan values in CompetitionDistance with mode.\n",
        "store_dfv2['CompetitionDistance'].fillna(store_df['CompetitionDistance'].median(), inplace = True)"
      ],
      "execution_count": 17,
      "outputs": []
    },
    {
      "cell_type": "code",
      "source": [
        "store_dfv2.isnull().sum()"
      ],
      "metadata": {
        "colab": {
          "base_uri": "https://localhost:8080/"
        },
        "id": "QqEUO8RUGhzR",
        "outputId": "f5bd4ec3-c38c-404e-f5d7-4cdbabf913a3"
      },
      "execution_count": 21,
      "outputs": [
        {
          "output_type": "execute_result",
          "data": {
            "text/plain": [
              "Store                        0\n",
              "StoreType                    0\n",
              "Assortment                   0\n",
              "CompetitionDistance          0\n",
              "CompetitionOpenSinceMonth    0\n",
              "CompetitionOpenSinceYear     0\n",
              "Promo2                       0\n",
              "Promo2SinceWeek              0\n",
              "Promo2SinceYear              0\n",
              "PromoInterval                0\n",
              "dtype: int64"
            ]
          },
          "metadata": {},
          "execution_count": 21
        }
      ]
    },
    {
      "cell_type": "code",
      "source": [
        "ROSS = pd.merge(ross_df, store_dfv2, on='Store', how='left')\n",
        "ROSS.head()"
      ],
      "metadata": {
        "colab": {
          "base_uri": "https://localhost:8080/",
          "height": 357
        },
        "id": "Y6VpIVfICcw0",
        "outputId": "7ba210c2-255d-4edf-e226-4039ed2cb70c"
      },
      "execution_count": 18,
      "outputs": [
        {
          "output_type": "execute_result",
          "data": {
            "text/plain": [
              "   Store  DayOfWeek        Date  Sales  Customers  Open  Promo StateHoliday  \\\n",
              "0      1          5  2015-07-31   5263        555     1      1            0   \n",
              "1      2          5  2015-07-31   6064        625     1      1            0   \n",
              "2      3          5  2015-07-31   8314        821     1      1            0   \n",
              "3      4          5  2015-07-31  13995       1498     1      1            0   \n",
              "4      5          5  2015-07-31   4822        559     1      1            0   \n",
              "\n",
              "   SchoolHoliday StoreType Assortment  CompetitionDistance  \\\n",
              "0              1         c          a               1270.0   \n",
              "1              1         a          a                570.0   \n",
              "2              1         a          a              14130.0   \n",
              "3              1         c          c                620.0   \n",
              "4              1         a          a              29910.0   \n",
              "\n",
              "   CompetitionOpenSinceMonth  CompetitionOpenSinceYear  Promo2  \\\n",
              "0                        9.0                    2008.0       0   \n",
              "1                       11.0                    2007.0       1   \n",
              "2                       12.0                    2006.0       1   \n",
              "3                        9.0                    2009.0       0   \n",
              "4                        4.0                    2015.0       0   \n",
              "\n",
              "   Promo2SinceWeek  Promo2SinceYear    PromoInterval  \n",
              "0              0.0              0.0                0  \n",
              "1             13.0           2010.0  Jan,Apr,Jul,Oct  \n",
              "2             14.0           2011.0  Jan,Apr,Jul,Oct  \n",
              "3              0.0              0.0                0  \n",
              "4              0.0              0.0                0  "
            ],
            "text/html": [
              "\n",
              "  <div id=\"df-b895afac-018f-4602-a947-a219f2ae36d0\">\n",
              "    <div class=\"colab-df-container\">\n",
              "      <div>\n",
              "<style scoped>\n",
              "    .dataframe tbody tr th:only-of-type {\n",
              "        vertical-align: middle;\n",
              "    }\n",
              "\n",
              "    .dataframe tbody tr th {\n",
              "        vertical-align: top;\n",
              "    }\n",
              "\n",
              "    .dataframe thead th {\n",
              "        text-align: right;\n",
              "    }\n",
              "</style>\n",
              "<table border=\"1\" class=\"dataframe\">\n",
              "  <thead>\n",
              "    <tr style=\"text-align: right;\">\n",
              "      <th></th>\n",
              "      <th>Store</th>\n",
              "      <th>DayOfWeek</th>\n",
              "      <th>Date</th>\n",
              "      <th>Sales</th>\n",
              "      <th>Customers</th>\n",
              "      <th>Open</th>\n",
              "      <th>Promo</th>\n",
              "      <th>StateHoliday</th>\n",
              "      <th>SchoolHoliday</th>\n",
              "      <th>StoreType</th>\n",
              "      <th>Assortment</th>\n",
              "      <th>CompetitionDistance</th>\n",
              "      <th>CompetitionOpenSinceMonth</th>\n",
              "      <th>CompetitionOpenSinceYear</th>\n",
              "      <th>Promo2</th>\n",
              "      <th>Promo2SinceWeek</th>\n",
              "      <th>Promo2SinceYear</th>\n",
              "      <th>PromoInterval</th>\n",
              "    </tr>\n",
              "  </thead>\n",
              "  <tbody>\n",
              "    <tr>\n",
              "      <th>0</th>\n",
              "      <td>1</td>\n",
              "      <td>5</td>\n",
              "      <td>2015-07-31</td>\n",
              "      <td>5263</td>\n",
              "      <td>555</td>\n",
              "      <td>1</td>\n",
              "      <td>1</td>\n",
              "      <td>0</td>\n",
              "      <td>1</td>\n",
              "      <td>c</td>\n",
              "      <td>a</td>\n",
              "      <td>1270.0</td>\n",
              "      <td>9.0</td>\n",
              "      <td>2008.0</td>\n",
              "      <td>0</td>\n",
              "      <td>0.0</td>\n",
              "      <td>0.0</td>\n",
              "      <td>0</td>\n",
              "    </tr>\n",
              "    <tr>\n",
              "      <th>1</th>\n",
              "      <td>2</td>\n",
              "      <td>5</td>\n",
              "      <td>2015-07-31</td>\n",
              "      <td>6064</td>\n",
              "      <td>625</td>\n",
              "      <td>1</td>\n",
              "      <td>1</td>\n",
              "      <td>0</td>\n",
              "      <td>1</td>\n",
              "      <td>a</td>\n",
              "      <td>a</td>\n",
              "      <td>570.0</td>\n",
              "      <td>11.0</td>\n",
              "      <td>2007.0</td>\n",
              "      <td>1</td>\n",
              "      <td>13.0</td>\n",
              "      <td>2010.0</td>\n",
              "      <td>Jan,Apr,Jul,Oct</td>\n",
              "    </tr>\n",
              "    <tr>\n",
              "      <th>2</th>\n",
              "      <td>3</td>\n",
              "      <td>5</td>\n",
              "      <td>2015-07-31</td>\n",
              "      <td>8314</td>\n",
              "      <td>821</td>\n",
              "      <td>1</td>\n",
              "      <td>1</td>\n",
              "      <td>0</td>\n",
              "      <td>1</td>\n",
              "      <td>a</td>\n",
              "      <td>a</td>\n",
              "      <td>14130.0</td>\n",
              "      <td>12.0</td>\n",
              "      <td>2006.0</td>\n",
              "      <td>1</td>\n",
              "      <td>14.0</td>\n",
              "      <td>2011.0</td>\n",
              "      <td>Jan,Apr,Jul,Oct</td>\n",
              "    </tr>\n",
              "    <tr>\n",
              "      <th>3</th>\n",
              "      <td>4</td>\n",
              "      <td>5</td>\n",
              "      <td>2015-07-31</td>\n",
              "      <td>13995</td>\n",
              "      <td>1498</td>\n",
              "      <td>1</td>\n",
              "      <td>1</td>\n",
              "      <td>0</td>\n",
              "      <td>1</td>\n",
              "      <td>c</td>\n",
              "      <td>c</td>\n",
              "      <td>620.0</td>\n",
              "      <td>9.0</td>\n",
              "      <td>2009.0</td>\n",
              "      <td>0</td>\n",
              "      <td>0.0</td>\n",
              "      <td>0.0</td>\n",
              "      <td>0</td>\n",
              "    </tr>\n",
              "    <tr>\n",
              "      <th>4</th>\n",
              "      <td>5</td>\n",
              "      <td>5</td>\n",
              "      <td>2015-07-31</td>\n",
              "      <td>4822</td>\n",
              "      <td>559</td>\n",
              "      <td>1</td>\n",
              "      <td>1</td>\n",
              "      <td>0</td>\n",
              "      <td>1</td>\n",
              "      <td>a</td>\n",
              "      <td>a</td>\n",
              "      <td>29910.0</td>\n",
              "      <td>4.0</td>\n",
              "      <td>2015.0</td>\n",
              "      <td>0</td>\n",
              "      <td>0.0</td>\n",
              "      <td>0.0</td>\n",
              "      <td>0</td>\n",
              "    </tr>\n",
              "  </tbody>\n",
              "</table>\n",
              "</div>\n",
              "      <button class=\"colab-df-convert\" onclick=\"convertToInteractive('df-b895afac-018f-4602-a947-a219f2ae36d0')\"\n",
              "              title=\"Convert this dataframe to an interactive table.\"\n",
              "              style=\"display:none;\">\n",
              "        \n",
              "  <svg xmlns=\"http://www.w3.org/2000/svg\" height=\"24px\"viewBox=\"0 0 24 24\"\n",
              "       width=\"24px\">\n",
              "    <path d=\"M0 0h24v24H0V0z\" fill=\"none\"/>\n",
              "    <path d=\"M18.56 5.44l.94 2.06.94-2.06 2.06-.94-2.06-.94-.94-2.06-.94 2.06-2.06.94zm-11 1L8.5 8.5l.94-2.06 2.06-.94-2.06-.94L8.5 2.5l-.94 2.06-2.06.94zm10 10l.94 2.06.94-2.06 2.06-.94-2.06-.94-.94-2.06-.94 2.06-2.06.94z\"/><path d=\"M17.41 7.96l-1.37-1.37c-.4-.4-.92-.59-1.43-.59-.52 0-1.04.2-1.43.59L10.3 9.45l-7.72 7.72c-.78.78-.78 2.05 0 2.83L4 21.41c.39.39.9.59 1.41.59.51 0 1.02-.2 1.41-.59l7.78-7.78 2.81-2.81c.8-.78.8-2.07 0-2.86zM5.41 20L4 18.59l7.72-7.72 1.47 1.35L5.41 20z\"/>\n",
              "  </svg>\n",
              "      </button>\n",
              "      \n",
              "  <style>\n",
              "    .colab-df-container {\n",
              "      display:flex;\n",
              "      flex-wrap:wrap;\n",
              "      gap: 12px;\n",
              "    }\n",
              "\n",
              "    .colab-df-convert {\n",
              "      background-color: #E8F0FE;\n",
              "      border: none;\n",
              "      border-radius: 50%;\n",
              "      cursor: pointer;\n",
              "      display: none;\n",
              "      fill: #1967D2;\n",
              "      height: 32px;\n",
              "      padding: 0 0 0 0;\n",
              "      width: 32px;\n",
              "    }\n",
              "\n",
              "    .colab-df-convert:hover {\n",
              "      background-color: #E2EBFA;\n",
              "      box-shadow: 0px 1px 2px rgba(60, 64, 67, 0.3), 0px 1px 3px 1px rgba(60, 64, 67, 0.15);\n",
              "      fill: #174EA6;\n",
              "    }\n",
              "\n",
              "    [theme=dark] .colab-df-convert {\n",
              "      background-color: #3B4455;\n",
              "      fill: #D2E3FC;\n",
              "    }\n",
              "\n",
              "    [theme=dark] .colab-df-convert:hover {\n",
              "      background-color: #434B5C;\n",
              "      box-shadow: 0px 1px 3px 1px rgba(0, 0, 0, 0.15);\n",
              "      filter: drop-shadow(0px 1px 2px rgba(0, 0, 0, 0.3));\n",
              "      fill: #FFFFFF;\n",
              "    }\n",
              "  </style>\n",
              "\n",
              "      <script>\n",
              "        const buttonEl =\n",
              "          document.querySelector('#df-b895afac-018f-4602-a947-a219f2ae36d0 button.colab-df-convert');\n",
              "        buttonEl.style.display =\n",
              "          google.colab.kernel.accessAllowed ? 'block' : 'none';\n",
              "\n",
              "        async function convertToInteractive(key) {\n",
              "          const element = document.querySelector('#df-b895afac-018f-4602-a947-a219f2ae36d0');\n",
              "          const dataTable =\n",
              "            await google.colab.kernel.invokeFunction('convertToInteractive',\n",
              "                                                     [key], {});\n",
              "          if (!dataTable) return;\n",
              "\n",
              "          const docLinkHtml = 'Like what you see? Visit the ' +\n",
              "            '<a target=\"_blank\" href=https://colab.research.google.com/notebooks/data_table.ipynb>data table notebook</a>'\n",
              "            + ' to learn more about interactive tables.';\n",
              "          element.innerHTML = '';\n",
              "          dataTable['output_type'] = 'display_data';\n",
              "          await google.colab.output.renderOutput(dataTable, element);\n",
              "          const docLink = document.createElement('div');\n",
              "          docLink.innerHTML = docLinkHtml;\n",
              "          element.appendChild(docLink);\n",
              "        }\n",
              "      </script>\n",
              "    </div>\n",
              "  </div>\n",
              "  "
            ]
          },
          "metadata": {},
          "execution_count": 18
        }
      ]
    },
    {
      "cell_type": "code",
      "source": [
        "ROSS.info()"
      ],
      "metadata": {
        "colab": {
          "base_uri": "https://localhost:8080/"
        },
        "id": "4iQUqi-5Vv2w",
        "outputId": "d0aef1be-637e-4298-c92f-e99cbbfd75af"
      },
      "execution_count": 19,
      "outputs": [
        {
          "output_type": "stream",
          "name": "stdout",
          "text": [
            "<class 'pandas.core.frame.DataFrame'>\n",
            "Int64Index: 1017209 entries, 0 to 1017208\n",
            "Data columns (total 18 columns):\n",
            " #   Column                     Non-Null Count    Dtype  \n",
            "---  ------                     --------------    -----  \n",
            " 0   Store                      1017209 non-null  int64  \n",
            " 1   DayOfWeek                  1017209 non-null  int64  \n",
            " 2   Date                       1017209 non-null  object \n",
            " 3   Sales                      1017209 non-null  int64  \n",
            " 4   Customers                  1017209 non-null  int64  \n",
            " 5   Open                       1017209 non-null  int64  \n",
            " 6   Promo                      1017209 non-null  int64  \n",
            " 7   StateHoliday               1017209 non-null  object \n",
            " 8   SchoolHoliday              1017209 non-null  int64  \n",
            " 9   StoreType                  1017209 non-null  object \n",
            " 10  Assortment                 1017209 non-null  object \n",
            " 11  CompetitionDistance        1017209 non-null  float64\n",
            " 12  CompetitionOpenSinceMonth  1017209 non-null  float64\n",
            " 13  CompetitionOpenSinceYear   1017209 non-null  float64\n",
            " 14  Promo2                     1017209 non-null  int64  \n",
            " 15  Promo2SinceWeek            1017209 non-null  float64\n",
            " 16  Promo2SinceYear            1017209 non-null  float64\n",
            " 17  PromoInterval              1017209 non-null  object \n",
            "dtypes: float64(5), int64(8), object(5)\n",
            "memory usage: 147.5+ MB\n"
          ]
        }
      ]
    },
    {
      "cell_type": "code",
      "source": [
        "#lets find out data range of the data\n",
        "print(ROSS['Date'].min(),'- start')\n",
        "print(ROSS['Date'].max(), '- end')"
      ],
      "metadata": {
        "colab": {
          "base_uri": "https://localhost:8080/"
        },
        "id": "kTLOJsYCAQFz",
        "outputId": "3bb991be-79f6-44d0-ded9-93a8ed7f5373"
      },
      "execution_count": 20,
      "outputs": [
        {
          "output_type": "stream",
          "name": "stdout",
          "text": [
            "2013-01-01 - start\n",
            "2015-07-31 - end\n"
          ]
        }
      ]
    },
    {
      "cell_type": "markdown",
      "source": [
        "We have have  2 years 7 months data values recorded, about 31 months retail sales data in the datasheet."
      ],
      "metadata": {
        "id": "4vkKBrsdqnv7"
      }
    },
    {
      "cell_type": "code",
      "source": [
        "ROSS.head(1115)"
      ],
      "metadata": {
        "colab": {
          "base_uri": "https://localhost:8080/",
          "height": 661
        },
        "id": "bdWjFsoaYGb5",
        "outputId": "2b50e514-7d70-43a0-e982-5559ab7f5654"
      },
      "execution_count": null,
      "outputs": [
        {
          "output_type": "execute_result",
          "data": {
            "text/plain": [
              "      Store  DayOfWeek        Date  Sales  Customers  Open  Promo  \\\n",
              "0         1          5  2015-07-31   5263        555     1      1   \n",
              "1         2          5  2015-07-31   6064        625     1      1   \n",
              "2         3          5  2015-07-31   8314        821     1      1   \n",
              "3         4          5  2015-07-31  13995       1498     1      1   \n",
              "4         5          5  2015-07-31   4822        559     1      1   \n",
              "...     ...        ...         ...    ...        ...   ...    ...   \n",
              "1110   1111          5  2015-07-31   5723        422     1      1   \n",
              "1111   1112          5  2015-07-31   9626        767     1      1   \n",
              "1112   1113          5  2015-07-31   7289        720     1      1   \n",
              "1113   1114          5  2015-07-31  27508       3745     1      1   \n",
              "1114   1115          5  2015-07-31   8680        538     1      1   \n",
              "\n",
              "     StateHoliday  SchoolHoliday StoreType Assortment  CompetitionDistance  \\\n",
              "0               0              1         c          a               1270.0   \n",
              "1               0              1         a          a                570.0   \n",
              "2               0              1         a          a              14130.0   \n",
              "3               0              1         c          c                620.0   \n",
              "4               0              1         a          a              29910.0   \n",
              "...           ...            ...       ...        ...                  ...   \n",
              "1110            0              1         a          a               1900.0   \n",
              "1111            0              1         c          c               1880.0   \n",
              "1112            0              1         a          c               9260.0   \n",
              "1113            0              1         a          c                870.0   \n",
              "1114            0              1         d          c               5350.0   \n",
              "\n",
              "      CompetitionOpenSinceMonth  CompetitionOpenSinceYear  Promo2  \\\n",
              "0                           9.0                    2008.0       0   \n",
              "1                          11.0                    2007.0       1   \n",
              "2                          12.0                    2006.0       1   \n",
              "3                           9.0                    2009.0       0   \n",
              "4                           4.0                    2015.0       0   \n",
              "...                         ...                       ...     ...   \n",
              "1110                        6.0                    2014.0       1   \n",
              "1111                        4.0                    2006.0       0   \n",
              "1112                        0.0                       0.0       0   \n",
              "1113                        0.0                       0.0       0   \n",
              "1114                        0.0                       0.0       1   \n",
              "\n",
              "      Promo2SinceWeek  Promo2SinceYear     PromoInterval  \n",
              "0                 0.0              0.0                 0  \n",
              "1                13.0           2010.0   Jan,Apr,Jul,Oct  \n",
              "2                14.0           2011.0   Jan,Apr,Jul,Oct  \n",
              "3                 0.0              0.0                 0  \n",
              "4                 0.0              0.0                 0  \n",
              "...               ...              ...               ...  \n",
              "1110             31.0           2013.0   Jan,Apr,Jul,Oct  \n",
              "1111              0.0              0.0                 0  \n",
              "1112              0.0              0.0                 0  \n",
              "1113              0.0              0.0                 0  \n",
              "1114             22.0           2012.0  Mar,Jun,Sept,Dec  \n",
              "\n",
              "[1115 rows x 18 columns]"
            ],
            "text/html": [
              "\n",
              "  <div id=\"df-2fc7bc33-8c77-4d64-94f7-9e0b280c2612\">\n",
              "    <div class=\"colab-df-container\">\n",
              "      <div>\n",
              "<style scoped>\n",
              "    .dataframe tbody tr th:only-of-type {\n",
              "        vertical-align: middle;\n",
              "    }\n",
              "\n",
              "    .dataframe tbody tr th {\n",
              "        vertical-align: top;\n",
              "    }\n",
              "\n",
              "    .dataframe thead th {\n",
              "        text-align: right;\n",
              "    }\n",
              "</style>\n",
              "<table border=\"1\" class=\"dataframe\">\n",
              "  <thead>\n",
              "    <tr style=\"text-align: right;\">\n",
              "      <th></th>\n",
              "      <th>Store</th>\n",
              "      <th>DayOfWeek</th>\n",
              "      <th>Date</th>\n",
              "      <th>Sales</th>\n",
              "      <th>Customers</th>\n",
              "      <th>Open</th>\n",
              "      <th>Promo</th>\n",
              "      <th>StateHoliday</th>\n",
              "      <th>SchoolHoliday</th>\n",
              "      <th>StoreType</th>\n",
              "      <th>Assortment</th>\n",
              "      <th>CompetitionDistance</th>\n",
              "      <th>CompetitionOpenSinceMonth</th>\n",
              "      <th>CompetitionOpenSinceYear</th>\n",
              "      <th>Promo2</th>\n",
              "      <th>Promo2SinceWeek</th>\n",
              "      <th>Promo2SinceYear</th>\n",
              "      <th>PromoInterval</th>\n",
              "    </tr>\n",
              "  </thead>\n",
              "  <tbody>\n",
              "    <tr>\n",
              "      <th>0</th>\n",
              "      <td>1</td>\n",
              "      <td>5</td>\n",
              "      <td>2015-07-31</td>\n",
              "      <td>5263</td>\n",
              "      <td>555</td>\n",
              "      <td>1</td>\n",
              "      <td>1</td>\n",
              "      <td>0</td>\n",
              "      <td>1</td>\n",
              "      <td>c</td>\n",
              "      <td>a</td>\n",
              "      <td>1270.0</td>\n",
              "      <td>9.0</td>\n",
              "      <td>2008.0</td>\n",
              "      <td>0</td>\n",
              "      <td>0.0</td>\n",
              "      <td>0.0</td>\n",
              "      <td>0</td>\n",
              "    </tr>\n",
              "    <tr>\n",
              "      <th>1</th>\n",
              "      <td>2</td>\n",
              "      <td>5</td>\n",
              "      <td>2015-07-31</td>\n",
              "      <td>6064</td>\n",
              "      <td>625</td>\n",
              "      <td>1</td>\n",
              "      <td>1</td>\n",
              "      <td>0</td>\n",
              "      <td>1</td>\n",
              "      <td>a</td>\n",
              "      <td>a</td>\n",
              "      <td>570.0</td>\n",
              "      <td>11.0</td>\n",
              "      <td>2007.0</td>\n",
              "      <td>1</td>\n",
              "      <td>13.0</td>\n",
              "      <td>2010.0</td>\n",
              "      <td>Jan,Apr,Jul,Oct</td>\n",
              "    </tr>\n",
              "    <tr>\n",
              "      <th>2</th>\n",
              "      <td>3</td>\n",
              "      <td>5</td>\n",
              "      <td>2015-07-31</td>\n",
              "      <td>8314</td>\n",
              "      <td>821</td>\n",
              "      <td>1</td>\n",
              "      <td>1</td>\n",
              "      <td>0</td>\n",
              "      <td>1</td>\n",
              "      <td>a</td>\n",
              "      <td>a</td>\n",
              "      <td>14130.0</td>\n",
              "      <td>12.0</td>\n",
              "      <td>2006.0</td>\n",
              "      <td>1</td>\n",
              "      <td>14.0</td>\n",
              "      <td>2011.0</td>\n",
              "      <td>Jan,Apr,Jul,Oct</td>\n",
              "    </tr>\n",
              "    <tr>\n",
              "      <th>3</th>\n",
              "      <td>4</td>\n",
              "      <td>5</td>\n",
              "      <td>2015-07-31</td>\n",
              "      <td>13995</td>\n",
              "      <td>1498</td>\n",
              "      <td>1</td>\n",
              "      <td>1</td>\n",
              "      <td>0</td>\n",
              "      <td>1</td>\n",
              "      <td>c</td>\n",
              "      <td>c</td>\n",
              "      <td>620.0</td>\n",
              "      <td>9.0</td>\n",
              "      <td>2009.0</td>\n",
              "      <td>0</td>\n",
              "      <td>0.0</td>\n",
              "      <td>0.0</td>\n",
              "      <td>0</td>\n",
              "    </tr>\n",
              "    <tr>\n",
              "      <th>4</th>\n",
              "      <td>5</td>\n",
              "      <td>5</td>\n",
              "      <td>2015-07-31</td>\n",
              "      <td>4822</td>\n",
              "      <td>559</td>\n",
              "      <td>1</td>\n",
              "      <td>1</td>\n",
              "      <td>0</td>\n",
              "      <td>1</td>\n",
              "      <td>a</td>\n",
              "      <td>a</td>\n",
              "      <td>29910.0</td>\n",
              "      <td>4.0</td>\n",
              "      <td>2015.0</td>\n",
              "      <td>0</td>\n",
              "      <td>0.0</td>\n",
              "      <td>0.0</td>\n",
              "      <td>0</td>\n",
              "    </tr>\n",
              "    <tr>\n",
              "      <th>...</th>\n",
              "      <td>...</td>\n",
              "      <td>...</td>\n",
              "      <td>...</td>\n",
              "      <td>...</td>\n",
              "      <td>...</td>\n",
              "      <td>...</td>\n",
              "      <td>...</td>\n",
              "      <td>...</td>\n",
              "      <td>...</td>\n",
              "      <td>...</td>\n",
              "      <td>...</td>\n",
              "      <td>...</td>\n",
              "      <td>...</td>\n",
              "      <td>...</td>\n",
              "      <td>...</td>\n",
              "      <td>...</td>\n",
              "      <td>...</td>\n",
              "      <td>...</td>\n",
              "    </tr>\n",
              "    <tr>\n",
              "      <th>1110</th>\n",
              "      <td>1111</td>\n",
              "      <td>5</td>\n",
              "      <td>2015-07-31</td>\n",
              "      <td>5723</td>\n",
              "      <td>422</td>\n",
              "      <td>1</td>\n",
              "      <td>1</td>\n",
              "      <td>0</td>\n",
              "      <td>1</td>\n",
              "      <td>a</td>\n",
              "      <td>a</td>\n",
              "      <td>1900.0</td>\n",
              "      <td>6.0</td>\n",
              "      <td>2014.0</td>\n",
              "      <td>1</td>\n",
              "      <td>31.0</td>\n",
              "      <td>2013.0</td>\n",
              "      <td>Jan,Apr,Jul,Oct</td>\n",
              "    </tr>\n",
              "    <tr>\n",
              "      <th>1111</th>\n",
              "      <td>1112</td>\n",
              "      <td>5</td>\n",
              "      <td>2015-07-31</td>\n",
              "      <td>9626</td>\n",
              "      <td>767</td>\n",
              "      <td>1</td>\n",
              "      <td>1</td>\n",
              "      <td>0</td>\n",
              "      <td>1</td>\n",
              "      <td>c</td>\n",
              "      <td>c</td>\n",
              "      <td>1880.0</td>\n",
              "      <td>4.0</td>\n",
              "      <td>2006.0</td>\n",
              "      <td>0</td>\n",
              "      <td>0.0</td>\n",
              "      <td>0.0</td>\n",
              "      <td>0</td>\n",
              "    </tr>\n",
              "    <tr>\n",
              "      <th>1112</th>\n",
              "      <td>1113</td>\n",
              "      <td>5</td>\n",
              "      <td>2015-07-31</td>\n",
              "      <td>7289</td>\n",
              "      <td>720</td>\n",
              "      <td>1</td>\n",
              "      <td>1</td>\n",
              "      <td>0</td>\n",
              "      <td>1</td>\n",
              "      <td>a</td>\n",
              "      <td>c</td>\n",
              "      <td>9260.0</td>\n",
              "      <td>0.0</td>\n",
              "      <td>0.0</td>\n",
              "      <td>0</td>\n",
              "      <td>0.0</td>\n",
              "      <td>0.0</td>\n",
              "      <td>0</td>\n",
              "    </tr>\n",
              "    <tr>\n",
              "      <th>1113</th>\n",
              "      <td>1114</td>\n",
              "      <td>5</td>\n",
              "      <td>2015-07-31</td>\n",
              "      <td>27508</td>\n",
              "      <td>3745</td>\n",
              "      <td>1</td>\n",
              "      <td>1</td>\n",
              "      <td>0</td>\n",
              "      <td>1</td>\n",
              "      <td>a</td>\n",
              "      <td>c</td>\n",
              "      <td>870.0</td>\n",
              "      <td>0.0</td>\n",
              "      <td>0.0</td>\n",
              "      <td>0</td>\n",
              "      <td>0.0</td>\n",
              "      <td>0.0</td>\n",
              "      <td>0</td>\n",
              "    </tr>\n",
              "    <tr>\n",
              "      <th>1114</th>\n",
              "      <td>1115</td>\n",
              "      <td>5</td>\n",
              "      <td>2015-07-31</td>\n",
              "      <td>8680</td>\n",
              "      <td>538</td>\n",
              "      <td>1</td>\n",
              "      <td>1</td>\n",
              "      <td>0</td>\n",
              "      <td>1</td>\n",
              "      <td>d</td>\n",
              "      <td>c</td>\n",
              "      <td>5350.0</td>\n",
              "      <td>0.0</td>\n",
              "      <td>0.0</td>\n",
              "      <td>1</td>\n",
              "      <td>22.0</td>\n",
              "      <td>2012.0</td>\n",
              "      <td>Mar,Jun,Sept,Dec</td>\n",
              "    </tr>\n",
              "  </tbody>\n",
              "</table>\n",
              "<p>1115 rows × 18 columns</p>\n",
              "</div>\n",
              "      <button class=\"colab-df-convert\" onclick=\"convertToInteractive('df-2fc7bc33-8c77-4d64-94f7-9e0b280c2612')\"\n",
              "              title=\"Convert this dataframe to an interactive table.\"\n",
              "              style=\"display:none;\">\n",
              "        \n",
              "  <svg xmlns=\"http://www.w3.org/2000/svg\" height=\"24px\"viewBox=\"0 0 24 24\"\n",
              "       width=\"24px\">\n",
              "    <path d=\"M0 0h24v24H0V0z\" fill=\"none\"/>\n",
              "    <path d=\"M18.56 5.44l.94 2.06.94-2.06 2.06-.94-2.06-.94-.94-2.06-.94 2.06-2.06.94zm-11 1L8.5 8.5l.94-2.06 2.06-.94-2.06-.94L8.5 2.5l-.94 2.06-2.06.94zm10 10l.94 2.06.94-2.06 2.06-.94-2.06-.94-.94-2.06-.94 2.06-2.06.94z\"/><path d=\"M17.41 7.96l-1.37-1.37c-.4-.4-.92-.59-1.43-.59-.52 0-1.04.2-1.43.59L10.3 9.45l-7.72 7.72c-.78.78-.78 2.05 0 2.83L4 21.41c.39.39.9.59 1.41.59.51 0 1.02-.2 1.41-.59l7.78-7.78 2.81-2.81c.8-.78.8-2.07 0-2.86zM5.41 20L4 18.59l7.72-7.72 1.47 1.35L5.41 20z\"/>\n",
              "  </svg>\n",
              "      </button>\n",
              "      \n",
              "  <style>\n",
              "    .colab-df-container {\n",
              "      display:flex;\n",
              "      flex-wrap:wrap;\n",
              "      gap: 12px;\n",
              "    }\n",
              "\n",
              "    .colab-df-convert {\n",
              "      background-color: #E8F0FE;\n",
              "      border: none;\n",
              "      border-radius: 50%;\n",
              "      cursor: pointer;\n",
              "      display: none;\n",
              "      fill: #1967D2;\n",
              "      height: 32px;\n",
              "      padding: 0 0 0 0;\n",
              "      width: 32px;\n",
              "    }\n",
              "\n",
              "    .colab-df-convert:hover {\n",
              "      background-color: #E2EBFA;\n",
              "      box-shadow: 0px 1px 2px rgba(60, 64, 67, 0.3), 0px 1px 3px 1px rgba(60, 64, 67, 0.15);\n",
              "      fill: #174EA6;\n",
              "    }\n",
              "\n",
              "    [theme=dark] .colab-df-convert {\n",
              "      background-color: #3B4455;\n",
              "      fill: #D2E3FC;\n",
              "    }\n",
              "\n",
              "    [theme=dark] .colab-df-convert:hover {\n",
              "      background-color: #434B5C;\n",
              "      box-shadow: 0px 1px 3px 1px rgba(0, 0, 0, 0.15);\n",
              "      filter: drop-shadow(0px 1px 2px rgba(0, 0, 0, 0.3));\n",
              "      fill: #FFFFFF;\n",
              "    }\n",
              "  </style>\n",
              "\n",
              "      <script>\n",
              "        const buttonEl =\n",
              "          document.querySelector('#df-2fc7bc33-8c77-4d64-94f7-9e0b280c2612 button.colab-df-convert');\n",
              "        buttonEl.style.display =\n",
              "          google.colab.kernel.accessAllowed ? 'block' : 'none';\n",
              "\n",
              "        async function convertToInteractive(key) {\n",
              "          const element = document.querySelector('#df-2fc7bc33-8c77-4d64-94f7-9e0b280c2612');\n",
              "          const dataTable =\n",
              "            await google.colab.kernel.invokeFunction('convertToInteractive',\n",
              "                                                     [key], {});\n",
              "          if (!dataTable) return;\n",
              "\n",
              "          const docLinkHtml = 'Like what you see? Visit the ' +\n",
              "            '<a target=\"_blank\" href=https://colab.research.google.com/notebooks/data_table.ipynb>data table notebook</a>'\n",
              "            + ' to learn more about interactive tables.';\n",
              "          element.innerHTML = '';\n",
              "          dataTable['output_type'] = 'display_data';\n",
              "          await google.colab.output.renderOutput(dataTable, element);\n",
              "          const docLink = document.createElement('div');\n",
              "          docLink.innerHTML = docLinkHtml;\n",
              "          element.appendChild(docLink);\n",
              "        }\n",
              "      </script>\n",
              "    </div>\n",
              "  </div>\n",
              "  "
            ]
          },
          "metadata": {},
          "execution_count": 26
        }
      ]
    },
    {
      "cell_type": "code",
      "source": [
        "ROSS.tail(1114)"
      ],
      "metadata": {
        "colab": {
          "base_uri": "https://localhost:8080/",
          "height": 661
        },
        "id": "ZlGnuX0eXmUq",
        "outputId": "c4d3a79a-8417-4524-c588-575cd60be8e7"
      },
      "execution_count": null,
      "outputs": [
        {
          "output_type": "execute_result",
          "data": {
            "text/plain": [
              "         Store  DayOfWeek        Date  Sales  Customers  Open  Promo  \\\n",
              "1016095      1          2  2013-01-01      0          0     0      0   \n",
              "1016096      2          2  2013-01-01      0          0     0      0   \n",
              "1016097      3          2  2013-01-01      0          0     0      0   \n",
              "1016098      4          2  2013-01-01      0          0     0      0   \n",
              "1016099      5          2  2013-01-01      0          0     0      0   \n",
              "...        ...        ...         ...    ...        ...   ...    ...   \n",
              "1017204   1111          2  2013-01-01      0          0     0      0   \n",
              "1017205   1112          2  2013-01-01      0          0     0      0   \n",
              "1017206   1113          2  2013-01-01      0          0     0      0   \n",
              "1017207   1114          2  2013-01-01      0          0     0      0   \n",
              "1017208   1115          2  2013-01-01      0          0     0      0   \n",
              "\n",
              "        StateHoliday  SchoolHoliday StoreType Assortment  CompetitionDistance  \\\n",
              "1016095            a              1         c          a               1270.0   \n",
              "1016096            a              1         a          a                570.0   \n",
              "1016097            a              1         a          a              14130.0   \n",
              "1016098            a              1         c          c                620.0   \n",
              "1016099            a              1         a          a              29910.0   \n",
              "...              ...            ...       ...        ...                  ...   \n",
              "1017204            a              1         a          a               1900.0   \n",
              "1017205            a              1         c          c               1880.0   \n",
              "1017206            a              1         a          c               9260.0   \n",
              "1017207            a              1         a          c                870.0   \n",
              "1017208            a              1         d          c               5350.0   \n",
              "\n",
              "         CompetitionOpenSinceMonth  CompetitionOpenSinceYear  Promo2  \\\n",
              "1016095                        9.0                    2008.0       0   \n",
              "1016096                       11.0                    2007.0       1   \n",
              "1016097                       12.0                    2006.0       1   \n",
              "1016098                        9.0                    2009.0       0   \n",
              "1016099                        4.0                    2015.0       0   \n",
              "...                            ...                       ...     ...   \n",
              "1017204                        6.0                    2014.0       1   \n",
              "1017205                        4.0                    2006.0       0   \n",
              "1017206                        0.0                       0.0       0   \n",
              "1017207                        0.0                       0.0       0   \n",
              "1017208                        0.0                       0.0       1   \n",
              "\n",
              "         Promo2SinceWeek  Promo2SinceYear     PromoInterval  \n",
              "1016095              0.0              0.0                 0  \n",
              "1016096             13.0           2010.0   Jan,Apr,Jul,Oct  \n",
              "1016097             14.0           2011.0   Jan,Apr,Jul,Oct  \n",
              "1016098              0.0              0.0                 0  \n",
              "1016099              0.0              0.0                 0  \n",
              "...                  ...              ...               ...  \n",
              "1017204             31.0           2013.0   Jan,Apr,Jul,Oct  \n",
              "1017205              0.0              0.0                 0  \n",
              "1017206              0.0              0.0                 0  \n",
              "1017207              0.0              0.0                 0  \n",
              "1017208             22.0           2012.0  Mar,Jun,Sept,Dec  \n",
              "\n",
              "[1114 rows x 18 columns]"
            ],
            "text/html": [
              "\n",
              "  <div id=\"df-4acadb80-ac81-433e-a9d9-70c35c4fc609\">\n",
              "    <div class=\"colab-df-container\">\n",
              "      <div>\n",
              "<style scoped>\n",
              "    .dataframe tbody tr th:only-of-type {\n",
              "        vertical-align: middle;\n",
              "    }\n",
              "\n",
              "    .dataframe tbody tr th {\n",
              "        vertical-align: top;\n",
              "    }\n",
              "\n",
              "    .dataframe thead th {\n",
              "        text-align: right;\n",
              "    }\n",
              "</style>\n",
              "<table border=\"1\" class=\"dataframe\">\n",
              "  <thead>\n",
              "    <tr style=\"text-align: right;\">\n",
              "      <th></th>\n",
              "      <th>Store</th>\n",
              "      <th>DayOfWeek</th>\n",
              "      <th>Date</th>\n",
              "      <th>Sales</th>\n",
              "      <th>Customers</th>\n",
              "      <th>Open</th>\n",
              "      <th>Promo</th>\n",
              "      <th>StateHoliday</th>\n",
              "      <th>SchoolHoliday</th>\n",
              "      <th>StoreType</th>\n",
              "      <th>Assortment</th>\n",
              "      <th>CompetitionDistance</th>\n",
              "      <th>CompetitionOpenSinceMonth</th>\n",
              "      <th>CompetitionOpenSinceYear</th>\n",
              "      <th>Promo2</th>\n",
              "      <th>Promo2SinceWeek</th>\n",
              "      <th>Promo2SinceYear</th>\n",
              "      <th>PromoInterval</th>\n",
              "    </tr>\n",
              "  </thead>\n",
              "  <tbody>\n",
              "    <tr>\n",
              "      <th>1016095</th>\n",
              "      <td>1</td>\n",
              "      <td>2</td>\n",
              "      <td>2013-01-01</td>\n",
              "      <td>0</td>\n",
              "      <td>0</td>\n",
              "      <td>0</td>\n",
              "      <td>0</td>\n",
              "      <td>a</td>\n",
              "      <td>1</td>\n",
              "      <td>c</td>\n",
              "      <td>a</td>\n",
              "      <td>1270.0</td>\n",
              "      <td>9.0</td>\n",
              "      <td>2008.0</td>\n",
              "      <td>0</td>\n",
              "      <td>0.0</td>\n",
              "      <td>0.0</td>\n",
              "      <td>0</td>\n",
              "    </tr>\n",
              "    <tr>\n",
              "      <th>1016096</th>\n",
              "      <td>2</td>\n",
              "      <td>2</td>\n",
              "      <td>2013-01-01</td>\n",
              "      <td>0</td>\n",
              "      <td>0</td>\n",
              "      <td>0</td>\n",
              "      <td>0</td>\n",
              "      <td>a</td>\n",
              "      <td>1</td>\n",
              "      <td>a</td>\n",
              "      <td>a</td>\n",
              "      <td>570.0</td>\n",
              "      <td>11.0</td>\n",
              "      <td>2007.0</td>\n",
              "      <td>1</td>\n",
              "      <td>13.0</td>\n",
              "      <td>2010.0</td>\n",
              "      <td>Jan,Apr,Jul,Oct</td>\n",
              "    </tr>\n",
              "    <tr>\n",
              "      <th>1016097</th>\n",
              "      <td>3</td>\n",
              "      <td>2</td>\n",
              "      <td>2013-01-01</td>\n",
              "      <td>0</td>\n",
              "      <td>0</td>\n",
              "      <td>0</td>\n",
              "      <td>0</td>\n",
              "      <td>a</td>\n",
              "      <td>1</td>\n",
              "      <td>a</td>\n",
              "      <td>a</td>\n",
              "      <td>14130.0</td>\n",
              "      <td>12.0</td>\n",
              "      <td>2006.0</td>\n",
              "      <td>1</td>\n",
              "      <td>14.0</td>\n",
              "      <td>2011.0</td>\n",
              "      <td>Jan,Apr,Jul,Oct</td>\n",
              "    </tr>\n",
              "    <tr>\n",
              "      <th>1016098</th>\n",
              "      <td>4</td>\n",
              "      <td>2</td>\n",
              "      <td>2013-01-01</td>\n",
              "      <td>0</td>\n",
              "      <td>0</td>\n",
              "      <td>0</td>\n",
              "      <td>0</td>\n",
              "      <td>a</td>\n",
              "      <td>1</td>\n",
              "      <td>c</td>\n",
              "      <td>c</td>\n",
              "      <td>620.0</td>\n",
              "      <td>9.0</td>\n",
              "      <td>2009.0</td>\n",
              "      <td>0</td>\n",
              "      <td>0.0</td>\n",
              "      <td>0.0</td>\n",
              "      <td>0</td>\n",
              "    </tr>\n",
              "    <tr>\n",
              "      <th>1016099</th>\n",
              "      <td>5</td>\n",
              "      <td>2</td>\n",
              "      <td>2013-01-01</td>\n",
              "      <td>0</td>\n",
              "      <td>0</td>\n",
              "      <td>0</td>\n",
              "      <td>0</td>\n",
              "      <td>a</td>\n",
              "      <td>1</td>\n",
              "      <td>a</td>\n",
              "      <td>a</td>\n",
              "      <td>29910.0</td>\n",
              "      <td>4.0</td>\n",
              "      <td>2015.0</td>\n",
              "      <td>0</td>\n",
              "      <td>0.0</td>\n",
              "      <td>0.0</td>\n",
              "      <td>0</td>\n",
              "    </tr>\n",
              "    <tr>\n",
              "      <th>...</th>\n",
              "      <td>...</td>\n",
              "      <td>...</td>\n",
              "      <td>...</td>\n",
              "      <td>...</td>\n",
              "      <td>...</td>\n",
              "      <td>...</td>\n",
              "      <td>...</td>\n",
              "      <td>...</td>\n",
              "      <td>...</td>\n",
              "      <td>...</td>\n",
              "      <td>...</td>\n",
              "      <td>...</td>\n",
              "      <td>...</td>\n",
              "      <td>...</td>\n",
              "      <td>...</td>\n",
              "      <td>...</td>\n",
              "      <td>...</td>\n",
              "      <td>...</td>\n",
              "    </tr>\n",
              "    <tr>\n",
              "      <th>1017204</th>\n",
              "      <td>1111</td>\n",
              "      <td>2</td>\n",
              "      <td>2013-01-01</td>\n",
              "      <td>0</td>\n",
              "      <td>0</td>\n",
              "      <td>0</td>\n",
              "      <td>0</td>\n",
              "      <td>a</td>\n",
              "      <td>1</td>\n",
              "      <td>a</td>\n",
              "      <td>a</td>\n",
              "      <td>1900.0</td>\n",
              "      <td>6.0</td>\n",
              "      <td>2014.0</td>\n",
              "      <td>1</td>\n",
              "      <td>31.0</td>\n",
              "      <td>2013.0</td>\n",
              "      <td>Jan,Apr,Jul,Oct</td>\n",
              "    </tr>\n",
              "    <tr>\n",
              "      <th>1017205</th>\n",
              "      <td>1112</td>\n",
              "      <td>2</td>\n",
              "      <td>2013-01-01</td>\n",
              "      <td>0</td>\n",
              "      <td>0</td>\n",
              "      <td>0</td>\n",
              "      <td>0</td>\n",
              "      <td>a</td>\n",
              "      <td>1</td>\n",
              "      <td>c</td>\n",
              "      <td>c</td>\n",
              "      <td>1880.0</td>\n",
              "      <td>4.0</td>\n",
              "      <td>2006.0</td>\n",
              "      <td>0</td>\n",
              "      <td>0.0</td>\n",
              "      <td>0.0</td>\n",
              "      <td>0</td>\n",
              "    </tr>\n",
              "    <tr>\n",
              "      <th>1017206</th>\n",
              "      <td>1113</td>\n",
              "      <td>2</td>\n",
              "      <td>2013-01-01</td>\n",
              "      <td>0</td>\n",
              "      <td>0</td>\n",
              "      <td>0</td>\n",
              "      <td>0</td>\n",
              "      <td>a</td>\n",
              "      <td>1</td>\n",
              "      <td>a</td>\n",
              "      <td>c</td>\n",
              "      <td>9260.0</td>\n",
              "      <td>0.0</td>\n",
              "      <td>0.0</td>\n",
              "      <td>0</td>\n",
              "      <td>0.0</td>\n",
              "      <td>0.0</td>\n",
              "      <td>0</td>\n",
              "    </tr>\n",
              "    <tr>\n",
              "      <th>1017207</th>\n",
              "      <td>1114</td>\n",
              "      <td>2</td>\n",
              "      <td>2013-01-01</td>\n",
              "      <td>0</td>\n",
              "      <td>0</td>\n",
              "      <td>0</td>\n",
              "      <td>0</td>\n",
              "      <td>a</td>\n",
              "      <td>1</td>\n",
              "      <td>a</td>\n",
              "      <td>c</td>\n",
              "      <td>870.0</td>\n",
              "      <td>0.0</td>\n",
              "      <td>0.0</td>\n",
              "      <td>0</td>\n",
              "      <td>0.0</td>\n",
              "      <td>0.0</td>\n",
              "      <td>0</td>\n",
              "    </tr>\n",
              "    <tr>\n",
              "      <th>1017208</th>\n",
              "      <td>1115</td>\n",
              "      <td>2</td>\n",
              "      <td>2013-01-01</td>\n",
              "      <td>0</td>\n",
              "      <td>0</td>\n",
              "      <td>0</td>\n",
              "      <td>0</td>\n",
              "      <td>a</td>\n",
              "      <td>1</td>\n",
              "      <td>d</td>\n",
              "      <td>c</td>\n",
              "      <td>5350.0</td>\n",
              "      <td>0.0</td>\n",
              "      <td>0.0</td>\n",
              "      <td>1</td>\n",
              "      <td>22.0</td>\n",
              "      <td>2012.0</td>\n",
              "      <td>Mar,Jun,Sept,Dec</td>\n",
              "    </tr>\n",
              "  </tbody>\n",
              "</table>\n",
              "<p>1114 rows × 18 columns</p>\n",
              "</div>\n",
              "      <button class=\"colab-df-convert\" onclick=\"convertToInteractive('df-4acadb80-ac81-433e-a9d9-70c35c4fc609')\"\n",
              "              title=\"Convert this dataframe to an interactive table.\"\n",
              "              style=\"display:none;\">\n",
              "        \n",
              "  <svg xmlns=\"http://www.w3.org/2000/svg\" height=\"24px\"viewBox=\"0 0 24 24\"\n",
              "       width=\"24px\">\n",
              "    <path d=\"M0 0h24v24H0V0z\" fill=\"none\"/>\n",
              "    <path d=\"M18.56 5.44l.94 2.06.94-2.06 2.06-.94-2.06-.94-.94-2.06-.94 2.06-2.06.94zm-11 1L8.5 8.5l.94-2.06 2.06-.94-2.06-.94L8.5 2.5l-.94 2.06-2.06.94zm10 10l.94 2.06.94-2.06 2.06-.94-2.06-.94-.94-2.06-.94 2.06-2.06.94z\"/><path d=\"M17.41 7.96l-1.37-1.37c-.4-.4-.92-.59-1.43-.59-.52 0-1.04.2-1.43.59L10.3 9.45l-7.72 7.72c-.78.78-.78 2.05 0 2.83L4 21.41c.39.39.9.59 1.41.59.51 0 1.02-.2 1.41-.59l7.78-7.78 2.81-2.81c.8-.78.8-2.07 0-2.86zM5.41 20L4 18.59l7.72-7.72 1.47 1.35L5.41 20z\"/>\n",
              "  </svg>\n",
              "      </button>\n",
              "      \n",
              "  <style>\n",
              "    .colab-df-container {\n",
              "      display:flex;\n",
              "      flex-wrap:wrap;\n",
              "      gap: 12px;\n",
              "    }\n",
              "\n",
              "    .colab-df-convert {\n",
              "      background-color: #E8F0FE;\n",
              "      border: none;\n",
              "      border-radius: 50%;\n",
              "      cursor: pointer;\n",
              "      display: none;\n",
              "      fill: #1967D2;\n",
              "      height: 32px;\n",
              "      padding: 0 0 0 0;\n",
              "      width: 32px;\n",
              "    }\n",
              "\n",
              "    .colab-df-convert:hover {\n",
              "      background-color: #E2EBFA;\n",
              "      box-shadow: 0px 1px 2px rgba(60, 64, 67, 0.3), 0px 1px 3px 1px rgba(60, 64, 67, 0.15);\n",
              "      fill: #174EA6;\n",
              "    }\n",
              "\n",
              "    [theme=dark] .colab-df-convert {\n",
              "      background-color: #3B4455;\n",
              "      fill: #D2E3FC;\n",
              "    }\n",
              "\n",
              "    [theme=dark] .colab-df-convert:hover {\n",
              "      background-color: #434B5C;\n",
              "      box-shadow: 0px 1px 3px 1px rgba(0, 0, 0, 0.15);\n",
              "      filter: drop-shadow(0px 1px 2px rgba(0, 0, 0, 0.3));\n",
              "      fill: #FFFFFF;\n",
              "    }\n",
              "  </style>\n",
              "\n",
              "      <script>\n",
              "        const buttonEl =\n",
              "          document.querySelector('#df-4acadb80-ac81-433e-a9d9-70c35c4fc609 button.colab-df-convert');\n",
              "        buttonEl.style.display =\n",
              "          google.colab.kernel.accessAllowed ? 'block' : 'none';\n",
              "\n",
              "        async function convertToInteractive(key) {\n",
              "          const element = document.querySelector('#df-4acadb80-ac81-433e-a9d9-70c35c4fc609');\n",
              "          const dataTable =\n",
              "            await google.colab.kernel.invokeFunction('convertToInteractive',\n",
              "                                                     [key], {});\n",
              "          if (!dataTable) return;\n",
              "\n",
              "          const docLinkHtml = 'Like what you see? Visit the ' +\n",
              "            '<a target=\"_blank\" href=https://colab.research.google.com/notebooks/data_table.ipynb>data table notebook</a>'\n",
              "            + ' to learn more about interactive tables.';\n",
              "          element.innerHTML = '';\n",
              "          dataTable['output_type'] = 'display_data';\n",
              "          await google.colab.output.renderOutput(dataTable, element);\n",
              "          const docLink = document.createElement('div');\n",
              "          docLink.innerHTML = docLinkHtml;\n",
              "          element.appendChild(docLink);\n",
              "        }\n",
              "      </script>\n",
              "    </div>\n",
              "  </div>\n",
              "  "
            ]
          },
          "metadata": {},
          "execution_count": 27
        }
      ]
    },
    {
      "cell_type": "markdown",
      "source": [
        "Store_df2 and Ross_df is successfully merged."
      ],
      "metadata": {
        "id": "2wxFKsfereSk"
      }
    },
    {
      "cell_type": "markdown",
      "source": [
        "Sales is key variable, lets check if it has negative values or 0."
      ],
      "metadata": {
        "id": "Cj8_STPh87wK"
      }
    },
    {
      "cell_type": "code",
      "source": [
        "ROSS[ROSS['Sales'] <= 0]"
      ],
      "metadata": {
        "colab": {
          "base_uri": "https://localhost:8080/",
          "height": 661
        },
        "id": "tl9-ZzAtCEPn",
        "outputId": "e987c83f-2b7e-4fd7-d553-f4ff139903da"
      },
      "execution_count": 51,
      "outputs": [
        {
          "output_type": "execute_result",
          "data": {
            "text/plain": [
              "         Store  DayOfWeek        Date  Sales  Customers  Open  Promo  \\\n",
              "291        292          5  2015-07-31      0          0     0      1   \n",
              "875        876          5  2015-07-31      0          0     0      1   \n",
              "1406       292          4  2015-07-30      0          0     0      1   \n",
              "1990       876          4  2015-07-30      0          0     0      1   \n",
              "2521       292          3  2015-07-29      0          0     0      1   \n",
              "...        ...        ...         ...    ...        ...   ...    ...   \n",
              "1017204   1111          2  2013-01-01      0          0     0      0   \n",
              "1017205   1112          2  2013-01-01      0          0     0      0   \n",
              "1017206   1113          2  2013-01-01      0          0     0      0   \n",
              "1017207   1114          2  2013-01-01      0          0     0      0   \n",
              "1017208   1115          2  2013-01-01      0          0     0      0   \n",
              "\n",
              "        StateHoliday  SchoolHoliday StoreType Assortment  CompetitionDistance  \\\n",
              "291                0              1         a          a               1100.0   \n",
              "875                0              1         a          a              21790.0   \n",
              "1406               0              1         a          a               1100.0   \n",
              "1990               0              1         a          a              21790.0   \n",
              "2521               0              1         a          a               1100.0   \n",
              "...              ...            ...       ...        ...                  ...   \n",
              "1017204            a              1         a          a               1900.0   \n",
              "1017205            a              1         c          c               1880.0   \n",
              "1017206            a              1         a          c               9260.0   \n",
              "1017207            a              1         a          c                870.0   \n",
              "1017208            a              1         d          c               5350.0   \n",
              "\n",
              "         CompetitionOpenSinceMonth  CompetitionOpenSinceYear  Promo2  \\\n",
              "291                            6.0                    2009.0       0   \n",
              "875                            4.0                    2005.0       1   \n",
              "1406                           6.0                    2009.0       0   \n",
              "1990                           4.0                    2005.0       1   \n",
              "2521                           6.0                    2009.0       0   \n",
              "...                            ...                       ...     ...   \n",
              "1017204                        6.0                    2014.0       1   \n",
              "1017205                        4.0                    2006.0       0   \n",
              "1017206                        0.0                       0.0       0   \n",
              "1017207                        0.0                       0.0       0   \n",
              "1017208                        0.0                       0.0       1   \n",
              "\n",
              "         Promo2SinceWeek  Promo2SinceYear     PromoInterval  \n",
              "291                  0.0              0.0                 0  \n",
              "875                 18.0           2015.0   Feb,May,Aug,Nov  \n",
              "1406                 0.0              0.0                 0  \n",
              "1990                18.0           2015.0   Feb,May,Aug,Nov  \n",
              "2521                 0.0              0.0                 0  \n",
              "...                  ...              ...               ...  \n",
              "1017204             31.0           2013.0   Jan,Apr,Jul,Oct  \n",
              "1017205              0.0              0.0                 0  \n",
              "1017206              0.0              0.0                 0  \n",
              "1017207              0.0              0.0                 0  \n",
              "1017208             22.0           2012.0  Mar,Jun,Sept,Dec  \n",
              "\n",
              "[172871 rows x 18 columns]"
            ],
            "text/html": [
              "\n",
              "  <div id=\"df-d05569b0-c0ad-4001-bb14-696081092a73\">\n",
              "    <div class=\"colab-df-container\">\n",
              "      <div>\n",
              "<style scoped>\n",
              "    .dataframe tbody tr th:only-of-type {\n",
              "        vertical-align: middle;\n",
              "    }\n",
              "\n",
              "    .dataframe tbody tr th {\n",
              "        vertical-align: top;\n",
              "    }\n",
              "\n",
              "    .dataframe thead th {\n",
              "        text-align: right;\n",
              "    }\n",
              "</style>\n",
              "<table border=\"1\" class=\"dataframe\">\n",
              "  <thead>\n",
              "    <tr style=\"text-align: right;\">\n",
              "      <th></th>\n",
              "      <th>Store</th>\n",
              "      <th>DayOfWeek</th>\n",
              "      <th>Date</th>\n",
              "      <th>Sales</th>\n",
              "      <th>Customers</th>\n",
              "      <th>Open</th>\n",
              "      <th>Promo</th>\n",
              "      <th>StateHoliday</th>\n",
              "      <th>SchoolHoliday</th>\n",
              "      <th>StoreType</th>\n",
              "      <th>Assortment</th>\n",
              "      <th>CompetitionDistance</th>\n",
              "      <th>CompetitionOpenSinceMonth</th>\n",
              "      <th>CompetitionOpenSinceYear</th>\n",
              "      <th>Promo2</th>\n",
              "      <th>Promo2SinceWeek</th>\n",
              "      <th>Promo2SinceYear</th>\n",
              "      <th>PromoInterval</th>\n",
              "    </tr>\n",
              "  </thead>\n",
              "  <tbody>\n",
              "    <tr>\n",
              "      <th>291</th>\n",
              "      <td>292</td>\n",
              "      <td>5</td>\n",
              "      <td>2015-07-31</td>\n",
              "      <td>0</td>\n",
              "      <td>0</td>\n",
              "      <td>0</td>\n",
              "      <td>1</td>\n",
              "      <td>0</td>\n",
              "      <td>1</td>\n",
              "      <td>a</td>\n",
              "      <td>a</td>\n",
              "      <td>1100.0</td>\n",
              "      <td>6.0</td>\n",
              "      <td>2009.0</td>\n",
              "      <td>0</td>\n",
              "      <td>0.0</td>\n",
              "      <td>0.0</td>\n",
              "      <td>0</td>\n",
              "    </tr>\n",
              "    <tr>\n",
              "      <th>875</th>\n",
              "      <td>876</td>\n",
              "      <td>5</td>\n",
              "      <td>2015-07-31</td>\n",
              "      <td>0</td>\n",
              "      <td>0</td>\n",
              "      <td>0</td>\n",
              "      <td>1</td>\n",
              "      <td>0</td>\n",
              "      <td>1</td>\n",
              "      <td>a</td>\n",
              "      <td>a</td>\n",
              "      <td>21790.0</td>\n",
              "      <td>4.0</td>\n",
              "      <td>2005.0</td>\n",
              "      <td>1</td>\n",
              "      <td>18.0</td>\n",
              "      <td>2015.0</td>\n",
              "      <td>Feb,May,Aug,Nov</td>\n",
              "    </tr>\n",
              "    <tr>\n",
              "      <th>1406</th>\n",
              "      <td>292</td>\n",
              "      <td>4</td>\n",
              "      <td>2015-07-30</td>\n",
              "      <td>0</td>\n",
              "      <td>0</td>\n",
              "      <td>0</td>\n",
              "      <td>1</td>\n",
              "      <td>0</td>\n",
              "      <td>1</td>\n",
              "      <td>a</td>\n",
              "      <td>a</td>\n",
              "      <td>1100.0</td>\n",
              "      <td>6.0</td>\n",
              "      <td>2009.0</td>\n",
              "      <td>0</td>\n",
              "      <td>0.0</td>\n",
              "      <td>0.0</td>\n",
              "      <td>0</td>\n",
              "    </tr>\n",
              "    <tr>\n",
              "      <th>1990</th>\n",
              "      <td>876</td>\n",
              "      <td>4</td>\n",
              "      <td>2015-07-30</td>\n",
              "      <td>0</td>\n",
              "      <td>0</td>\n",
              "      <td>0</td>\n",
              "      <td>1</td>\n",
              "      <td>0</td>\n",
              "      <td>1</td>\n",
              "      <td>a</td>\n",
              "      <td>a</td>\n",
              "      <td>21790.0</td>\n",
              "      <td>4.0</td>\n",
              "      <td>2005.0</td>\n",
              "      <td>1</td>\n",
              "      <td>18.0</td>\n",
              "      <td>2015.0</td>\n",
              "      <td>Feb,May,Aug,Nov</td>\n",
              "    </tr>\n",
              "    <tr>\n",
              "      <th>2521</th>\n",
              "      <td>292</td>\n",
              "      <td>3</td>\n",
              "      <td>2015-07-29</td>\n",
              "      <td>0</td>\n",
              "      <td>0</td>\n",
              "      <td>0</td>\n",
              "      <td>1</td>\n",
              "      <td>0</td>\n",
              "      <td>1</td>\n",
              "      <td>a</td>\n",
              "      <td>a</td>\n",
              "      <td>1100.0</td>\n",
              "      <td>6.0</td>\n",
              "      <td>2009.0</td>\n",
              "      <td>0</td>\n",
              "      <td>0.0</td>\n",
              "      <td>0.0</td>\n",
              "      <td>0</td>\n",
              "    </tr>\n",
              "    <tr>\n",
              "      <th>...</th>\n",
              "      <td>...</td>\n",
              "      <td>...</td>\n",
              "      <td>...</td>\n",
              "      <td>...</td>\n",
              "      <td>...</td>\n",
              "      <td>...</td>\n",
              "      <td>...</td>\n",
              "      <td>...</td>\n",
              "      <td>...</td>\n",
              "      <td>...</td>\n",
              "      <td>...</td>\n",
              "      <td>...</td>\n",
              "      <td>...</td>\n",
              "      <td>...</td>\n",
              "      <td>...</td>\n",
              "      <td>...</td>\n",
              "      <td>...</td>\n",
              "      <td>...</td>\n",
              "    </tr>\n",
              "    <tr>\n",
              "      <th>1017204</th>\n",
              "      <td>1111</td>\n",
              "      <td>2</td>\n",
              "      <td>2013-01-01</td>\n",
              "      <td>0</td>\n",
              "      <td>0</td>\n",
              "      <td>0</td>\n",
              "      <td>0</td>\n",
              "      <td>a</td>\n",
              "      <td>1</td>\n",
              "      <td>a</td>\n",
              "      <td>a</td>\n",
              "      <td>1900.0</td>\n",
              "      <td>6.0</td>\n",
              "      <td>2014.0</td>\n",
              "      <td>1</td>\n",
              "      <td>31.0</td>\n",
              "      <td>2013.0</td>\n",
              "      <td>Jan,Apr,Jul,Oct</td>\n",
              "    </tr>\n",
              "    <tr>\n",
              "      <th>1017205</th>\n",
              "      <td>1112</td>\n",
              "      <td>2</td>\n",
              "      <td>2013-01-01</td>\n",
              "      <td>0</td>\n",
              "      <td>0</td>\n",
              "      <td>0</td>\n",
              "      <td>0</td>\n",
              "      <td>a</td>\n",
              "      <td>1</td>\n",
              "      <td>c</td>\n",
              "      <td>c</td>\n",
              "      <td>1880.0</td>\n",
              "      <td>4.0</td>\n",
              "      <td>2006.0</td>\n",
              "      <td>0</td>\n",
              "      <td>0.0</td>\n",
              "      <td>0.0</td>\n",
              "      <td>0</td>\n",
              "    </tr>\n",
              "    <tr>\n",
              "      <th>1017206</th>\n",
              "      <td>1113</td>\n",
              "      <td>2</td>\n",
              "      <td>2013-01-01</td>\n",
              "      <td>0</td>\n",
              "      <td>0</td>\n",
              "      <td>0</td>\n",
              "      <td>0</td>\n",
              "      <td>a</td>\n",
              "      <td>1</td>\n",
              "      <td>a</td>\n",
              "      <td>c</td>\n",
              "      <td>9260.0</td>\n",
              "      <td>0.0</td>\n",
              "      <td>0.0</td>\n",
              "      <td>0</td>\n",
              "      <td>0.0</td>\n",
              "      <td>0.0</td>\n",
              "      <td>0</td>\n",
              "    </tr>\n",
              "    <tr>\n",
              "      <th>1017207</th>\n",
              "      <td>1114</td>\n",
              "      <td>2</td>\n",
              "      <td>2013-01-01</td>\n",
              "      <td>0</td>\n",
              "      <td>0</td>\n",
              "      <td>0</td>\n",
              "      <td>0</td>\n",
              "      <td>a</td>\n",
              "      <td>1</td>\n",
              "      <td>a</td>\n",
              "      <td>c</td>\n",
              "      <td>870.0</td>\n",
              "      <td>0.0</td>\n",
              "      <td>0.0</td>\n",
              "      <td>0</td>\n",
              "      <td>0.0</td>\n",
              "      <td>0.0</td>\n",
              "      <td>0</td>\n",
              "    </tr>\n",
              "    <tr>\n",
              "      <th>1017208</th>\n",
              "      <td>1115</td>\n",
              "      <td>2</td>\n",
              "      <td>2013-01-01</td>\n",
              "      <td>0</td>\n",
              "      <td>0</td>\n",
              "      <td>0</td>\n",
              "      <td>0</td>\n",
              "      <td>a</td>\n",
              "      <td>1</td>\n",
              "      <td>d</td>\n",
              "      <td>c</td>\n",
              "      <td>5350.0</td>\n",
              "      <td>0.0</td>\n",
              "      <td>0.0</td>\n",
              "      <td>1</td>\n",
              "      <td>22.0</td>\n",
              "      <td>2012.0</td>\n",
              "      <td>Mar,Jun,Sept,Dec</td>\n",
              "    </tr>\n",
              "  </tbody>\n",
              "</table>\n",
              "<p>172871 rows × 18 columns</p>\n",
              "</div>\n",
              "      <button class=\"colab-df-convert\" onclick=\"convertToInteractive('df-d05569b0-c0ad-4001-bb14-696081092a73')\"\n",
              "              title=\"Convert this dataframe to an interactive table.\"\n",
              "              style=\"display:none;\">\n",
              "        \n",
              "  <svg xmlns=\"http://www.w3.org/2000/svg\" height=\"24px\"viewBox=\"0 0 24 24\"\n",
              "       width=\"24px\">\n",
              "    <path d=\"M0 0h24v24H0V0z\" fill=\"none\"/>\n",
              "    <path d=\"M18.56 5.44l.94 2.06.94-2.06 2.06-.94-2.06-.94-.94-2.06-.94 2.06-2.06.94zm-11 1L8.5 8.5l.94-2.06 2.06-.94-2.06-.94L8.5 2.5l-.94 2.06-2.06.94zm10 10l.94 2.06.94-2.06 2.06-.94-2.06-.94-.94-2.06-.94 2.06-2.06.94z\"/><path d=\"M17.41 7.96l-1.37-1.37c-.4-.4-.92-.59-1.43-.59-.52 0-1.04.2-1.43.59L10.3 9.45l-7.72 7.72c-.78.78-.78 2.05 0 2.83L4 21.41c.39.39.9.59 1.41.59.51 0 1.02-.2 1.41-.59l7.78-7.78 2.81-2.81c.8-.78.8-2.07 0-2.86zM5.41 20L4 18.59l7.72-7.72 1.47 1.35L5.41 20z\"/>\n",
              "  </svg>\n",
              "      </button>\n",
              "      \n",
              "  <style>\n",
              "    .colab-df-container {\n",
              "      display:flex;\n",
              "      flex-wrap:wrap;\n",
              "      gap: 12px;\n",
              "    }\n",
              "\n",
              "    .colab-df-convert {\n",
              "      background-color: #E8F0FE;\n",
              "      border: none;\n",
              "      border-radius: 50%;\n",
              "      cursor: pointer;\n",
              "      display: none;\n",
              "      fill: #1967D2;\n",
              "      height: 32px;\n",
              "      padding: 0 0 0 0;\n",
              "      width: 32px;\n",
              "    }\n",
              "\n",
              "    .colab-df-convert:hover {\n",
              "      background-color: #E2EBFA;\n",
              "      box-shadow: 0px 1px 2px rgba(60, 64, 67, 0.3), 0px 1px 3px 1px rgba(60, 64, 67, 0.15);\n",
              "      fill: #174EA6;\n",
              "    }\n",
              "\n",
              "    [theme=dark] .colab-df-convert {\n",
              "      background-color: #3B4455;\n",
              "      fill: #D2E3FC;\n",
              "    }\n",
              "\n",
              "    [theme=dark] .colab-df-convert:hover {\n",
              "      background-color: #434B5C;\n",
              "      box-shadow: 0px 1px 3px 1px rgba(0, 0, 0, 0.15);\n",
              "      filter: drop-shadow(0px 1px 2px rgba(0, 0, 0, 0.3));\n",
              "      fill: #FFFFFF;\n",
              "    }\n",
              "  </style>\n",
              "\n",
              "      <script>\n",
              "        const buttonEl =\n",
              "          document.querySelector('#df-d05569b0-c0ad-4001-bb14-696081092a73 button.colab-df-convert');\n",
              "        buttonEl.style.display =\n",
              "          google.colab.kernel.accessAllowed ? 'block' : 'none';\n",
              "\n",
              "        async function convertToInteractive(key) {\n",
              "          const element = document.querySelector('#df-d05569b0-c0ad-4001-bb14-696081092a73');\n",
              "          const dataTable =\n",
              "            await google.colab.kernel.invokeFunction('convertToInteractive',\n",
              "                                                     [key], {});\n",
              "          if (!dataTable) return;\n",
              "\n",
              "          const docLinkHtml = 'Like what you see? Visit the ' +\n",
              "            '<a target=\"_blank\" href=https://colab.research.google.com/notebooks/data_table.ipynb>data table notebook</a>'\n",
              "            + ' to learn more about interactive tables.';\n",
              "          element.innerHTML = '';\n",
              "          dataTable['output_type'] = 'display_data';\n",
              "          await google.colab.output.renderOutput(dataTable, element);\n",
              "          const docLink = document.createElement('div');\n",
              "          docLink.innerHTML = docLinkHtml;\n",
              "          element.appendChild(docLink);\n",
              "        }\n",
              "      </script>\n",
              "    </div>\n",
              "  </div>\n",
              "  "
            ]
          },
          "metadata": {},
          "execution_count": 51
        }
      ]
    },
    {
      "cell_type": "code",
      "source": [
        "# Checking if false sale values are present in closed stores\n",
        "ROSS[(ROSS['Open'] == 1) & (ROSS['Sales'] == 0)]\n"
      ],
      "metadata": {
        "colab": {
          "base_uri": "https://localhost:8080/",
          "height": 1000
        },
        "id": "ro_hK5IuSllj",
        "outputId": "1414c437-56ad-4e74-a13d-f7279688fe51"
      },
      "execution_count": 52,
      "outputs": [
        {
          "output_type": "execute_result",
          "data": {
            "text/plain": [
              "        Store  DayOfWeek        Date  Sales  Customers  Open  Promo  \\\n",
              "86825     971          5  2015-05-15      0          0     1      0   \n",
              "142278    674          4  2015-03-26      0          0     1      0   \n",
              "196938    699          4  2015-02-05      0          0     1      1   \n",
              "322053    708          3  2014-10-01      0          0     1      1   \n",
              "330176    357          1  2014-09-22      0          0     1      0   \n",
              "340348    227          4  2014-09-11      0          0     1      0   \n",
              "340860    835          4  2014-09-11      0          0     1      0   \n",
              "341795    835          3  2014-09-10      0          0     1      0   \n",
              "346232    548          5  2014-09-05      0          0     1      1   \n",
              "346734     28          4  2014-09-04      0          0     1      1   \n",
              "347669     28          3  2014-09-03      0          0     1      1   \n",
              "348604     28          2  2014-09-02      0          0     1      1   \n",
              "386065    102          4  2014-07-24      0          0     1      0   \n",
              "386173    238          4  2014-07-24      0          0     1      0   \n",
              "386227    303          4  2014-07-24      0          0     1      0   \n",
              "386304    387          4  2014-07-24      0          0     1      0   \n",
              "387652    882          3  2014-07-23      0          0     1      0   \n",
              "387656    887          3  2014-07-23      0          0     1      0   \n",
              "397285    102          6  2014-07-12      0          0     1      0   \n",
              "406384    925          4  2014-07-03      0          0     1      1   \n",
              "407532     57          2  2014-07-01      0          0     1      1   \n",
              "437311   1017          4  2014-06-05      0          0     1      1   \n",
              "438426   1017          3  2014-06-04      0          0     1      1   \n",
              "477534   1100          3  2014-04-30      0          0     1      1   \n",
              "478649   1100          2  2014-04-29      0          3     1      1   \n",
              "506085    661          5  2014-04-04      0          0     1      1   \n",
              "512964    850          6  2014-03-29      0          0     1      0   \n",
              "525365    986          2  2014-03-18      0          0     1      1   \n",
              "531396    327          3  2014-03-12      0          0     1      0   \n",
              "561199     25          4  2014-02-13      0          0     1      0   \n",
              "562314     25          3  2014-02-12      0          0     1      0   \n",
              "582982    623          6  2014-01-25      0          0     1      0   \n",
              "584097    623          5  2014-01-24      0          0     1      1   \n",
              "591147    983          6  2014-01-18      0          0     1      0   \n",
              "592262    983          5  2014-01-17      0          0     1      0   \n",
              "744697    663          1  2013-09-02      0          0     1      0   \n",
              "750000    391          3  2013-08-28      0          0     1      1   \n",
              "772836    927          4  2013-08-08      0          0     1      0   \n",
              "805283   1039          3  2013-07-10      0          0     1      0   \n",
              "806398   1039          2  2013-07-09      0          0     1      0   \n",
              "817174    665          6  2013-06-29      0          0     1      0   \n",
              "818289    665          5  2013-06-28      0          0     1      0   \n",
              "843969    700          3  2013-06-05      0          0     1      1   \n",
              "872940    681          5  2013-05-10      0          0     1      0   \n",
              "874853    364          3  2013-05-08      0          0     1      0   \n",
              "875968    364          2  2013-05-07      0          0     1      0   \n",
              "885113    589          1  2013-04-29      0          0     1      1   \n",
              "889932    948          4  2013-04-25      0          5     1      1   \n",
              "933937    353          6  2013-03-16      0          0     1      0   \n",
              "975098    259          4  2013-02-07      0          0     1      1   \n",
              "982983    339          4  2013-01-31      0          0     1      0   \n",
              "984098    339          3  2013-01-30      0          0     1      0   \n",
              "990681    232          4  2013-01-24      0          0     1      1   \n",
              "999016    762          4  2013-01-17      0          0     1      0   \n",
              "\n",
              "       StateHoliday  SchoolHoliday StoreType Assortment  CompetitionDistance  \\\n",
              "86825             0              1         c          a               1140.0   \n",
              "142278            0              0         a          a               2640.0   \n",
              "196938            0              0         a          a                180.0   \n",
              "322053            0              0         c          c              11470.0   \n",
              "330176            0              0         a          a               2060.0   \n",
              "340348            0              0         a          a               2370.0   \n",
              "340860            0              0         a          a               2890.0   \n",
              "341795            0              0         a          a               2890.0   \n",
              "346232            0              1         d          c               3760.0   \n",
              "346734            0              0         a          a               1200.0   \n",
              "347669            0              1         a          a               1200.0   \n",
              "348604            0              1         a          a               1200.0   \n",
              "386065            0              1         a          a                150.0   \n",
              "386173            0              1         a          a                320.0   \n",
              "386227            0              1         a          a              15430.0   \n",
              "386304            0              1         c          a                210.0   \n",
              "387652            0              1         a          a                 30.0   \n",
              "387656            0              0         d          a              19700.0   \n",
              "397285            0              0         a          a                150.0   \n",
              "406384            0              0         c          a                470.0   \n",
              "407532            0              0         d          c                420.0   \n",
              "437311            0              0         c          a                110.0   \n",
              "438426            0              0         c          a                110.0   \n",
              "477534            0              0         a          a                540.0   \n",
              "478649            0              0         a          a                540.0   \n",
              "506085            0              0         d          c               2140.0   \n",
              "512964            0              0         d          a               1120.0   \n",
              "525365            0              0         a          a                620.0   \n",
              "531396            0              0         c          c               1390.0   \n",
              "561199            0              0         c          a                430.0   \n",
              "562314            0              0         c          a                430.0   \n",
              "582982            0              0         a          a               4080.0   \n",
              "584097            0              0         a          a               4080.0   \n",
              "591147            0              0         a          a                 40.0   \n",
              "592262            0              0         a          a                 40.0   \n",
              "744697            0              1         a          c               7860.0   \n",
              "750000            0              1         a          a                460.0   \n",
              "772836            0              1         a          a                480.0   \n",
              "805283            0              0         a          c                 70.0   \n",
              "806398            0              0         a          c                 70.0   \n",
              "817174            0              0         a          a                 90.0   \n",
              "818289            0              0         a          a                 90.0   \n",
              "843969            0              0         a          c                830.0   \n",
              "872940            0              0         a          c                620.0   \n",
              "874853            0              0         a          c              13620.0   \n",
              "875968            0              0         a          c              13620.0   \n",
              "885113            0              0         a          c                360.0   \n",
              "889932            0              0         b          b               1430.0   \n",
              "933937            0              0         b          b                900.0   \n",
              "975098            0              0         b          b                210.0   \n",
              "982983            0              0         a          c               2280.0   \n",
              "984098            0              0         a          c               2280.0   \n",
              "990681            0              0         c          c              13570.0   \n",
              "999016            0              0         d          c               1280.0   \n",
              "\n",
              "        CompetitionOpenSinceMonth  CompetitionOpenSinceYear  Promo2  \\\n",
              "86825                         5.0                    2011.0       1   \n",
              "142278                       12.0                    2005.0       1   \n",
              "196938                        0.0                       0.0       1   \n",
              "322053                       10.0                    2009.0       1   \n",
              "330176                       10.0                    2008.0       0   \n",
              "340348                        0.0                       0.0       0   \n",
              "340860                       12.0                    2007.0       1   \n",
              "341795                       12.0                    2007.0       1   \n",
              "346232                        2.0                    2009.0       0   \n",
              "346734                       10.0                    2014.0       1   \n",
              "347669                       10.0                    2014.0       1   \n",
              "348604                       10.0                    2014.0       1   \n",
              "386065                       12.0                    2007.0       1   \n",
              "386173                        0.0                       0.0       1   \n",
              "386227                       11.0                    2012.0       1   \n",
              "386304                        0.0                       0.0       1   \n",
              "387652                        4.0                    2013.0       0   \n",
              "387656                        0.0                       0.0       1   \n",
              "397285                       12.0                    2007.0       1   \n",
              "406384                        3.0                    2007.0       1   \n",
              "407532                        6.0                    2014.0       0   \n",
              "437311                       11.0                    2008.0       0   \n",
              "438426                       11.0                    2008.0       0   \n",
              "477534                        0.0                       0.0       1   \n",
              "478649                        0.0                       0.0       1   \n",
              "506085                        7.0                    2013.0       0   \n",
              "512964                        5.0                    2007.0       1   \n",
              "525365                       10.0                    2014.0       1   \n",
              "531396                       12.0                    2004.0       0   \n",
              "561199                        4.0                    2003.0       0   \n",
              "562314                        4.0                    2003.0       0   \n",
              "582982                        3.0                    2011.0       1   \n",
              "584097                        3.0                    2011.0       1   \n",
              "591147                        3.0                    2014.0       1   \n",
              "592262                        3.0                    2014.0       1   \n",
              "744697                        5.0                    2005.0       0   \n",
              "750000                       11.0                    2014.0       1   \n",
              "772836                        0.0                       0.0       0   \n",
              "805283                        6.0                    1990.0       1   \n",
              "806398                        6.0                    1990.0       1   \n",
              "817174                       12.0                    2012.0       1   \n",
              "818289                       12.0                    2012.0       1   \n",
              "843969                        0.0                       0.0       1   \n",
              "872940                        0.0                       0.0       1   \n",
              "874853                        0.0                       0.0       1   \n",
              "875968                        0.0                       0.0       1   \n",
              "885113                        0.0                       0.0       1   \n",
              "889932                        0.0                       0.0       0   \n",
              "933937                        0.0                       0.0       1   \n",
              "975098                        0.0                       0.0       0   \n",
              "982983                        0.0                       0.0       1   \n",
              "984098                        0.0                       0.0       1   \n",
              "990681                        5.0                    2010.0       1   \n",
              "999016                        0.0                       0.0       1   \n",
              "\n",
              "        Promo2SinceWeek  Promo2SinceYear     PromoInterval  \n",
              "86825              14.0           2012.0  Mar,Jun,Sept,Dec  \n",
              "142278             31.0           2013.0   Feb,May,Aug,Nov  \n",
              "196938              5.0           2013.0   Jan,Apr,Jul,Oct  \n",
              "322053             18.0           2014.0   Jan,Apr,Jul,Oct  \n",
              "330176              0.0              0.0                 0  \n",
              "340348              0.0              0.0                 0  \n",
              "340860             10.0           2014.0  Mar,Jun,Sept,Dec  \n",
              "341795             10.0           2014.0  Mar,Jun,Sept,Dec  \n",
              "346232              0.0              0.0                 0  \n",
              "346734              6.0           2015.0  Mar,Jun,Sept,Dec  \n",
              "347669              6.0           2015.0  Mar,Jun,Sept,Dec  \n",
              "348604              6.0           2015.0  Mar,Jun,Sept,Dec  \n",
              "386065             10.0           2014.0  Mar,Jun,Sept,Dec  \n",
              "386173             45.0           2009.0   Feb,May,Aug,Nov  \n",
              "386227             18.0           2011.0   Feb,May,Aug,Nov  \n",
              "386304             36.0           2013.0  Mar,Jun,Sept,Dec  \n",
              "387652              0.0              0.0                 0  \n",
              "387656             37.0           2009.0   Jan,Apr,Jul,Oct  \n",
              "397285             10.0           2014.0  Mar,Jun,Sept,Dec  \n",
              "406384              1.0           2012.0   Jan,Apr,Jul,Oct  \n",
              "407532              0.0              0.0                 0  \n",
              "437311              0.0              0.0                 0  \n",
              "438426              0.0              0.0                 0  \n",
              "477534             14.0           2011.0   Jan,Apr,Jul,Oct  \n",
              "478649             14.0           2011.0   Jan,Apr,Jul,Oct  \n",
              "506085              0.0              0.0                 0  \n",
              "512964             31.0           2013.0   Jan,Apr,Jul,Oct  \n",
              "525365             18.0           2014.0   Feb,May,Aug,Nov  \n",
              "531396              0.0              0.0                 0  \n",
              "561199              0.0              0.0                 0  \n",
              "562314              0.0              0.0                 0  \n",
              "582982             13.0           2010.0   Jan,Apr,Jul,Oct  \n",
              "584097             13.0           2010.0   Jan,Apr,Jul,Oct  \n",
              "591147              1.0           2014.0   Jan,Apr,Jul,Oct  \n",
              "592262              1.0           2014.0   Jan,Apr,Jul,Oct  \n",
              "744697              0.0              0.0                 0  \n",
              "750000             31.0           2013.0   Feb,May,Aug,Nov  \n",
              "772836              0.0              0.0                 0  \n",
              "805283             22.0           2012.0  Mar,Jun,Sept,Dec  \n",
              "806398             22.0           2012.0  Mar,Jun,Sept,Dec  \n",
              "817174             14.0           2011.0   Jan,Apr,Jul,Oct  \n",
              "818289             14.0           2011.0   Jan,Apr,Jul,Oct  \n",
              "843969             27.0           2013.0   Jan,Apr,Jul,Oct  \n",
              "872940              1.0           2014.0  Mar,Jun,Sept,Dec  \n",
              "874853             10.0           2014.0  Mar,Jun,Sept,Dec  \n",
              "875968             10.0           2014.0  Mar,Jun,Sept,Dec  \n",
              "885113             18.0           2013.0   Feb,May,Aug,Nov  \n",
              "889932              0.0              0.0                 0  \n",
              "933937             14.0           2013.0   Feb,May,Aug,Nov  \n",
              "975098              0.0              0.0                 0  \n",
              "982983             10.0           2013.0  Mar,Jun,Sept,Dec  \n",
              "984098             10.0           2013.0  Mar,Jun,Sept,Dec  \n",
              "990681             10.0           2013.0  Mar,Jun,Sept,Dec  \n",
              "999016             10.0           2013.0  Mar,Jun,Sept,Dec  "
            ],
            "text/html": [
              "\n",
              "  <div id=\"df-ebb497de-0cde-4dd6-b3b7-5cedfd80a77d\">\n",
              "    <div class=\"colab-df-container\">\n",
              "      <div>\n",
              "<style scoped>\n",
              "    .dataframe tbody tr th:only-of-type {\n",
              "        vertical-align: middle;\n",
              "    }\n",
              "\n",
              "    .dataframe tbody tr th {\n",
              "        vertical-align: top;\n",
              "    }\n",
              "\n",
              "    .dataframe thead th {\n",
              "        text-align: right;\n",
              "    }\n",
              "</style>\n",
              "<table border=\"1\" class=\"dataframe\">\n",
              "  <thead>\n",
              "    <tr style=\"text-align: right;\">\n",
              "      <th></th>\n",
              "      <th>Store</th>\n",
              "      <th>DayOfWeek</th>\n",
              "      <th>Date</th>\n",
              "      <th>Sales</th>\n",
              "      <th>Customers</th>\n",
              "      <th>Open</th>\n",
              "      <th>Promo</th>\n",
              "      <th>StateHoliday</th>\n",
              "      <th>SchoolHoliday</th>\n",
              "      <th>StoreType</th>\n",
              "      <th>Assortment</th>\n",
              "      <th>CompetitionDistance</th>\n",
              "      <th>CompetitionOpenSinceMonth</th>\n",
              "      <th>CompetitionOpenSinceYear</th>\n",
              "      <th>Promo2</th>\n",
              "      <th>Promo2SinceWeek</th>\n",
              "      <th>Promo2SinceYear</th>\n",
              "      <th>PromoInterval</th>\n",
              "    </tr>\n",
              "  </thead>\n",
              "  <tbody>\n",
              "    <tr>\n",
              "      <th>86825</th>\n",
              "      <td>971</td>\n",
              "      <td>5</td>\n",
              "      <td>2015-05-15</td>\n",
              "      <td>0</td>\n",
              "      <td>0</td>\n",
              "      <td>1</td>\n",
              "      <td>0</td>\n",
              "      <td>0</td>\n",
              "      <td>1</td>\n",
              "      <td>c</td>\n",
              "      <td>a</td>\n",
              "      <td>1140.0</td>\n",
              "      <td>5.0</td>\n",
              "      <td>2011.0</td>\n",
              "      <td>1</td>\n",
              "      <td>14.0</td>\n",
              "      <td>2012.0</td>\n",
              "      <td>Mar,Jun,Sept,Dec</td>\n",
              "    </tr>\n",
              "    <tr>\n",
              "      <th>142278</th>\n",
              "      <td>674</td>\n",
              "      <td>4</td>\n",
              "      <td>2015-03-26</td>\n",
              "      <td>0</td>\n",
              "      <td>0</td>\n",
              "      <td>1</td>\n",
              "      <td>0</td>\n",
              "      <td>0</td>\n",
              "      <td>0</td>\n",
              "      <td>a</td>\n",
              "      <td>a</td>\n",
              "      <td>2640.0</td>\n",
              "      <td>12.0</td>\n",
              "      <td>2005.0</td>\n",
              "      <td>1</td>\n",
              "      <td>31.0</td>\n",
              "      <td>2013.0</td>\n",
              "      <td>Feb,May,Aug,Nov</td>\n",
              "    </tr>\n",
              "    <tr>\n",
              "      <th>196938</th>\n",
              "      <td>699</td>\n",
              "      <td>4</td>\n",
              "      <td>2015-02-05</td>\n",
              "      <td>0</td>\n",
              "      <td>0</td>\n",
              "      <td>1</td>\n",
              "      <td>1</td>\n",
              "      <td>0</td>\n",
              "      <td>0</td>\n",
              "      <td>a</td>\n",
              "      <td>a</td>\n",
              "      <td>180.0</td>\n",
              "      <td>0.0</td>\n",
              "      <td>0.0</td>\n",
              "      <td>1</td>\n",
              "      <td>5.0</td>\n",
              "      <td>2013.0</td>\n",
              "      <td>Jan,Apr,Jul,Oct</td>\n",
              "    </tr>\n",
              "    <tr>\n",
              "      <th>322053</th>\n",
              "      <td>708</td>\n",
              "      <td>3</td>\n",
              "      <td>2014-10-01</td>\n",
              "      <td>0</td>\n",
              "      <td>0</td>\n",
              "      <td>1</td>\n",
              "      <td>1</td>\n",
              "      <td>0</td>\n",
              "      <td>0</td>\n",
              "      <td>c</td>\n",
              "      <td>c</td>\n",
              "      <td>11470.0</td>\n",
              "      <td>10.0</td>\n",
              "      <td>2009.0</td>\n",
              "      <td>1</td>\n",
              "      <td>18.0</td>\n",
              "      <td>2014.0</td>\n",
              "      <td>Jan,Apr,Jul,Oct</td>\n",
              "    </tr>\n",
              "    <tr>\n",
              "      <th>330176</th>\n",
              "      <td>357</td>\n",
              "      <td>1</td>\n",
              "      <td>2014-09-22</td>\n",
              "      <td>0</td>\n",
              "      <td>0</td>\n",
              "      <td>1</td>\n",
              "      <td>0</td>\n",
              "      <td>0</td>\n",
              "      <td>0</td>\n",
              "      <td>a</td>\n",
              "      <td>a</td>\n",
              "      <td>2060.0</td>\n",
              "      <td>10.0</td>\n",
              "      <td>2008.0</td>\n",
              "      <td>0</td>\n",
              "      <td>0.0</td>\n",
              "      <td>0.0</td>\n",
              "      <td>0</td>\n",
              "    </tr>\n",
              "    <tr>\n",
              "      <th>340348</th>\n",
              "      <td>227</td>\n",
              "      <td>4</td>\n",
              "      <td>2014-09-11</td>\n",
              "      <td>0</td>\n",
              "      <td>0</td>\n",
              "      <td>1</td>\n",
              "      <td>0</td>\n",
              "      <td>0</td>\n",
              "      <td>0</td>\n",
              "      <td>a</td>\n",
              "      <td>a</td>\n",
              "      <td>2370.0</td>\n",
              "      <td>0.0</td>\n",
              "      <td>0.0</td>\n",
              "      <td>0</td>\n",
              "      <td>0.0</td>\n",
              "      <td>0.0</td>\n",
              "      <td>0</td>\n",
              "    </tr>\n",
              "    <tr>\n",
              "      <th>340860</th>\n",
              "      <td>835</td>\n",
              "      <td>4</td>\n",
              "      <td>2014-09-11</td>\n",
              "      <td>0</td>\n",
              "      <td>0</td>\n",
              "      <td>1</td>\n",
              "      <td>0</td>\n",
              "      <td>0</td>\n",
              "      <td>0</td>\n",
              "      <td>a</td>\n",
              "      <td>a</td>\n",
              "      <td>2890.0</td>\n",
              "      <td>12.0</td>\n",
              "      <td>2007.0</td>\n",
              "      <td>1</td>\n",
              "      <td>10.0</td>\n",
              "      <td>2014.0</td>\n",
              "      <td>Mar,Jun,Sept,Dec</td>\n",
              "    </tr>\n",
              "    <tr>\n",
              "      <th>341795</th>\n",
              "      <td>835</td>\n",
              "      <td>3</td>\n",
              "      <td>2014-09-10</td>\n",
              "      <td>0</td>\n",
              "      <td>0</td>\n",
              "      <td>1</td>\n",
              "      <td>0</td>\n",
              "      <td>0</td>\n",
              "      <td>0</td>\n",
              "      <td>a</td>\n",
              "      <td>a</td>\n",
              "      <td>2890.0</td>\n",
              "      <td>12.0</td>\n",
              "      <td>2007.0</td>\n",
              "      <td>1</td>\n",
              "      <td>10.0</td>\n",
              "      <td>2014.0</td>\n",
              "      <td>Mar,Jun,Sept,Dec</td>\n",
              "    </tr>\n",
              "    <tr>\n",
              "      <th>346232</th>\n",
              "      <td>548</td>\n",
              "      <td>5</td>\n",
              "      <td>2014-09-05</td>\n",
              "      <td>0</td>\n",
              "      <td>0</td>\n",
              "      <td>1</td>\n",
              "      <td>1</td>\n",
              "      <td>0</td>\n",
              "      <td>1</td>\n",
              "      <td>d</td>\n",
              "      <td>c</td>\n",
              "      <td>3760.0</td>\n",
              "      <td>2.0</td>\n",
              "      <td>2009.0</td>\n",
              "      <td>0</td>\n",
              "      <td>0.0</td>\n",
              "      <td>0.0</td>\n",
              "      <td>0</td>\n",
              "    </tr>\n",
              "    <tr>\n",
              "      <th>346734</th>\n",
              "      <td>28</td>\n",
              "      <td>4</td>\n",
              "      <td>2014-09-04</td>\n",
              "      <td>0</td>\n",
              "      <td>0</td>\n",
              "      <td>1</td>\n",
              "      <td>1</td>\n",
              "      <td>0</td>\n",
              "      <td>0</td>\n",
              "      <td>a</td>\n",
              "      <td>a</td>\n",
              "      <td>1200.0</td>\n",
              "      <td>10.0</td>\n",
              "      <td>2014.0</td>\n",
              "      <td>1</td>\n",
              "      <td>6.0</td>\n",
              "      <td>2015.0</td>\n",
              "      <td>Mar,Jun,Sept,Dec</td>\n",
              "    </tr>\n",
              "    <tr>\n",
              "      <th>347669</th>\n",
              "      <td>28</td>\n",
              "      <td>3</td>\n",
              "      <td>2014-09-03</td>\n",
              "      <td>0</td>\n",
              "      <td>0</td>\n",
              "      <td>1</td>\n",
              "      <td>1</td>\n",
              "      <td>0</td>\n",
              "      <td>1</td>\n",
              "      <td>a</td>\n",
              "      <td>a</td>\n",
              "      <td>1200.0</td>\n",
              "      <td>10.0</td>\n",
              "      <td>2014.0</td>\n",
              "      <td>1</td>\n",
              "      <td>6.0</td>\n",
              "      <td>2015.0</td>\n",
              "      <td>Mar,Jun,Sept,Dec</td>\n",
              "    </tr>\n",
              "    <tr>\n",
              "      <th>348604</th>\n",
              "      <td>28</td>\n",
              "      <td>2</td>\n",
              "      <td>2014-09-02</td>\n",
              "      <td>0</td>\n",
              "      <td>0</td>\n",
              "      <td>1</td>\n",
              "      <td>1</td>\n",
              "      <td>0</td>\n",
              "      <td>1</td>\n",
              "      <td>a</td>\n",
              "      <td>a</td>\n",
              "      <td>1200.0</td>\n",
              "      <td>10.0</td>\n",
              "      <td>2014.0</td>\n",
              "      <td>1</td>\n",
              "      <td>6.0</td>\n",
              "      <td>2015.0</td>\n",
              "      <td>Mar,Jun,Sept,Dec</td>\n",
              "    </tr>\n",
              "    <tr>\n",
              "      <th>386065</th>\n",
              "      <td>102</td>\n",
              "      <td>4</td>\n",
              "      <td>2014-07-24</td>\n",
              "      <td>0</td>\n",
              "      <td>0</td>\n",
              "      <td>1</td>\n",
              "      <td>0</td>\n",
              "      <td>0</td>\n",
              "      <td>1</td>\n",
              "      <td>a</td>\n",
              "      <td>a</td>\n",
              "      <td>150.0</td>\n",
              "      <td>12.0</td>\n",
              "      <td>2007.0</td>\n",
              "      <td>1</td>\n",
              "      <td>10.0</td>\n",
              "      <td>2014.0</td>\n",
              "      <td>Mar,Jun,Sept,Dec</td>\n",
              "    </tr>\n",
              "    <tr>\n",
              "      <th>386173</th>\n",
              "      <td>238</td>\n",
              "      <td>4</td>\n",
              "      <td>2014-07-24</td>\n",
              "      <td>0</td>\n",
              "      <td>0</td>\n",
              "      <td>1</td>\n",
              "      <td>0</td>\n",
              "      <td>0</td>\n",
              "      <td>1</td>\n",
              "      <td>a</td>\n",
              "      <td>a</td>\n",
              "      <td>320.0</td>\n",
              "      <td>0.0</td>\n",
              "      <td>0.0</td>\n",
              "      <td>1</td>\n",
              "      <td>45.0</td>\n",
              "      <td>2009.0</td>\n",
              "      <td>Feb,May,Aug,Nov</td>\n",
              "    </tr>\n",
              "    <tr>\n",
              "      <th>386227</th>\n",
              "      <td>303</td>\n",
              "      <td>4</td>\n",
              "      <td>2014-07-24</td>\n",
              "      <td>0</td>\n",
              "      <td>0</td>\n",
              "      <td>1</td>\n",
              "      <td>0</td>\n",
              "      <td>0</td>\n",
              "      <td>1</td>\n",
              "      <td>a</td>\n",
              "      <td>a</td>\n",
              "      <td>15430.0</td>\n",
              "      <td>11.0</td>\n",
              "      <td>2012.0</td>\n",
              "      <td>1</td>\n",
              "      <td>18.0</td>\n",
              "      <td>2011.0</td>\n",
              "      <td>Feb,May,Aug,Nov</td>\n",
              "    </tr>\n",
              "    <tr>\n",
              "      <th>386304</th>\n",
              "      <td>387</td>\n",
              "      <td>4</td>\n",
              "      <td>2014-07-24</td>\n",
              "      <td>0</td>\n",
              "      <td>0</td>\n",
              "      <td>1</td>\n",
              "      <td>0</td>\n",
              "      <td>0</td>\n",
              "      <td>1</td>\n",
              "      <td>c</td>\n",
              "      <td>a</td>\n",
              "      <td>210.0</td>\n",
              "      <td>0.0</td>\n",
              "      <td>0.0</td>\n",
              "      <td>1</td>\n",
              "      <td>36.0</td>\n",
              "      <td>2013.0</td>\n",
              "      <td>Mar,Jun,Sept,Dec</td>\n",
              "    </tr>\n",
              "    <tr>\n",
              "      <th>387652</th>\n",
              "      <td>882</td>\n",
              "      <td>3</td>\n",
              "      <td>2014-07-23</td>\n",
              "      <td>0</td>\n",
              "      <td>0</td>\n",
              "      <td>1</td>\n",
              "      <td>0</td>\n",
              "      <td>0</td>\n",
              "      <td>1</td>\n",
              "      <td>a</td>\n",
              "      <td>a</td>\n",
              "      <td>30.0</td>\n",
              "      <td>4.0</td>\n",
              "      <td>2013.0</td>\n",
              "      <td>0</td>\n",
              "      <td>0.0</td>\n",
              "      <td>0.0</td>\n",
              "      <td>0</td>\n",
              "    </tr>\n",
              "    <tr>\n",
              "      <th>387656</th>\n",
              "      <td>887</td>\n",
              "      <td>3</td>\n",
              "      <td>2014-07-23</td>\n",
              "      <td>0</td>\n",
              "      <td>0</td>\n",
              "      <td>1</td>\n",
              "      <td>0</td>\n",
              "      <td>0</td>\n",
              "      <td>0</td>\n",
              "      <td>d</td>\n",
              "      <td>a</td>\n",
              "      <td>19700.0</td>\n",
              "      <td>0.0</td>\n",
              "      <td>0.0</td>\n",
              "      <td>1</td>\n",
              "      <td>37.0</td>\n",
              "      <td>2009.0</td>\n",
              "      <td>Jan,Apr,Jul,Oct</td>\n",
              "    </tr>\n",
              "    <tr>\n",
              "      <th>397285</th>\n",
              "      <td>102</td>\n",
              "      <td>6</td>\n",
              "      <td>2014-07-12</td>\n",
              "      <td>0</td>\n",
              "      <td>0</td>\n",
              "      <td>1</td>\n",
              "      <td>0</td>\n",
              "      <td>0</td>\n",
              "      <td>0</td>\n",
              "      <td>a</td>\n",
              "      <td>a</td>\n",
              "      <td>150.0</td>\n",
              "      <td>12.0</td>\n",
              "      <td>2007.0</td>\n",
              "      <td>1</td>\n",
              "      <td>10.0</td>\n",
              "      <td>2014.0</td>\n",
              "      <td>Mar,Jun,Sept,Dec</td>\n",
              "    </tr>\n",
              "    <tr>\n",
              "      <th>406384</th>\n",
              "      <td>925</td>\n",
              "      <td>4</td>\n",
              "      <td>2014-07-03</td>\n",
              "      <td>0</td>\n",
              "      <td>0</td>\n",
              "      <td>1</td>\n",
              "      <td>1</td>\n",
              "      <td>0</td>\n",
              "      <td>0</td>\n",
              "      <td>c</td>\n",
              "      <td>a</td>\n",
              "      <td>470.0</td>\n",
              "      <td>3.0</td>\n",
              "      <td>2007.0</td>\n",
              "      <td>1</td>\n",
              "      <td>1.0</td>\n",
              "      <td>2012.0</td>\n",
              "      <td>Jan,Apr,Jul,Oct</td>\n",
              "    </tr>\n",
              "    <tr>\n",
              "      <th>407532</th>\n",
              "      <td>57</td>\n",
              "      <td>2</td>\n",
              "      <td>2014-07-01</td>\n",
              "      <td>0</td>\n",
              "      <td>0</td>\n",
              "      <td>1</td>\n",
              "      <td>1</td>\n",
              "      <td>0</td>\n",
              "      <td>0</td>\n",
              "      <td>d</td>\n",
              "      <td>c</td>\n",
              "      <td>420.0</td>\n",
              "      <td>6.0</td>\n",
              "      <td>2014.0</td>\n",
              "      <td>0</td>\n",
              "      <td>0.0</td>\n",
              "      <td>0.0</td>\n",
              "      <td>0</td>\n",
              "    </tr>\n",
              "    <tr>\n",
              "      <th>437311</th>\n",
              "      <td>1017</td>\n",
              "      <td>4</td>\n",
              "      <td>2014-06-05</td>\n",
              "      <td>0</td>\n",
              "      <td>0</td>\n",
              "      <td>1</td>\n",
              "      <td>1</td>\n",
              "      <td>0</td>\n",
              "      <td>0</td>\n",
              "      <td>c</td>\n",
              "      <td>a</td>\n",
              "      <td>110.0</td>\n",
              "      <td>11.0</td>\n",
              "      <td>2008.0</td>\n",
              "      <td>0</td>\n",
              "      <td>0.0</td>\n",
              "      <td>0.0</td>\n",
              "      <td>0</td>\n",
              "    </tr>\n",
              "    <tr>\n",
              "      <th>438426</th>\n",
              "      <td>1017</td>\n",
              "      <td>3</td>\n",
              "      <td>2014-06-04</td>\n",
              "      <td>0</td>\n",
              "      <td>0</td>\n",
              "      <td>1</td>\n",
              "      <td>1</td>\n",
              "      <td>0</td>\n",
              "      <td>0</td>\n",
              "      <td>c</td>\n",
              "      <td>a</td>\n",
              "      <td>110.0</td>\n",
              "      <td>11.0</td>\n",
              "      <td>2008.0</td>\n",
              "      <td>0</td>\n",
              "      <td>0.0</td>\n",
              "      <td>0.0</td>\n",
              "      <td>0</td>\n",
              "    </tr>\n",
              "    <tr>\n",
              "      <th>477534</th>\n",
              "      <td>1100</td>\n",
              "      <td>3</td>\n",
              "      <td>2014-04-30</td>\n",
              "      <td>0</td>\n",
              "      <td>0</td>\n",
              "      <td>1</td>\n",
              "      <td>1</td>\n",
              "      <td>0</td>\n",
              "      <td>0</td>\n",
              "      <td>a</td>\n",
              "      <td>a</td>\n",
              "      <td>540.0</td>\n",
              "      <td>0.0</td>\n",
              "      <td>0.0</td>\n",
              "      <td>1</td>\n",
              "      <td>14.0</td>\n",
              "      <td>2011.0</td>\n",
              "      <td>Jan,Apr,Jul,Oct</td>\n",
              "    </tr>\n",
              "    <tr>\n",
              "      <th>478649</th>\n",
              "      <td>1100</td>\n",
              "      <td>2</td>\n",
              "      <td>2014-04-29</td>\n",
              "      <td>0</td>\n",
              "      <td>3</td>\n",
              "      <td>1</td>\n",
              "      <td>1</td>\n",
              "      <td>0</td>\n",
              "      <td>0</td>\n",
              "      <td>a</td>\n",
              "      <td>a</td>\n",
              "      <td>540.0</td>\n",
              "      <td>0.0</td>\n",
              "      <td>0.0</td>\n",
              "      <td>1</td>\n",
              "      <td>14.0</td>\n",
              "      <td>2011.0</td>\n",
              "      <td>Jan,Apr,Jul,Oct</td>\n",
              "    </tr>\n",
              "    <tr>\n",
              "      <th>506085</th>\n",
              "      <td>661</td>\n",
              "      <td>5</td>\n",
              "      <td>2014-04-04</td>\n",
              "      <td>0</td>\n",
              "      <td>0</td>\n",
              "      <td>1</td>\n",
              "      <td>1</td>\n",
              "      <td>0</td>\n",
              "      <td>0</td>\n",
              "      <td>d</td>\n",
              "      <td>c</td>\n",
              "      <td>2140.0</td>\n",
              "      <td>7.0</td>\n",
              "      <td>2013.0</td>\n",
              "      <td>0</td>\n",
              "      <td>0.0</td>\n",
              "      <td>0.0</td>\n",
              "      <td>0</td>\n",
              "    </tr>\n",
              "    <tr>\n",
              "      <th>512964</th>\n",
              "      <td>850</td>\n",
              "      <td>6</td>\n",
              "      <td>2014-03-29</td>\n",
              "      <td>0</td>\n",
              "      <td>0</td>\n",
              "      <td>1</td>\n",
              "      <td>0</td>\n",
              "      <td>0</td>\n",
              "      <td>0</td>\n",
              "      <td>d</td>\n",
              "      <td>a</td>\n",
              "      <td>1120.0</td>\n",
              "      <td>5.0</td>\n",
              "      <td>2007.0</td>\n",
              "      <td>1</td>\n",
              "      <td>31.0</td>\n",
              "      <td>2013.0</td>\n",
              "      <td>Jan,Apr,Jul,Oct</td>\n",
              "    </tr>\n",
              "    <tr>\n",
              "      <th>525365</th>\n",
              "      <td>986</td>\n",
              "      <td>2</td>\n",
              "      <td>2014-03-18</td>\n",
              "      <td>0</td>\n",
              "      <td>0</td>\n",
              "      <td>1</td>\n",
              "      <td>1</td>\n",
              "      <td>0</td>\n",
              "      <td>0</td>\n",
              "      <td>a</td>\n",
              "      <td>a</td>\n",
              "      <td>620.0</td>\n",
              "      <td>10.0</td>\n",
              "      <td>2014.0</td>\n",
              "      <td>1</td>\n",
              "      <td>18.0</td>\n",
              "      <td>2014.0</td>\n",
              "      <td>Feb,May,Aug,Nov</td>\n",
              "    </tr>\n",
              "    <tr>\n",
              "      <th>531396</th>\n",
              "      <td>327</td>\n",
              "      <td>3</td>\n",
              "      <td>2014-03-12</td>\n",
              "      <td>0</td>\n",
              "      <td>0</td>\n",
              "      <td>1</td>\n",
              "      <td>0</td>\n",
              "      <td>0</td>\n",
              "      <td>0</td>\n",
              "      <td>c</td>\n",
              "      <td>c</td>\n",
              "      <td>1390.0</td>\n",
              "      <td>12.0</td>\n",
              "      <td>2004.0</td>\n",
              "      <td>0</td>\n",
              "      <td>0.0</td>\n",
              "      <td>0.0</td>\n",
              "      <td>0</td>\n",
              "    </tr>\n",
              "    <tr>\n",
              "      <th>561199</th>\n",
              "      <td>25</td>\n",
              "      <td>4</td>\n",
              "      <td>2014-02-13</td>\n",
              "      <td>0</td>\n",
              "      <td>0</td>\n",
              "      <td>1</td>\n",
              "      <td>0</td>\n",
              "      <td>0</td>\n",
              "      <td>0</td>\n",
              "      <td>c</td>\n",
              "      <td>a</td>\n",
              "      <td>430.0</td>\n",
              "      <td>4.0</td>\n",
              "      <td>2003.0</td>\n",
              "      <td>0</td>\n",
              "      <td>0.0</td>\n",
              "      <td>0.0</td>\n",
              "      <td>0</td>\n",
              "    </tr>\n",
              "    <tr>\n",
              "      <th>562314</th>\n",
              "      <td>25</td>\n",
              "      <td>3</td>\n",
              "      <td>2014-02-12</td>\n",
              "      <td>0</td>\n",
              "      <td>0</td>\n",
              "      <td>1</td>\n",
              "      <td>0</td>\n",
              "      <td>0</td>\n",
              "      <td>0</td>\n",
              "      <td>c</td>\n",
              "      <td>a</td>\n",
              "      <td>430.0</td>\n",
              "      <td>4.0</td>\n",
              "      <td>2003.0</td>\n",
              "      <td>0</td>\n",
              "      <td>0.0</td>\n",
              "      <td>0.0</td>\n",
              "      <td>0</td>\n",
              "    </tr>\n",
              "    <tr>\n",
              "      <th>582982</th>\n",
              "      <td>623</td>\n",
              "      <td>6</td>\n",
              "      <td>2014-01-25</td>\n",
              "      <td>0</td>\n",
              "      <td>0</td>\n",
              "      <td>1</td>\n",
              "      <td>0</td>\n",
              "      <td>0</td>\n",
              "      <td>0</td>\n",
              "      <td>a</td>\n",
              "      <td>a</td>\n",
              "      <td>4080.0</td>\n",
              "      <td>3.0</td>\n",
              "      <td>2011.0</td>\n",
              "      <td>1</td>\n",
              "      <td>13.0</td>\n",
              "      <td>2010.0</td>\n",
              "      <td>Jan,Apr,Jul,Oct</td>\n",
              "    </tr>\n",
              "    <tr>\n",
              "      <th>584097</th>\n",
              "      <td>623</td>\n",
              "      <td>5</td>\n",
              "      <td>2014-01-24</td>\n",
              "      <td>0</td>\n",
              "      <td>0</td>\n",
              "      <td>1</td>\n",
              "      <td>1</td>\n",
              "      <td>0</td>\n",
              "      <td>0</td>\n",
              "      <td>a</td>\n",
              "      <td>a</td>\n",
              "      <td>4080.0</td>\n",
              "      <td>3.0</td>\n",
              "      <td>2011.0</td>\n",
              "      <td>1</td>\n",
              "      <td>13.0</td>\n",
              "      <td>2010.0</td>\n",
              "      <td>Jan,Apr,Jul,Oct</td>\n",
              "    </tr>\n",
              "    <tr>\n",
              "      <th>591147</th>\n",
              "      <td>983</td>\n",
              "      <td>6</td>\n",
              "      <td>2014-01-18</td>\n",
              "      <td>0</td>\n",
              "      <td>0</td>\n",
              "      <td>1</td>\n",
              "      <td>0</td>\n",
              "      <td>0</td>\n",
              "      <td>0</td>\n",
              "      <td>a</td>\n",
              "      <td>a</td>\n",
              "      <td>40.0</td>\n",
              "      <td>3.0</td>\n",
              "      <td>2014.0</td>\n",
              "      <td>1</td>\n",
              "      <td>1.0</td>\n",
              "      <td>2014.0</td>\n",
              "      <td>Jan,Apr,Jul,Oct</td>\n",
              "    </tr>\n",
              "    <tr>\n",
              "      <th>592262</th>\n",
              "      <td>983</td>\n",
              "      <td>5</td>\n",
              "      <td>2014-01-17</td>\n",
              "      <td>0</td>\n",
              "      <td>0</td>\n",
              "      <td>1</td>\n",
              "      <td>0</td>\n",
              "      <td>0</td>\n",
              "      <td>0</td>\n",
              "      <td>a</td>\n",
              "      <td>a</td>\n",
              "      <td>40.0</td>\n",
              "      <td>3.0</td>\n",
              "      <td>2014.0</td>\n",
              "      <td>1</td>\n",
              "      <td>1.0</td>\n",
              "      <td>2014.0</td>\n",
              "      <td>Jan,Apr,Jul,Oct</td>\n",
              "    </tr>\n",
              "    <tr>\n",
              "      <th>744697</th>\n",
              "      <td>663</td>\n",
              "      <td>1</td>\n",
              "      <td>2013-09-02</td>\n",
              "      <td>0</td>\n",
              "      <td>0</td>\n",
              "      <td>1</td>\n",
              "      <td>0</td>\n",
              "      <td>0</td>\n",
              "      <td>1</td>\n",
              "      <td>a</td>\n",
              "      <td>c</td>\n",
              "      <td>7860.0</td>\n",
              "      <td>5.0</td>\n",
              "      <td>2005.0</td>\n",
              "      <td>0</td>\n",
              "      <td>0.0</td>\n",
              "      <td>0.0</td>\n",
              "      <td>0</td>\n",
              "    </tr>\n",
              "    <tr>\n",
              "      <th>750000</th>\n",
              "      <td>391</td>\n",
              "      <td>3</td>\n",
              "      <td>2013-08-28</td>\n",
              "      <td>0</td>\n",
              "      <td>0</td>\n",
              "      <td>1</td>\n",
              "      <td>1</td>\n",
              "      <td>0</td>\n",
              "      <td>1</td>\n",
              "      <td>a</td>\n",
              "      <td>a</td>\n",
              "      <td>460.0</td>\n",
              "      <td>11.0</td>\n",
              "      <td>2014.0</td>\n",
              "      <td>1</td>\n",
              "      <td>31.0</td>\n",
              "      <td>2013.0</td>\n",
              "      <td>Feb,May,Aug,Nov</td>\n",
              "    </tr>\n",
              "    <tr>\n",
              "      <th>772836</th>\n",
              "      <td>927</td>\n",
              "      <td>4</td>\n",
              "      <td>2013-08-08</td>\n",
              "      <td>0</td>\n",
              "      <td>0</td>\n",
              "      <td>1</td>\n",
              "      <td>0</td>\n",
              "      <td>0</td>\n",
              "      <td>1</td>\n",
              "      <td>a</td>\n",
              "      <td>a</td>\n",
              "      <td>480.0</td>\n",
              "      <td>0.0</td>\n",
              "      <td>0.0</td>\n",
              "      <td>0</td>\n",
              "      <td>0.0</td>\n",
              "      <td>0.0</td>\n",
              "      <td>0</td>\n",
              "    </tr>\n",
              "    <tr>\n",
              "      <th>805283</th>\n",
              "      <td>1039</td>\n",
              "      <td>3</td>\n",
              "      <td>2013-07-10</td>\n",
              "      <td>0</td>\n",
              "      <td>0</td>\n",
              "      <td>1</td>\n",
              "      <td>0</td>\n",
              "      <td>0</td>\n",
              "      <td>0</td>\n",
              "      <td>a</td>\n",
              "      <td>c</td>\n",
              "      <td>70.0</td>\n",
              "      <td>6.0</td>\n",
              "      <td>1990.0</td>\n",
              "      <td>1</td>\n",
              "      <td>22.0</td>\n",
              "      <td>2012.0</td>\n",
              "      <td>Mar,Jun,Sept,Dec</td>\n",
              "    </tr>\n",
              "    <tr>\n",
              "      <th>806398</th>\n",
              "      <td>1039</td>\n",
              "      <td>2</td>\n",
              "      <td>2013-07-09</td>\n",
              "      <td>0</td>\n",
              "      <td>0</td>\n",
              "      <td>1</td>\n",
              "      <td>0</td>\n",
              "      <td>0</td>\n",
              "      <td>0</td>\n",
              "      <td>a</td>\n",
              "      <td>c</td>\n",
              "      <td>70.0</td>\n",
              "      <td>6.0</td>\n",
              "      <td>1990.0</td>\n",
              "      <td>1</td>\n",
              "      <td>22.0</td>\n",
              "      <td>2012.0</td>\n",
              "      <td>Mar,Jun,Sept,Dec</td>\n",
              "    </tr>\n",
              "    <tr>\n",
              "      <th>817174</th>\n",
              "      <td>665</td>\n",
              "      <td>6</td>\n",
              "      <td>2013-06-29</td>\n",
              "      <td>0</td>\n",
              "      <td>0</td>\n",
              "      <td>1</td>\n",
              "      <td>0</td>\n",
              "      <td>0</td>\n",
              "      <td>0</td>\n",
              "      <td>a</td>\n",
              "      <td>a</td>\n",
              "      <td>90.0</td>\n",
              "      <td>12.0</td>\n",
              "      <td>2012.0</td>\n",
              "      <td>1</td>\n",
              "      <td>14.0</td>\n",
              "      <td>2011.0</td>\n",
              "      <td>Jan,Apr,Jul,Oct</td>\n",
              "    </tr>\n",
              "    <tr>\n",
              "      <th>818289</th>\n",
              "      <td>665</td>\n",
              "      <td>5</td>\n",
              "      <td>2013-06-28</td>\n",
              "      <td>0</td>\n",
              "      <td>0</td>\n",
              "      <td>1</td>\n",
              "      <td>0</td>\n",
              "      <td>0</td>\n",
              "      <td>0</td>\n",
              "      <td>a</td>\n",
              "      <td>a</td>\n",
              "      <td>90.0</td>\n",
              "      <td>12.0</td>\n",
              "      <td>2012.0</td>\n",
              "      <td>1</td>\n",
              "      <td>14.0</td>\n",
              "      <td>2011.0</td>\n",
              "      <td>Jan,Apr,Jul,Oct</td>\n",
              "    </tr>\n",
              "    <tr>\n",
              "      <th>843969</th>\n",
              "      <td>700</td>\n",
              "      <td>3</td>\n",
              "      <td>2013-06-05</td>\n",
              "      <td>0</td>\n",
              "      <td>0</td>\n",
              "      <td>1</td>\n",
              "      <td>1</td>\n",
              "      <td>0</td>\n",
              "      <td>0</td>\n",
              "      <td>a</td>\n",
              "      <td>c</td>\n",
              "      <td>830.0</td>\n",
              "      <td>0.0</td>\n",
              "      <td>0.0</td>\n",
              "      <td>1</td>\n",
              "      <td>27.0</td>\n",
              "      <td>2013.0</td>\n",
              "      <td>Jan,Apr,Jul,Oct</td>\n",
              "    </tr>\n",
              "    <tr>\n",
              "      <th>872940</th>\n",
              "      <td>681</td>\n",
              "      <td>5</td>\n",
              "      <td>2013-05-10</td>\n",
              "      <td>0</td>\n",
              "      <td>0</td>\n",
              "      <td>1</td>\n",
              "      <td>0</td>\n",
              "      <td>0</td>\n",
              "      <td>0</td>\n",
              "      <td>a</td>\n",
              "      <td>c</td>\n",
              "      <td>620.0</td>\n",
              "      <td>0.0</td>\n",
              "      <td>0.0</td>\n",
              "      <td>1</td>\n",
              "      <td>1.0</td>\n",
              "      <td>2014.0</td>\n",
              "      <td>Mar,Jun,Sept,Dec</td>\n",
              "    </tr>\n",
              "    <tr>\n",
              "      <th>874853</th>\n",
              "      <td>364</td>\n",
              "      <td>3</td>\n",
              "      <td>2013-05-08</td>\n",
              "      <td>0</td>\n",
              "      <td>0</td>\n",
              "      <td>1</td>\n",
              "      <td>0</td>\n",
              "      <td>0</td>\n",
              "      <td>0</td>\n",
              "      <td>a</td>\n",
              "      <td>c</td>\n",
              "      <td>13620.0</td>\n",
              "      <td>0.0</td>\n",
              "      <td>0.0</td>\n",
              "      <td>1</td>\n",
              "      <td>10.0</td>\n",
              "      <td>2014.0</td>\n",
              "      <td>Mar,Jun,Sept,Dec</td>\n",
              "    </tr>\n",
              "    <tr>\n",
              "      <th>875968</th>\n",
              "      <td>364</td>\n",
              "      <td>2</td>\n",
              "      <td>2013-05-07</td>\n",
              "      <td>0</td>\n",
              "      <td>0</td>\n",
              "      <td>1</td>\n",
              "      <td>0</td>\n",
              "      <td>0</td>\n",
              "      <td>0</td>\n",
              "      <td>a</td>\n",
              "      <td>c</td>\n",
              "      <td>13620.0</td>\n",
              "      <td>0.0</td>\n",
              "      <td>0.0</td>\n",
              "      <td>1</td>\n",
              "      <td>10.0</td>\n",
              "      <td>2014.0</td>\n",
              "      <td>Mar,Jun,Sept,Dec</td>\n",
              "    </tr>\n",
              "    <tr>\n",
              "      <th>885113</th>\n",
              "      <td>589</td>\n",
              "      <td>1</td>\n",
              "      <td>2013-04-29</td>\n",
              "      <td>0</td>\n",
              "      <td>0</td>\n",
              "      <td>1</td>\n",
              "      <td>1</td>\n",
              "      <td>0</td>\n",
              "      <td>0</td>\n",
              "      <td>a</td>\n",
              "      <td>c</td>\n",
              "      <td>360.0</td>\n",
              "      <td>0.0</td>\n",
              "      <td>0.0</td>\n",
              "      <td>1</td>\n",
              "      <td>18.0</td>\n",
              "      <td>2013.0</td>\n",
              "      <td>Feb,May,Aug,Nov</td>\n",
              "    </tr>\n",
              "    <tr>\n",
              "      <th>889932</th>\n",
              "      <td>948</td>\n",
              "      <td>4</td>\n",
              "      <td>2013-04-25</td>\n",
              "      <td>0</td>\n",
              "      <td>5</td>\n",
              "      <td>1</td>\n",
              "      <td>1</td>\n",
              "      <td>0</td>\n",
              "      <td>0</td>\n",
              "      <td>b</td>\n",
              "      <td>b</td>\n",
              "      <td>1430.0</td>\n",
              "      <td>0.0</td>\n",
              "      <td>0.0</td>\n",
              "      <td>0</td>\n",
              "      <td>0.0</td>\n",
              "      <td>0.0</td>\n",
              "      <td>0</td>\n",
              "    </tr>\n",
              "    <tr>\n",
              "      <th>933937</th>\n",
              "      <td>353</td>\n",
              "      <td>6</td>\n",
              "      <td>2013-03-16</td>\n",
              "      <td>0</td>\n",
              "      <td>0</td>\n",
              "      <td>1</td>\n",
              "      <td>0</td>\n",
              "      <td>0</td>\n",
              "      <td>0</td>\n",
              "      <td>b</td>\n",
              "      <td>b</td>\n",
              "      <td>900.0</td>\n",
              "      <td>0.0</td>\n",
              "      <td>0.0</td>\n",
              "      <td>1</td>\n",
              "      <td>14.0</td>\n",
              "      <td>2013.0</td>\n",
              "      <td>Feb,May,Aug,Nov</td>\n",
              "    </tr>\n",
              "    <tr>\n",
              "      <th>975098</th>\n",
              "      <td>259</td>\n",
              "      <td>4</td>\n",
              "      <td>2013-02-07</td>\n",
              "      <td>0</td>\n",
              "      <td>0</td>\n",
              "      <td>1</td>\n",
              "      <td>1</td>\n",
              "      <td>0</td>\n",
              "      <td>0</td>\n",
              "      <td>b</td>\n",
              "      <td>b</td>\n",
              "      <td>210.0</td>\n",
              "      <td>0.0</td>\n",
              "      <td>0.0</td>\n",
              "      <td>0</td>\n",
              "      <td>0.0</td>\n",
              "      <td>0.0</td>\n",
              "      <td>0</td>\n",
              "    </tr>\n",
              "    <tr>\n",
              "      <th>982983</th>\n",
              "      <td>339</td>\n",
              "      <td>4</td>\n",
              "      <td>2013-01-31</td>\n",
              "      <td>0</td>\n",
              "      <td>0</td>\n",
              "      <td>1</td>\n",
              "      <td>0</td>\n",
              "      <td>0</td>\n",
              "      <td>0</td>\n",
              "      <td>a</td>\n",
              "      <td>c</td>\n",
              "      <td>2280.0</td>\n",
              "      <td>0.0</td>\n",
              "      <td>0.0</td>\n",
              "      <td>1</td>\n",
              "      <td>10.0</td>\n",
              "      <td>2013.0</td>\n",
              "      <td>Mar,Jun,Sept,Dec</td>\n",
              "    </tr>\n",
              "    <tr>\n",
              "      <th>984098</th>\n",
              "      <td>339</td>\n",
              "      <td>3</td>\n",
              "      <td>2013-01-30</td>\n",
              "      <td>0</td>\n",
              "      <td>0</td>\n",
              "      <td>1</td>\n",
              "      <td>0</td>\n",
              "      <td>0</td>\n",
              "      <td>0</td>\n",
              "      <td>a</td>\n",
              "      <td>c</td>\n",
              "      <td>2280.0</td>\n",
              "      <td>0.0</td>\n",
              "      <td>0.0</td>\n",
              "      <td>1</td>\n",
              "      <td>10.0</td>\n",
              "      <td>2013.0</td>\n",
              "      <td>Mar,Jun,Sept,Dec</td>\n",
              "    </tr>\n",
              "    <tr>\n",
              "      <th>990681</th>\n",
              "      <td>232</td>\n",
              "      <td>4</td>\n",
              "      <td>2013-01-24</td>\n",
              "      <td>0</td>\n",
              "      <td>0</td>\n",
              "      <td>1</td>\n",
              "      <td>1</td>\n",
              "      <td>0</td>\n",
              "      <td>0</td>\n",
              "      <td>c</td>\n",
              "      <td>c</td>\n",
              "      <td>13570.0</td>\n",
              "      <td>5.0</td>\n",
              "      <td>2010.0</td>\n",
              "      <td>1</td>\n",
              "      <td>10.0</td>\n",
              "      <td>2013.0</td>\n",
              "      <td>Mar,Jun,Sept,Dec</td>\n",
              "    </tr>\n",
              "    <tr>\n",
              "      <th>999016</th>\n",
              "      <td>762</td>\n",
              "      <td>4</td>\n",
              "      <td>2013-01-17</td>\n",
              "      <td>0</td>\n",
              "      <td>0</td>\n",
              "      <td>1</td>\n",
              "      <td>0</td>\n",
              "      <td>0</td>\n",
              "      <td>0</td>\n",
              "      <td>d</td>\n",
              "      <td>c</td>\n",
              "      <td>1280.0</td>\n",
              "      <td>0.0</td>\n",
              "      <td>0.0</td>\n",
              "      <td>1</td>\n",
              "      <td>10.0</td>\n",
              "      <td>2013.0</td>\n",
              "      <td>Mar,Jun,Sept,Dec</td>\n",
              "    </tr>\n",
              "  </tbody>\n",
              "</table>\n",
              "</div>\n",
              "      <button class=\"colab-df-convert\" onclick=\"convertToInteractive('df-ebb497de-0cde-4dd6-b3b7-5cedfd80a77d')\"\n",
              "              title=\"Convert this dataframe to an interactive table.\"\n",
              "              style=\"display:none;\">\n",
              "        \n",
              "  <svg xmlns=\"http://www.w3.org/2000/svg\" height=\"24px\"viewBox=\"0 0 24 24\"\n",
              "       width=\"24px\">\n",
              "    <path d=\"M0 0h24v24H0V0z\" fill=\"none\"/>\n",
              "    <path d=\"M18.56 5.44l.94 2.06.94-2.06 2.06-.94-2.06-.94-.94-2.06-.94 2.06-2.06.94zm-11 1L8.5 8.5l.94-2.06 2.06-.94-2.06-.94L8.5 2.5l-.94 2.06-2.06.94zm10 10l.94 2.06.94-2.06 2.06-.94-2.06-.94-.94-2.06-.94 2.06-2.06.94z\"/><path d=\"M17.41 7.96l-1.37-1.37c-.4-.4-.92-.59-1.43-.59-.52 0-1.04.2-1.43.59L10.3 9.45l-7.72 7.72c-.78.78-.78 2.05 0 2.83L4 21.41c.39.39.9.59 1.41.59.51 0 1.02-.2 1.41-.59l7.78-7.78 2.81-2.81c.8-.78.8-2.07 0-2.86zM5.41 20L4 18.59l7.72-7.72 1.47 1.35L5.41 20z\"/>\n",
              "  </svg>\n",
              "      </button>\n",
              "      \n",
              "  <style>\n",
              "    .colab-df-container {\n",
              "      display:flex;\n",
              "      flex-wrap:wrap;\n",
              "      gap: 12px;\n",
              "    }\n",
              "\n",
              "    .colab-df-convert {\n",
              "      background-color: #E8F0FE;\n",
              "      border: none;\n",
              "      border-radius: 50%;\n",
              "      cursor: pointer;\n",
              "      display: none;\n",
              "      fill: #1967D2;\n",
              "      height: 32px;\n",
              "      padding: 0 0 0 0;\n",
              "      width: 32px;\n",
              "    }\n",
              "\n",
              "    .colab-df-convert:hover {\n",
              "      background-color: #E2EBFA;\n",
              "      box-shadow: 0px 1px 2px rgba(60, 64, 67, 0.3), 0px 1px 3px 1px rgba(60, 64, 67, 0.15);\n",
              "      fill: #174EA6;\n",
              "    }\n",
              "\n",
              "    [theme=dark] .colab-df-convert {\n",
              "      background-color: #3B4455;\n",
              "      fill: #D2E3FC;\n",
              "    }\n",
              "\n",
              "    [theme=dark] .colab-df-convert:hover {\n",
              "      background-color: #434B5C;\n",
              "      box-shadow: 0px 1px 3px 1px rgba(0, 0, 0, 0.15);\n",
              "      filter: drop-shadow(0px 1px 2px rgba(0, 0, 0, 0.3));\n",
              "      fill: #FFFFFF;\n",
              "    }\n",
              "  </style>\n",
              "\n",
              "      <script>\n",
              "        const buttonEl =\n",
              "          document.querySelector('#df-ebb497de-0cde-4dd6-b3b7-5cedfd80a77d button.colab-df-convert');\n",
              "        buttonEl.style.display =\n",
              "          google.colab.kernel.accessAllowed ? 'block' : 'none';\n",
              "\n",
              "        async function convertToInteractive(key) {\n",
              "          const element = document.querySelector('#df-ebb497de-0cde-4dd6-b3b7-5cedfd80a77d');\n",
              "          const dataTable =\n",
              "            await google.colab.kernel.invokeFunction('convertToInteractive',\n",
              "                                                     [key], {});\n",
              "          if (!dataTable) return;\n",
              "\n",
              "          const docLinkHtml = 'Like what you see? Visit the ' +\n",
              "            '<a target=\"_blank\" href=https://colab.research.google.com/notebooks/data_table.ipynb>data table notebook</a>'\n",
              "            + ' to learn more about interactive tables.';\n",
              "          element.innerHTML = '';\n",
              "          dataTable['output_type'] = 'display_data';\n",
              "          await google.colab.output.renderOutput(dataTable, element);\n",
              "          const docLink = document.createElement('div');\n",
              "          docLink.innerHTML = docLinkHtml;\n",
              "          element.appendChild(docLink);\n",
              "        }\n",
              "      </script>\n",
              "    </div>\n",
              "  </div>\n",
              "  "
            ]
          },
          "metadata": {},
          "execution_count": 52
        }
      ]
    },
    {
      "cell_type": "markdown",
      "source": [
        "We can see that all closed stores have 0 sales values.\n"
      ],
      "metadata": {
        "id": "GUnYwg_JVh_B"
      }
    },
    {
      "cell_type": "code",
      "source": [
        "ROSS['Date']=pd.to_datetime(ROSS['Date'])"
      ],
      "metadata": {
        "id": "P3FBBi5ag6wa"
      },
      "execution_count": 21,
      "outputs": []
    },
    {
      "cell_type": "code",
      "source": [
        "ROSS['Date'].dtypes\n",
        "ROSS['year']=ROSS['Date'].dt.year\n",
        "ROSS['month']=ROSS['Date'].dt.month\n",
        "ROSS['week']=ROSS['Date'].dt.week"
      ],
      "metadata": {
        "id": "TLY19Q-ngxZ3"
      },
      "execution_count": 22,
      "outputs": []
    },
    {
      "cell_type": "code",
      "source": [
        "# Lets remove the number of closed stores, as they serves minimal to no purpose. Lets also drop the column'open'\n",
        "ROSS2=ROSS[(ROSS['Open']==1)]\n",
        "ROSS2.drop(['Open'],axis = 1, inplace=True)"
      ],
      "metadata": {
        "id": "77hGF91XWQgI"
      },
      "execution_count": 23,
      "outputs": []
    },
    {
      "cell_type": "code",
      "source": [
        "ROSS2.info()"
      ],
      "metadata": {
        "colab": {
          "base_uri": "https://localhost:8080/"
        },
        "id": "W4wzyv67YD7c",
        "outputId": "32c19f09-1bd6-4424-9b15-1b24472e49d0"
      },
      "execution_count": 24,
      "outputs": [
        {
          "output_type": "stream",
          "name": "stdout",
          "text": [
            "<class 'pandas.core.frame.DataFrame'>\n",
            "Int64Index: 844392 entries, 0 to 1017190\n",
            "Data columns (total 20 columns):\n",
            " #   Column                     Non-Null Count   Dtype         \n",
            "---  ------                     --------------   -----         \n",
            " 0   Store                      844392 non-null  int64         \n",
            " 1   DayOfWeek                  844392 non-null  int64         \n",
            " 2   Date                       844392 non-null  datetime64[ns]\n",
            " 3   Sales                      844392 non-null  int64         \n",
            " 4   Customers                  844392 non-null  int64         \n",
            " 5   Promo                      844392 non-null  int64         \n",
            " 6   StateHoliday               844392 non-null  object        \n",
            " 7   SchoolHoliday              844392 non-null  int64         \n",
            " 8   StoreType                  844392 non-null  object        \n",
            " 9   Assortment                 844392 non-null  object        \n",
            " 10  CompetitionDistance        844392 non-null  float64       \n",
            " 11  CompetitionOpenSinceMonth  844392 non-null  float64       \n",
            " 12  CompetitionOpenSinceYear   844392 non-null  float64       \n",
            " 13  Promo2                     844392 non-null  int64         \n",
            " 14  Promo2SinceWeek            844392 non-null  float64       \n",
            " 15  Promo2SinceYear            844392 non-null  float64       \n",
            " 16  PromoInterval              844392 non-null  object        \n",
            " 17  year                       844392 non-null  int64         \n",
            " 18  month                      844392 non-null  int64         \n",
            " 19  week                       844392 non-null  int64         \n",
            "dtypes: datetime64[ns](1), float64(5), int64(10), object(4)\n",
            "memory usage: 135.3+ MB\n"
          ]
        }
      ]
    },
    {
      "cell_type": "code",
      "source": [
        "ROSS2.shape"
      ],
      "metadata": {
        "colab": {
          "base_uri": "https://localhost:8080/"
        },
        "id": "8TUuFKboYR2l",
        "outputId": "7736c317-0910-4971-8413-f19ebbd22a32"
      },
      "execution_count": 25,
      "outputs": [
        {
          "output_type": "execute_result",
          "data": {
            "text/plain": [
              "(844392, 20)"
            ]
          },
          "metadata": {},
          "execution_count": 25
        }
      ]
    },
    {
      "cell_type": "code",
      "source": [
        "#categorical data visualisation\n",
        "store_df['Assortment'].value_counts().plot(kind='bar')"
      ],
      "metadata": {
        "colab": {
          "base_uri": "https://localhost:8080/",
          "height": 280
        },
        "id": "OEx1D5h9NhD3",
        "outputId": "4f412f33-3cfc-4ea4-a8b4-d9378ed36a0f"
      },
      "execution_count": 58,
      "outputs": [
        {
          "output_type": "execute_result",
          "data": {
            "text/plain": [
              "<matplotlib.axes._subplots.AxesSubplot at 0x7fe8d1e7ca90>"
            ]
          },
          "metadata": {},
          "execution_count": 58
        },
        {
          "output_type": "display_data",
          "data": {
            "text/plain": [
              "<Figure size 432x288 with 1 Axes>"
            ],
            "image/png": "[encoded data removed]"
          },
          "metadata": {}
        }
      ]
    },
    {
      "cell_type": "markdown",
      "source": [
        "Assortment type 'a' has higher counts, followed by 'c'."
      ],
      "metadata": {
        "id": "IHXhqzJgzP--"
      }
    },
    {
      "cell_type": "code",
      "source": [
        "store_df['Promo2'].value_counts().plot(kind='bar')"
      ],
      "metadata": {
        "colab": {
          "base_uri": "https://localhost:8080/",
          "height": 280
        },
        "id": "mYeCYSMmPZ-1",
        "outputId": "d67ab1ca-a2e0-4937-ad8f-8308d14a20a1"
      },
      "execution_count": 59,
      "outputs": [
        {
          "output_type": "execute_result",
          "data": {
            "text/plain": [
              "<matplotlib.axes._subplots.AxesSubplot at 0x7fe8d1de2b50>"
            ]
          },
          "metadata": {},
          "execution_count": 59
        },
        {
          "output_type": "display_data",
          "data": {
            "text/plain": [
              "<Figure size 432x288 with 1 Axes>"
            ],
            "image/png": "[encoded data removed]"
          },
          "metadata": {}
        }
      ]
    },
    {
      "cell_type": "code",
      "source": [
        "\n",
        "store_df['StoreType'].value_counts().plot(kind='bar')"
      ],
      "metadata": {
        "colab": {
          "base_uri": "https://localhost:8080/",
          "height": 280
        },
        "id": "kcruZLRZPtaH",
        "outputId": "08c05596-a67b-4463-b59d-0ccd4577a4b7"
      },
      "execution_count": null,
      "outputs": [
        {
          "output_type": "execute_result",
          "data": {
            "text/plain": [
              "<matplotlib.axes._subplots.AxesSubplot at 0x7fc85f591250>"
            ]
          },
          "metadata": {},
          "execution_count": 35
        },
        {
          "output_type": "display_data",
          "data": {
            "text/plain": [
              "<Figure size 432x288 with 1 Axes>"
            ],
            "image/png": "[encoded data removed]"
          },
          "metadata": {
            "needs_background": "light"
          }
        }
      ]
    },
    {
      "cell_type": "code",
      "source": [
        "store_df['CompetitionOpenSinceMonth'].value_counts().plot(kind='bar')"
      ],
      "metadata": {
        "colab": {
          "base_uri": "https://localhost:8080/",
          "height": 296
        },
        "id": "_WoknmXUOvGn",
        "outputId": "484b4c24-bce1-412c-d330-38ec40728a44"
      },
      "execution_count": null,
      "outputs": [
        {
          "output_type": "execute_result",
          "data": {
            "text/plain": [
              "<matplotlib.axes._subplots.AxesSubplot at 0x7f2cfef5ebd0>"
            ]
          },
          "metadata": {},
          "execution_count": 45
        },
        {
          "output_type": "display_data",
          "data": {
            "text/plain": [
              "<Figure size 432x288 with 1 Axes>"
            ],
            "image/png": "[encoded data removed]"
          },
          "metadata": {
            "needs_background": "light"
          }
        }
      ]
    },
    {
      "cell_type": "markdown",
      "source": [
        "We can see most competions are open in the month of September followed by April and November."
      ],
      "metadata": {
        "id": "SmKwDVXzPDX3"
      }
    },
    {
      "cell_type": "code",
      "source": [
        "store_df['CompetitionOpenSinceYear'].value_counts().plot(kind='bar')"
      ],
      "metadata": {
        "colab": {
          "base_uri": "https://localhost:8080/",
          "height": 308
        },
        "id": "LGegoWFqO9vT",
        "outputId": "1e024b94-0b37-4961-e2a3-9be9d6bcbd9a"
      },
      "execution_count": null,
      "outputs": [
        {
          "output_type": "execute_result",
          "data": {
            "text/plain": [
              "<matplotlib.axes._subplots.AxesSubplot at 0x7f2cfee8e950>"
            ]
          },
          "metadata": {},
          "execution_count": 46
        },
        {
          "output_type": "display_data",
          "data": {
            "text/plain": [
              "<Figure size 432x288 with 1 Axes>"
            ],
            "image/png": "[encoded data removed]"
          },
          "metadata": {
            "needs_background": "light"
          }
        }
      ]
    },
    {
      "cell_type": "markdown",
      "source": [
        "We can see that after 2012 the number of competitors have increased drastically."
      ],
      "metadata": {
        "id": "neIoPtOiPp-0"
      }
    },
    {
      "cell_type": "code",
      "source": [
        "ROSS2['year'].value_counts().plot(kind='bar')"
      ],
      "metadata": {
        "colab": {
          "base_uri": "https://localhost:8080/",
          "height": 300
        },
        "id": "jrb_46ARm6Ur",
        "outputId": "b5bc9e89-c6f0-453c-cd82-b11e5832be66"
      },
      "execution_count": 61,
      "outputs": [
        {
          "output_type": "execute_result",
          "data": {
            "text/plain": [
              "<matplotlib.axes._subplots.AxesSubplot at 0x7fe8d240c910>"
            ]
          },
          "metadata": {},
          "execution_count": 61
        },
        {
          "output_type": "display_data",
          "data": {
            "text/plain": [
              "<Figure size 432x288 with 1 Axes>"
            ],
            "image/png": "[encoded data removed]"
          },
          "metadata": {}
        }
      ]
    },
    {
      "cell_type": "code",
      "source": [
        "ROSS2['month'].value_counts().plot(kind='bar'),"
      ],
      "metadata": {
        "colab": {
          "base_uri": "https://localhost:8080/",
          "height": 286
        },
        "id": "qaE1jdYunME7",
        "outputId": "d5102b17-5c6d-4383-c80d-996a1e2f113a"
      },
      "execution_count": 62,
      "outputs": [
        {
          "output_type": "execute_result",
          "data": {
            "text/plain": [
              "<matplotlib.axes._subplots.AxesSubplot at 0x7fe8d10e5b50>"
            ]
          },
          "metadata": {},
          "execution_count": 62
        },
        {
          "output_type": "display_data",
          "data": {
            "text/plain": [
              "<Figure size 432x288 with 1 Axes>"
            ],
            "image/png": "[encoded data removed]"
          },
          "metadata": {}
        }
      ]
    },
    {
      "cell_type": "markdown",
      "source": [
        "**Continous** **Data** **Visualisation**"
      ],
      "metadata": {
        "id": "HE7Bdp_lTCad"
      }
    },
    {
      "cell_type": "code",
      "source": [
        "#Sales\n",
        "plt.figure(figsize=(15,10))\n",
        "sns.distplot(ROSS2['Sales'])"
      ],
      "metadata": {
        "colab": {
          "base_uri": "https://localhost:8080/",
          "height": 624
        },
        "id": "xoSQ337qQw3_",
        "outputId": "20a4991d-7548-4fca-80fb-549112b1c3a4"
      },
      "execution_count": 29,
      "outputs": [
        {
          "output_type": "execute_result",
          "data": {
            "text/plain": [
              "<matplotlib.axes._subplots.AxesSubplot at 0x7ff9e0b70850>"
            ]
          },
          "metadata": {},
          "execution_count": 29
        },
        {
          "output_type": "display_data",
          "data": {
            "text/plain": [
              "<Figure size 1080x720 with 1 Axes>"
            ],
            "image/png": "[encoded data removed]"
          },
          "metadata": {
            "needs_background": "light"
          }
        }
      ]
    },
    {
      "cell_type": "markdown",
      "source": [
        "Sales distribution which is the target or dependent variable  seems to be positively skewed. Positively skewed can be explained as distribution more piled towards the left and median usually lesser than mean. "
      ],
      "metadata": {
        "id": "0eHVe6QXHlBY"
      }
    },
    {
      "cell_type": "code",
      "source": [
        "#Customers\n",
        "plt.figure(figsize=(15,10))\n",
        "sns.distplot(ROSS2['Customers'])"
      ],
      "metadata": {
        "colab": {
          "base_uri": "https://localhost:8080/",
          "height": 624
        },
        "id": "dxgi210LTog7",
        "outputId": "bf277054-6a25-4b1b-99ad-2d517341f55d"
      },
      "execution_count": 23,
      "outputs": [
        {
          "output_type": "execute_result",
          "data": {
            "text/plain": [
              "<matplotlib.axes._subplots.AxesSubplot at 0x7fe8d2465b90>"
            ]
          },
          "metadata": {},
          "execution_count": 23
        },
        {
          "output_type": "display_data",
          "data": {
            "text/plain": [
              "<Figure size 1080x720 with 1 Axes>"
            ],
            "image/png": "[encoded data removed]"
          },
          "metadata": {}
        }
      ]
    },
    {
      "cell_type": "code",
      "source": [
        "#CompetitionDistance\n",
        "plt.figure(figsize=(15,10))\n",
        "sns.distplot(ROSS2['CompetitionDistance'])"
      ],
      "metadata": {
        "colab": {
          "base_uri": "https://localhost:8080/",
          "height": 624
        },
        "id": "92wsSFh3UQdZ",
        "outputId": "37d26feb-0f6f-4b54-a531-ddb97bb9b61e"
      },
      "execution_count": 26,
      "outputs": [
        {
          "output_type": "execute_result",
          "data": {
            "text/plain": [
              "<matplotlib.axes._subplots.AxesSubplot at 0x7fe8d21d8dd0>"
            ]
          },
          "metadata": {},
          "execution_count": 26
        },
        {
          "output_type": "display_data",
          "data": {
            "text/plain": [
              "<Figure size 1080x720 with 1 Axes>"
            ],
            "image/png": "[encoded data removed]"
          },
          "metadata": {}
        }
      ]
    },
    {
      "cell_type": "markdown",
      "source": [
        "**Sales vs Other Features**"
      ],
      "metadata": {
        "id": "1kwfg48tn-M3"
      }
    },
    {
      "cell_type": "code",
      "source": [
        "# Sales vs Other variable\n",
        "#Sales vs Dayofweek\n",
        "sns.barplot(x=\"DayOfWeek\", y=\"Sales\", data=ROSS2)\n",
        "plt.show()"
      ],
      "metadata": {
        "colab": {
          "base_uri": "https://localhost:8080/",
          "height": 279
        },
        "id": "ko5FokSafeKx",
        "outputId": "0f9bb6b0-4efd-4822-845d-a1766488ca04"
      },
      "execution_count": 30,
      "outputs": [
        {
          "output_type": "display_data",
          "data": {
            "text/plain": [
              "<Figure size 432x288 with 1 Axes>"
            ],
            "image/png": "[encoded data removed]"
          },
          "metadata": {
            "needs_background": "light"
          }
        }
      ]
    },
    {
      "cell_type": "markdown",
      "source": [
        "We can see that weekends have higher sale than weekdays."
      ],
      "metadata": {
        "id": "5L_CNW5n8FOh"
      }
    },
    {
      "cell_type": "code",
      "source": [
        "sns.barplot(x=\"Promo\", y=\"Sales\", data=ROSS2)\n",
        "plt.show()"
      ],
      "metadata": {
        "colab": {
          "base_uri": "https://localhost:8080/",
          "height": 279
        },
        "id": "LKkFgSMjFZoa",
        "outputId": "b8537c28-0ea6-48c5-c48d-22b70396c977"
      },
      "execution_count": 31,
      "outputs": [
        {
          "output_type": "display_data",
          "data": {
            "text/plain": [
              "<Figure size 432x288 with 1 Axes>"
            ],
            "image/png": "[encoded data removed]"
          },
          "metadata": {
            "needs_background": "light"
          }
        }
      ]
    },
    {
      "cell_type": "markdown",
      "source": [
        "Sales is better with promotion."
      ],
      "metadata": {
        "id": "QFtPoDSk8YgD"
      }
    },
    {
      "cell_type": "code",
      "source": [
        "ROSS2.loc[ROSS2['StateHoliday'] == '0', 'StateHoliday'] = 0\n",
        "ROSS2.loc[ROSS2['StateHoliday'] == 'a', 'StateHoliday'] = 1\n",
        "ROSS2.loc[ROSS2['StateHoliday'] == 'b', 'StateHoliday'] = 2\n",
        "ROSS2.loc[ROSS2['StateHoliday'] == 'c', 'StateHoliday'] = 3\n",
        "ROSS2['StateHoliday'] = ROSS2['StateHoliday'].astype(int, copy=False)\n",
        "\n",
        "print('levels :', ROSS2['StateHoliday'].unique(), '; data type :', ROSS2['StateHoliday'].dtype)"
      ],
      "metadata": {
        "colab": {
          "base_uri": "https://localhost:8080/"
        },
        "id": "MClkb_6IPtIb",
        "outputId": "4d576d05-2955-45ed-b6a8-34d828e09ab9"
      },
      "execution_count": 26,
      "outputs": [
        {
          "output_type": "stream",
          "name": "stdout",
          "text": [
            "levels : [0 1 2 3] ; data type : int64\n"
          ]
        }
      ]
    },
    {
      "cell_type": "code",
      "metadata": {
        "colab": {
          "base_uri": "https://localhost:8080/",
          "height": 297
        },
        "id": "6pibbS4mWHGU",
        "outputId": "09d7a741-a8fa-446e-ff85-4423b8a270de"
      },
      "source": [
        "sns.barplot(x=\"StateHoliday\", y=\"Sales\", data=ROSS2)\n"
      ],
      "execution_count": 33,
      "outputs": [
        {
          "output_type": "execute_result",
          "data": {
            "text/plain": [
              "<matplotlib.axes._subplots.AxesSubplot at 0x7ff9dd1d0b50>"
            ]
          },
          "metadata": {},
          "execution_count": 33
        },
        {
          "output_type": "display_data",
          "data": {
            "text/plain": [
              "<Figure size 432x288 with 1 Axes>"
            ],
            "image/png": "[encoded data removed]"
          },
          "metadata": {
            "needs_background": "light"
          }
        }
      ]
    },
    {
      "cell_type": "markdown",
      "source": [
        ":1 = public holiday, 2 = Easter holiday, 3 = Christmas, 0 = None.\n",
        "Sales perform well on State holidays especially easter and christmas holidays."
      ],
      "metadata": {
        "id": "gh9FVPow9EsA"
      }
    },
    {
      "cell_type": "code",
      "source": [
        "sns.barplot(x=\"SchoolHoliday\", y=\"Sales\", data=ROSS2)\n"
      ],
      "metadata": {
        "colab": {
          "base_uri": "https://localhost:8080/",
          "height": 297
        },
        "id": "CzQCVA8iRvzC",
        "outputId": "c86ba143-905d-441a-caba-c483b872ab24"
      },
      "execution_count": 34,
      "outputs": [
        {
          "output_type": "execute_result",
          "data": {
            "text/plain": [
              "<matplotlib.axes._subplots.AxesSubplot at 0x7ff9dd0dbd50>"
            ]
          },
          "metadata": {},
          "execution_count": 34
        },
        {
          "output_type": "display_data",
          "data": {
            "text/plain": [
              "<Figure size 432x288 with 1 Axes>"
            ],
            "image/png": "[encoded data removed]"
          },
          "metadata": {
            "needs_background": "light"
          }
        }
      ]
    },
    {
      "cell_type": "markdown",
      "source": [
        "sales perform better on school holidays."
      ],
      "metadata": {
        "id": "iJCbmsLNRvf0"
      }
    },
    {
      "cell_type": "code",
      "source": [
        "sns.barplot(x=\"Assortment\", y=\"Sales\", data=ROSS2)"
      ],
      "metadata": {
        "colab": {
          "base_uri": "https://localhost:8080/",
          "height": 297
        },
        "id": "lFhnlswgSC-f",
        "outputId": "73b1dc3f-1536-4827-fc73-37184107cdae"
      },
      "execution_count": 35,
      "outputs": [
        {
          "output_type": "execute_result",
          "data": {
            "text/plain": [
              "<matplotlib.axes._subplots.AxesSubplot at 0x7ff9dd0aed10>"
            ]
          },
          "metadata": {},
          "execution_count": 35
        },
        {
          "output_type": "display_data",
          "data": {
            "text/plain": [
              "<Figure size 432x288 with 1 Axes>"
            ],
            "image/png": "[encoded data removed]"
          },
          "metadata": {
            "needs_background": "light"
          }
        }
      ]
    },
    {
      "cell_type": "markdown",
      "source": [
        "Type b assortment performs better in terms of sales, followed by type c assortments."
      ],
      "metadata": {
        "id": "QvmWCKUJ9gO0"
      }
    },
    {
      "cell_type": "code",
      "source": [
        "sns.barplot(x=\"StoreType\", y=\"Sales\", data=ROSS2)"
      ],
      "metadata": {
        "colab": {
          "base_uri": "https://localhost:8080/",
          "height": 297
        },
        "id": "oz_n-hXnSTpW",
        "outputId": "1e155ea2-4ae7-4794-d6f0-6f7d44980cfc"
      },
      "execution_count": 36,
      "outputs": [
        {
          "output_type": "execute_result",
          "data": {
            "text/plain": [
              "<matplotlib.axes._subplots.AxesSubplot at 0x7ff9dd0bc850>"
            ]
          },
          "metadata": {},
          "execution_count": 36
        },
        {
          "output_type": "display_data",
          "data": {
            "text/plain": [
              "<Figure size 432x288 with 1 Axes>"
            ],
            "image/png": "[encoded data removed]"
          },
          "metadata": {
            "needs_background": "light"
          }
        }
      ]
    },
    {
      "cell_type": "code",
      "source": [
        "print(ROSS2[ROSS2['StoreType'] == 'a']['Sales'].mean())\n",
        "print(ROSS2[ROSS2['StoreType'] == 'b']['Sales'].mean())\n",
        "print(ROSS2[ROSS2['StoreType'] == 'c']['Sales'].mean())\n",
        "print(ROSS2[ROSS2['StoreType'] == 'd']['Sales'].mean())"
      ],
      "metadata": {
        "colab": {
          "base_uri": "https://localhost:8080/"
        },
        "id": "r5p3p0M6s2Gd",
        "outputId": "2d003367-e53f-48b0-addc-560cd4cb94fb"
      },
      "execution_count": 27,
      "outputs": [
        {
          "output_type": "stream",
          "name": "stdout",
          "text": [
            "6925.167661028667\n",
            "10231.40750497976\n",
            "6932.512754695605\n",
            "6822.1418805598705\n"
          ]
        }
      ]
    },
    {
      "cell_type": "markdown",
      "source": [
        "**Storetype B performs better** than all other store types."
      ],
      "metadata": {
        "id": "XVhoju8C-Bn_"
      }
    },
    {
      "cell_type": "code",
      "source": [
        "sns.barplot(x=\"Promo2\", y=\"Sales\", data=ROSS2)\n",
        "plt.show()"
      ],
      "metadata": {
        "colab": {
          "base_uri": "https://localhost:8080/",
          "height": 279
        },
        "id": "wVBeABlEb5bH",
        "outputId": "dd0d080d-d348-4608-9e8e-b7c6aa93f022"
      },
      "execution_count": 38,
      "outputs": [
        {
          "output_type": "display_data",
          "data": {
            "text/plain": [
              "<Figure size 432x288 with 1 Axes>"
            ],
            "image/png": "[encoded data removed]"
          },
          "metadata": {
            "needs_background": "light"
          }
        }
      ]
    },
    {
      "cell_type": "markdown",
      "source": [
        "Stores not participating in continous promotion perform better when compared to stores with contionous promotion."
      ],
      "metadata": {
        "id": "lJUPLxEg-nFq"
      }
    },
    {
      "cell_type": "code",
      "source": [
        "sns.barplot(x=\"DayOfWeek\", y=\"Sales\", data=ROSS)"
      ],
      "metadata": {
        "colab": {
          "base_uri": "https://localhost:8080/",
          "height": 297
        },
        "id": "5qtIFX9HMZZ7",
        "outputId": "d497cc36-87dc-4d22-ffe2-1b45d3012a6d"
      },
      "execution_count": 39,
      "outputs": [
        {
          "output_type": "execute_result",
          "data": {
            "text/plain": [
              "<matplotlib.axes._subplots.AxesSubplot at 0x7ff9dcf17090>"
            ]
          },
          "metadata": {},
          "execution_count": 39
        },
        {
          "output_type": "display_data",
          "data": {
            "text/plain": [
              "<Figure size 432x288 with 1 Axes>"
            ],
            "image/png": "[encoded data removed]"
          },
          "metadata": {
            "needs_background": "light"
          }
        }
      ]
    },
    {
      "cell_type": "code",
      "source": [
        "#Sales vs No of customers Correlation\n",
        "sns.regplot(x=ROSS2['Sales'], y=ROSS2['Customers'],scatter_kws={\"color\": \"red\"}, line_kws={\"color\": \"black\"})"
      ],
      "metadata": {
        "colab": {
          "base_uri": "https://localhost:8080/",
          "height": 297
        },
        "id": "WlDFoSJtk4rL",
        "outputId": "a50defcb-e62d-485a-a82c-0ab1c035a608"
      },
      "execution_count": 31,
      "outputs": [
        {
          "output_type": "execute_result",
          "data": {
            "text/plain": [
              "<matplotlib.axes._subplots.AxesSubplot at 0x7fdc67838610>"
            ]
          },
          "metadata": {},
          "execution_count": 31
        },
        {
          "output_type": "display_data",
          "data": {
            "text/plain": [
              "<Figure size 432x288 with 1 Axes>"
            ],
            "image/png": "[encoded data removed]"
          },
          "metadata": {}
        }
      ]
    },
    {
      "cell_type": "code",
      "source": [
        "ROSS2['Customers'].corr(ROSS2['Sales'])"
      ],
      "metadata": {
        "colab": {
          "base_uri": "https://localhost:8080/"
        },
        "id": "UrvPgHdymOjG",
        "outputId": "07e029b4-bfb9-4781-b1c6-ca381cd0d94e"
      },
      "execution_count": 35,
      "outputs": [
        {
          "output_type": "execute_result",
          "data": {
            "text/plain": [
              "0.8235967321975434"
            ]
          },
          "metadata": {},
          "execution_count": 35
        }
      ]
    },
    {
      "cell_type": "markdown",
      "source": [
        "No of customers and amount of sales is highly correlated with R value of 0.82"
      ],
      "metadata": {
        "id": "QvLw4Ao3_eyW"
      }
    },
    {
      "cell_type": "code",
      "source": [
        "plt.figure(figsize=(16, 8))\n",
        "plot_storetype_sales = sns.boxplot(x=\"StoreType\", y=\"Sales\", data=ROSS)\n",
        "plt.title('Boxplot For Sales Values')\n",
        "plt.show()"
      ],
      "metadata": {
        "colab": {
          "base_uri": "https://localhost:8080/",
          "height": 518
        },
        "id": "lDV6T2UMBIPH",
        "outputId": "ffe1fcb5-418e-4d55-a2f9-68bc85c4930d"
      },
      "execution_count": 82,
      "outputs": [
        {
          "output_type": "display_data",
          "data": {
            "text/plain": [
              "<Figure size 1152x576 with 1 Axes>"
            ],
            "image/png": "[encoded data removed]"
          },
          "metadata": {}
        }
      ]
    },
    {
      "cell_type": "markdown",
      "source": [
        "Outliers need to be handled."
      ],
      "metadata": {
        "id": "78DkSncYXzd5"
      }
    },
    {
      "cell_type": "code",
      "source": [
        "#Average sales each year\n",
        "sns.barplot(x=\"year\", y=\"Sales\", data=ROSS2)"
      ],
      "metadata": {
        "colab": {
          "base_uri": "https://localhost:8080/",
          "height": 297
        },
        "id": "5yUW8OSJXw3u",
        "outputId": "2258648e-a8cf-4cf0-929f-ba695470ee5d"
      },
      "execution_count": 41,
      "outputs": [
        {
          "output_type": "execute_result",
          "data": {
            "text/plain": [
              "<matplotlib.axes._subplots.AxesSubplot at 0x7ff9dcd7fb10>"
            ]
          },
          "metadata": {},
          "execution_count": 41
        },
        {
          "output_type": "display_data",
          "data": {
            "text/plain": [
              "<Figure size 432x288 with 1 Axes>"
            ],
            "image/png": "[encoded data removed]"
          },
          "metadata": {
            "needs_background": "light"
          }
        }
      ]
    },
    {
      "cell_type": "code",
      "source": [
        "print(ROSS2[ROSS2['year'] == 2013]['Sales'].mean())\n",
        "print(ROSS2[ROSS2['year'] == 2014]['Sales'].mean())\n",
        "print(ROSS2[ROSS2['year'] == 2015]['Sales'].mean())"
      ],
      "metadata": {
        "colab": {
          "base_uri": "https://localhost:8080/"
        },
        "id": "DypuhfdCYjxH",
        "outputId": "bd4e4e11-6432-460e-d487-c79e7951a806"
      },
      "execution_count": 42,
      "outputs": [
        {
          "output_type": "stream",
          "name": "stdout",
          "text": [
            "6814.3920246905545\n",
            "7025.4042014451525\n",
            "7088.126647690173\n"
          ]
        }
      ]
    },
    {
      "cell_type": "markdown",
      "source": [
        "We can see avaerage sales is increasing each year."
      ],
      "metadata": {
        "id": "TdEzZ7VlZjkQ"
      }
    },
    {
      "cell_type": "code",
      "source": [
        "#Average sales based on month\n",
        "sns.barplot(x=\"month\", y=\"Sales\", data=ROSS2)"
      ],
      "metadata": {
        "colab": {
          "base_uri": "https://localhost:8080/",
          "height": 297
        },
        "id": "ThMRH1hhZOF0",
        "outputId": "48a0e39a-db7b-46b0-9e83-a548020c6fd5"
      },
      "execution_count": 43,
      "outputs": [
        {
          "output_type": "execute_result",
          "data": {
            "text/plain": [
              "<matplotlib.axes._subplots.AxesSubplot at 0x7ff9dd0356d0>"
            ]
          },
          "metadata": {},
          "execution_count": 43
        },
        {
          "output_type": "display_data",
          "data": {
            "text/plain": [
              "<Figure size 432x288 with 1 Axes>"
            ],
            "image/png": "[encoded data removed]"
          },
          "metadata": {
            "needs_background": "light"
          }
        }
      ]
    },
    {
      "cell_type": "markdown",
      "source": [
        "November and December have the highest average sales."
      ],
      "metadata": {
        "id": "1z3A7PQ_ZmJ_"
      }
    },
    {
      "cell_type": "code",
      "source": [
        "#Average sales based on week\n",
        "fig, ax = plt.subplots(figsize=(12, 5))\n",
        "sns.barplot(x=\"week\", y=\"Sales\", data=ROSS2,ax=ax)"
      ],
      "metadata": {
        "colab": {
          "base_uri": "https://localhost:8080/",
          "height": 352
        },
        "id": "Sy7UILTgZwee",
        "outputId": "7290fcc4-8e11-4314-c2fd-fda143b0aab7"
      },
      "execution_count": 46,
      "outputs": [
        {
          "output_type": "execute_result",
          "data": {
            "text/plain": [
              "<matplotlib.axes._subplots.AxesSubplot at 0x7ff9dc808550>"
            ]
          },
          "metadata": {},
          "execution_count": 46
        },
        {
          "output_type": "display_data",
          "data": {
            "text/plain": [
              "<Figure size 864x360 with 1 Axes>"
            ],
            "image/png": "[encoded data removed]"
          },
          "metadata": {
            "needs_background": "light"
          }
        }
      ]
    },
    {
      "cell_type": "markdown",
      "source": [
        "We can clearly see the spike in sales during the christmas time i.e the 51st week."
      ],
      "metadata": {
        "id": "cXys4K_sa_Yf"
      }
    },
    {
      "cell_type": "markdown",
      "source": [
        "FEATURE PREDICTION MODEL.\n"
      ],
      "metadata": {
        "id": "foBhJ7uFq-CS"
      }
    },
    {
      "cell_type": "code",
      "source": [
        "from scipy.stats import zscore\n",
        "from sklearn.linear_model import Lasso, Ridge\n",
        "from sklearn.model_selection import train_test_split\n",
        "from sklearn.preprocessing import StandardScaler\n",
        "from sklearn.linear_model import LinearRegression\n",
        "from sklearn.pipeline import Pipeline\n",
        "from sklearn.tree import DecisionTreeRegressor\n",
        "from sklearn.metrics import r2_score as r2, mean_squared_error as mse\n",
        "import math\n",
        "from sklearn.ensemble import RandomForestRegressor\n",
        "import lightgbm as lgb\n",
        "from sklearn.metrics import r2_score"
      ],
      "metadata": {
        "id": "d6SEAjB_gMrT"
      },
      "execution_count": 29,
      "outputs": []
    },
    {
      "cell_type": "code",
      "metadata": {
        "id": "oxkK-gjjueUo",
        "colab": {
          "base_uri": "https://localhost:8080/"
        },
        "outputId": "8f64c351-3f7c-48f1-968c-e7f5c4aa52b4"
      },
      "source": [
        "# code for changing Assortment dtype from object to int.\n",
        "ROSS2.loc[ROSS2['Assortment'] == 'a', 'Assortment'] = 1\n",
        "ROSS2.loc[ROSS2['Assortment'] == 'b', 'Assortment'] = 2\n",
        "ROSS2.loc[ROSS2['Assortment'] == 'c', 'Assortment'] = 3\n",
        "ROSS2['Assortment'] = ROSS2['Assortment'].astype(int, copy=False)\n",
        "\n",
        "print('levels :', ROSS2['Assortment'].unique(), '; data type :', ROSS2['Assortment'].dtype)"
      ],
      "execution_count": 30,
      "outputs": [
        {
          "output_type": "stream",
          "name": "stdout",
          "text": [
            "levels : [1 3 2] ; data type : int64\n"
          ]
        }
      ]
    },
    {
      "cell_type": "code",
      "metadata": {
        "id": "Lfg3T2ZSBpUJ",
        "colab": {
          "base_uri": "https://localhost:8080/"
        },
        "outputId": "4840b318-5544-4ef2-da4b-7b263a48f2d3"
      },
      "source": [
        "# code for changing StoreType dtype from object to int.\n",
        "ROSS2.loc[ROSS2['StoreType'] == 'a', 'StoreType'] = 0\n",
        "ROSS2.loc[ROSS2['StoreType'] == 'b', 'StoreType'] = 1\n",
        "ROSS2.loc[ROSS2['StoreType'] == 'c', 'StoreType'] = 2\n",
        "ROSS2.loc[ROSS2['StoreType'] == 'd', 'StoreType'] = 3\n",
        "ROSS2['StoreType'] = ROSS2['StoreType'].astype(int, copy=False)\n",
        "\n",
        "print('levels :', ROSS2['StoreType'].unique(), '; data type :', ROSS2['StoreType'].dtype)"
      ],
      "execution_count": 31,
      "outputs": [
        {
          "output_type": "stream",
          "name": "stdout",
          "text": [
            "levels : [2 0 3 1] ; data type : int64\n"
          ]
        }
      ]
    },
    {
      "cell_type": "code",
      "metadata": {
        "id": "a9lJppYaMA9h"
      },
      "source": [
        "ROSS2['CompetitionOpenSinceYear']= ROSS2['CompetitionOpenSinceYear'].astype(int)\n",
        "ROSS2['Promo2SinceYear']= ROSS2['Promo2SinceYear'].astype(int)"
      ],
      "execution_count": 32,
      "outputs": []
    },
    {
      "cell_type": "code",
      "metadata": {
        "id": "bRb1nDQA9T7s"
      },
      "source": [
        "ROSS2['Promo2SinceWeek']= ROSS2['Promo2SinceWeek'].astype(int)"
      ],
      "execution_count": 33,
      "outputs": []
    },
    {
      "cell_type": "markdown",
      "source": [
        "Variable selection for prediction model."
      ],
      "metadata": {
        "id": "7tb5Eb1jdxr8"
      }
    },
    {
      "cell_type": "code",
      "source": [
        "corr_matrix = ROSS2.corr()\n",
        "fig, ax = plt.subplots(figsize=(15, 15))\n",
        "ax = sns.heatmap(corr_matrix,\n",
        "                 annot=True,\n",
        "                 linewidths=0.5,\n",
        "                 fmt=\".2f\",\n",
        "                 cmap=\"YlGnBu\");\n",
        "bottom, top = ax.get_ylim()\n",
        "ax.set_ylim(bottom + 0.5, top - 0.5)"
      ],
      "metadata": {
        "colab": {
          "base_uri": "https://localhost:8080/",
          "height": 1000
        },
        "id": "zkLdQQSrSZFJ",
        "outputId": "f819f4e9-8950-4037-87f7-bb10073625a7"
      },
      "execution_count": 34,
      "outputs": [
        {
          "output_type": "execute_result",
          "data": {
            "text/plain": [
              "(18.5, -0.5)"
            ]
          },
          "metadata": {},
          "execution_count": 34
        },
        {
          "output_type": "display_data",
          "data": {
            "text/plain": [
              "<Figure size 1080x1080 with 2 Axes>"
            ],
            "image/png": "[encoded data removed]"
          },
          "metadata": {
            "needs_background": "light"
          }
        }
      ]
    },
    {
      "cell_type": "markdown",
      "source": [
        "High multicollinearity between promo2,promo2sinceweek and promo2sinceyear.\n",
        "So we need to remove  2 among  the 3. We can drop promo2sinceweek and promo2sinceyear. Same with competionopensincemonth and competitionopensinceyear,we competionsinceyear. We can also ignore the date variables (year,month and week). We need to remove store ID too."
      ],
      "metadata": {
        "id": "W7CAfvaQdnBM"
      }
    },
    {
      "cell_type": "code",
      "source": [
        "#Selected variables are compiled in a new dataset ROSS3\n",
        "ROSS3= ROSS2[['DayOfWeek','Sales','Customers','Promo','StateHoliday','SchoolHoliday','StoreType','Assortment','CompetitionDistance','Promo2']]"
      ],
      "metadata": {
        "id": "jMHdFcsYfSeQ"
      },
      "execution_count": 36,
      "outputs": []
    },
    {
      "cell_type": "code",
      "source": [
        "ROSS3.head()"
      ],
      "metadata": {
        "colab": {
          "base_uri": "https://localhost:8080/",
          "height": 206
        },
        "id": "3jDYXPiahPN1",
        "outputId": "d181f911-b00b-41e0-8abd-41f1dff4a2a3"
      },
      "execution_count": 55,
      "outputs": [
        {
          "output_type": "execute_result",
          "data": {
            "text/plain": [
              "   DayOfWeek  Sales  Customers  Promo  StateHoliday  SchoolHoliday  StoreType  \\\n",
              "0          5   5263        555      1             0              1          2   \n",
              "1          5   6064        625      1             0              1          0   \n",
              "2          5   8314        821      1             0              1          0   \n",
              "3          5  13995       1498      1             0              1          2   \n",
              "4          5   4822        559      1             0              1          0   \n",
              "\n",
              "   Assortment  CompetitionDistance  Promo2  \n",
              "0           1               1270.0       0  \n",
              "1           1                570.0       1  \n",
              "2           1              14130.0       1  \n",
              "3           3                620.0       0  \n",
              "4           1              29910.0       0  "
            ],
            "text/html": [
              "\n",
              "  <div id=\"df-874bc987-ce26-4f3e-a694-7df24e7bba85\">\n",
              "    <div class=\"colab-df-container\">\n",
              "      <div>\n",
              "<style scoped>\n",
              "    .dataframe tbody tr th:only-of-type {\n",
              "        vertical-align: middle;\n",
              "    }\n",
              "\n",
              "    .dataframe tbody tr th {\n",
              "        vertical-align: top;\n",
              "    }\n",
              "\n",
              "    .dataframe thead th {\n",
              "        text-align: right;\n",
              "    }\n",
              "</style>\n",
              "<table border=\"1\" class=\"dataframe\">\n",
              "  <thead>\n",
              "    <tr style=\"text-align: right;\">\n",
              "      <th></th>\n",
              "      <th>DayOfWeek</th>\n",
              "      <th>Sales</th>\n",
              "      <th>Customers</th>\n",
              "      <th>Promo</th>\n",
              "      <th>StateHoliday</th>\n",
              "      <th>SchoolHoliday</th>\n",
              "      <th>StoreType</th>\n",
              "      <th>Assortment</th>\n",
              "      <th>CompetitionDistance</th>\n",
              "      <th>Promo2</th>\n",
              "    </tr>\n",
              "  </thead>\n",
              "  <tbody>\n",
              "    <tr>\n",
              "      <th>0</th>\n",
              "      <td>5</td>\n",
              "      <td>5263</td>\n",
              "      <td>555</td>\n",
              "      <td>1</td>\n",
              "      <td>0</td>\n",
              "      <td>1</td>\n",
              "      <td>2</td>\n",
              "      <td>1</td>\n",
              "      <td>1270.0</td>\n",
              "      <td>0</td>\n",
              "    </tr>\n",
              "    <tr>\n",
              "      <th>1</th>\n",
              "      <td>5</td>\n",
              "      <td>6064</td>\n",
              "      <td>625</td>\n",
              "      <td>1</td>\n",
              "      <td>0</td>\n",
              "      <td>1</td>\n",
              "      <td>0</td>\n",
              "      <td>1</td>\n",
              "      <td>570.0</td>\n",
              "      <td>1</td>\n",
              "    </tr>\n",
              "    <tr>\n",
              "      <th>2</th>\n",
              "      <td>5</td>\n",
              "      <td>8314</td>\n",
              "      <td>821</td>\n",
              "      <td>1</td>\n",
              "      <td>0</td>\n",
              "      <td>1</td>\n",
              "      <td>0</td>\n",
              "      <td>1</td>\n",
              "      <td>14130.0</td>\n",
              "      <td>1</td>\n",
              "    </tr>\n",
              "    <tr>\n",
              "      <th>3</th>\n",
              "      <td>5</td>\n",
              "      <td>13995</td>\n",
              "      <td>1498</td>\n",
              "      <td>1</td>\n",
              "      <td>0</td>\n",
              "      <td>1</td>\n",
              "      <td>2</td>\n",
              "      <td>3</td>\n",
              "      <td>620.0</td>\n",
              "      <td>0</td>\n",
              "    </tr>\n",
              "    <tr>\n",
              "      <th>4</th>\n",
              "      <td>5</td>\n",
              "      <td>4822</td>\n",
              "      <td>559</td>\n",
              "      <td>1</td>\n",
              "      <td>0</td>\n",
              "      <td>1</td>\n",
              "      <td>0</td>\n",
              "      <td>1</td>\n",
              "      <td>29910.0</td>\n",
              "      <td>0</td>\n",
              "    </tr>\n",
              "  </tbody>\n",
              "</table>\n",
              "</div>\n",
              "      <button class=\"colab-df-convert\" onclick=\"convertToInteractive('df-874bc987-ce26-4f3e-a694-7df24e7bba85')\"\n",
              "              title=\"Convert this dataframe to an interactive table.\"\n",
              "              style=\"display:none;\">\n",
              "        \n",
              "  <svg xmlns=\"http://www.w3.org/2000/svg\" height=\"24px\"viewBox=\"0 0 24 24\"\n",
              "       width=\"24px\">\n",
              "    <path d=\"M0 0h24v24H0V0z\" fill=\"none\"/>\n",
              "    <path d=\"M18.56 5.44l.94 2.06.94-2.06 2.06-.94-2.06-.94-.94-2.06-.94 2.06-2.06.94zm-11 1L8.5 8.5l.94-2.06 2.06-.94-2.06-.94L8.5 2.5l-.94 2.06-2.06.94zm10 10l.94 2.06.94-2.06 2.06-.94-2.06-.94-.94-2.06-.94 2.06-2.06.94z\"/><path d=\"M17.41 7.96l-1.37-1.37c-.4-.4-.92-.59-1.43-.59-.52 0-1.04.2-1.43.59L10.3 9.45l-7.72 7.72c-.78.78-.78 2.05 0 2.83L4 21.41c.39.39.9.59 1.41.59.51 0 1.02-.2 1.41-.59l7.78-7.78 2.81-2.81c.8-.78.8-2.07 0-2.86zM5.41 20L4 18.59l7.72-7.72 1.47 1.35L5.41 20z\"/>\n",
              "  </svg>\n",
              "      </button>\n",
              "      \n",
              "  <style>\n",
              "    .colab-df-container {\n",
              "      display:flex;\n",
              "      flex-wrap:wrap;\n",
              "      gap: 12px;\n",
              "    }\n",
              "\n",
              "    .colab-df-convert {\n",
              "      background-color: #E8F0FE;\n",
              "      border: none;\n",
              "      border-radius: 50%;\n",
              "      cursor: pointer;\n",
              "      display: none;\n",
              "      fill: #1967D2;\n",
              "      height: 32px;\n",
              "      padding: 0 0 0 0;\n",
              "      width: 32px;\n",
              "    }\n",
              "\n",
              "    .colab-df-convert:hover {\n",
              "      background-color: #E2EBFA;\n",
              "      box-shadow: 0px 1px 2px rgba(60, 64, 67, 0.3), 0px 1px 3px 1px rgba(60, 64, 67, 0.15);\n",
              "      fill: #174EA6;\n",
              "    }\n",
              "\n",
              "    [theme=dark] .colab-df-convert {\n",
              "      background-color: #3B4455;\n",
              "      fill: #D2E3FC;\n",
              "    }\n",
              "\n",
              "    [theme=dark] .colab-df-convert:hover {\n",
              "      background-color: #434B5C;\n",
              "      box-shadow: 0px 1px 3px 1px rgba(0, 0, 0, 0.15);\n",
              "      filter: drop-shadow(0px 1px 2px rgba(0, 0, 0, 0.3));\n",
              "      fill: #FFFFFF;\n",
              "    }\n",
              "  </style>\n",
              "\n",
              "      <script>\n",
              "        const buttonEl =\n",
              "          document.querySelector('#df-874bc987-ce26-4f3e-a694-7df24e7bba85 button.colab-df-convert');\n",
              "        buttonEl.style.display =\n",
              "          google.colab.kernel.accessAllowed ? 'block' : 'none';\n",
              "\n",
              "        async function convertToInteractive(key) {\n",
              "          const element = document.querySelector('#df-874bc987-ce26-4f3e-a694-7df24e7bba85');\n",
              "          const dataTable =\n",
              "            await google.colab.kernel.invokeFunction('convertToInteractive',\n",
              "                                                     [key], {});\n",
              "          if (!dataTable) return;\n",
              "\n",
              "          const docLinkHtml = 'Like what you see? Visit the ' +\n",
              "            '<a target=\"_blank\" href=https://colab.research.google.com/notebooks/data_table.ipynb>data table notebook</a>'\n",
              "            + ' to learn more about interactive tables.';\n",
              "          element.innerHTML = '';\n",
              "          dataTable['output_type'] = 'display_data';\n",
              "          await google.colab.output.renderOutput(dataTable, element);\n",
              "          const docLink = document.createElement('div');\n",
              "          docLink.innerHTML = docLinkHtml;\n",
              "          element.appendChild(docLink);\n",
              "        }\n",
              "      </script>\n",
              "    </div>\n",
              "  </div>\n",
              "  "
            ]
          },
          "metadata": {},
          "execution_count": 55
        }
      ]
    },
    {
      "cell_type": "code",
      "source": [
        "ROSS3.info()"
      ],
      "metadata": {
        "colab": {
          "base_uri": "https://localhost:8080/"
        },
        "id": "4-PTY5Rhhf9W",
        "outputId": "1986c632-e331-46cc-8fe0-f6299565932b"
      },
      "execution_count": 37,
      "outputs": [
        {
          "output_type": "stream",
          "name": "stdout",
          "text": [
            "<class 'pandas.core.frame.DataFrame'>\n",
            "Int64Index: 844392 entries, 0 to 1017190\n",
            "Data columns (total 10 columns):\n",
            " #   Column               Non-Null Count   Dtype  \n",
            "---  ------               --------------   -----  \n",
            " 0   DayOfWeek            844392 non-null  int64  \n",
            " 1   Sales                844392 non-null  int64  \n",
            " 2   Customers            844392 non-null  int64  \n",
            " 3   Promo                844392 non-null  int64  \n",
            " 4   StateHoliday         844392 non-null  int64  \n",
            " 5   SchoolHoliday        844392 non-null  int64  \n",
            " 6   StoreType            844392 non-null  int64  \n",
            " 7   Assortment           844392 non-null  int64  \n",
            " 8   CompetitionDistance  844392 non-null  float64\n",
            " 9   Promo2               844392 non-null  int64  \n",
            "dtypes: float64(1), int64(9)\n",
            "memory usage: 70.9 MB\n"
          ]
        }
      ]
    },
    {
      "cell_type": "markdown",
      "source": [
        "## Variable selection modification or preparation for prediction model"
      ],
      "metadata": {
        "id": "zS4HzsOth0pn"
      }
    },
    {
      "cell_type": "markdown",
      "source": [
        "Categorical Variables"
      ],
      "metadata": {
        "id": "Q92ooKcmiFVO"
      }
    },
    {
      "cell_type": "code",
      "source": [
        "#DayOfWeek\n",
        "#We can see 'DayOfWeek' has 7 ctergories and can be simplified. As we saw earlier more sales happen in weekends, so we can create 2 categories.\n",
        "ROSS3['DayOfWeek'].replace([1,2,3,4,5,6,7],\n",
        "                        [1,0,0,0,0,0,1], inplace=True)"
      ],
      "metadata": {
        "id": "ny1I0XFDh0D2"
      },
      "execution_count": 38,
      "outputs": []
    },
    {
      "cell_type": "code",
      "source": [
        "#weekday=0 weekend=1\n",
        "ROSS3['DayOfWeek'].value_counts().plot(kind='bar')"
      ],
      "metadata": {
        "colab": {
          "base_uri": "https://localhost:8080/",
          "height": 280
        },
        "id": "b5t0JWjEtQ6I",
        "outputId": "476f185b-4f6d-42d1-944f-8301cd3a20cd"
      },
      "execution_count": 43,
      "outputs": [
        {
          "output_type": "execute_result",
          "data": {
            "text/plain": [
              "<matplotlib.axes._subplots.AxesSubplot at 0x7f333cf1f290>"
            ]
          },
          "metadata": {},
          "execution_count": 43
        },
        {
          "output_type": "display_data",
          "data": {
            "text/plain": [
              "<Figure size 432x288 with 1 Axes>"
            ],
            "image/png": "[encoded data removed]"
          },
          "metadata": {
            "needs_background": "light"
          }
        }
      ]
    },
    {
      "cell_type": "code",
      "source": [
        "#Promo,Schoolholiday and promo2 dont need changes as they are dichotomous\n",
        "#We need use dummies for 'Assortment','StateHoliday' and 'StoreType'\n",
        "ROSS3= pd.get_dummies(ROSS3,columns=['StateHoliday','StoreType','Assortment'])"
      ],
      "metadata": {
        "id": "h2MEmURQwPC-"
      },
      "execution_count": 39,
      "outputs": []
    },
    {
      "cell_type": "code",
      "source": [
        "ROSS3.info()"
      ],
      "metadata": {
        "colab": {
          "base_uri": "https://localhost:8080/"
        },
        "id": "qu-NkdZtyeDY",
        "outputId": "3f04caa2-76b0-4616-a6df-36e024f0228a"
      },
      "execution_count": 79,
      "outputs": [
        {
          "output_type": "stream",
          "name": "stdout",
          "text": [
            "<class 'pandas.core.frame.DataFrame'>\n",
            "Int64Index: 844392 entries, 0 to 1017190\n",
            "Data columns (total 18 columns):\n",
            " #   Column               Non-Null Count   Dtype  \n",
            "---  ------               --------------   -----  \n",
            " 0   DayOfWeek            844392 non-null  int64  \n",
            " 1   Sales                844392 non-null  int64  \n",
            " 2   Customers            844392 non-null  int64  \n",
            " 3   Promo                844392 non-null  int64  \n",
            " 4   SchoolHoliday        844392 non-null  int64  \n",
            " 5   CompetitionDistance  844392 non-null  float64\n",
            " 6   Promo2               844392 non-null  int64  \n",
            " 7   StateHoliday_0       844392 non-null  uint8  \n",
            " 8   StateHoliday_1       844392 non-null  uint8  \n",
            " 9   StateHoliday_2       844392 non-null  uint8  \n",
            " 10  StateHoliday_3       844392 non-null  uint8  \n",
            " 11  StoreType_0          844392 non-null  uint8  \n",
            " 12  StoreType_1          844392 non-null  uint8  \n",
            " 13  StoreType_2          844392 non-null  uint8  \n",
            " 14  StoreType_3          844392 non-null  uint8  \n",
            " 15  Assortment_1         844392 non-null  uint8  \n",
            " 16  Assortment_2         844392 non-null  uint8  \n",
            " 17  Assortment_3         844392 non-null  uint8  \n",
            "dtypes: float64(1), int64(6), uint8(11)\n",
            "memory usage: 92.6 MB\n"
          ]
        }
      ]
    },
    {
      "cell_type": "code",
      "source": [
        "#We need to drop StateHoliday-0, since it represents none.\n",
        "ROSS3.drop(['StateHoliday_0'],axis = 1, inplace=True)"
      ],
      "metadata": {
        "id": "680SxFjvPNNW"
      },
      "execution_count": 41,
      "outputs": []
    },
    {
      "cell_type": "markdown",
      "source": [
        "Continous Variables"
      ],
      "metadata": {
        "id": "sj4R0NkOytR_"
      }
    },
    {
      "cell_type": "code",
      "source": [
        "#Sales\n",
        "#Applying transformation to reduce skewness \n",
        "ROSS3['Sales']=np.sqrt(ROSS3['Sales'])\n",
        "plt.figure(figsize=(15,10))\n",
        "sns.distplot(ROSS3['Sales'])"
      ],
      "metadata": {
        "colab": {
          "base_uri": "https://localhost:8080/",
          "height": 624
        },
        "id": "w3auy5o3KCAe",
        "outputId": "ba4d686d-33dc-42b1-958c-6d726bc43db1"
      },
      "execution_count": 42,
      "outputs": [
        {
          "output_type": "execute_result",
          "data": {
            "text/plain": [
              "<matplotlib.axes._subplots.AxesSubplot at 0x7f333d1cff90>"
            ]
          },
          "metadata": {},
          "execution_count": 42
        },
        {
          "output_type": "display_data",
          "data": {
            "text/plain": [
              "<Figure size 1080x720 with 1 Axes>"
            ],
            "image/png": "[encoded data removed]"
          },
          "metadata": {
            "needs_background": "light"
          }
        }
      ]
    },
    {
      "cell_type": "code",
      "source": [
        "#checking for outliers\n",
        "sns.set_style('whitegrid')\n",
        "sns.boxplot(y=ROSS3['Sales'], palette='Pastel1');\n",
        "plt.show()"
      ],
      "metadata": {
        "colab": {
          "base_uri": "https://localhost:8080/",
          "height": 248
        },
        "id": "woZHxOBNJNTd",
        "outputId": "f810d248-d247-494c-8b4b-fbfeb63eaf0d"
      },
      "execution_count": 81,
      "outputs": [
        {
          "output_type": "display_data",
          "data": {
            "text/plain": [
              "<Figure size 432x288 with 1 Axes>"
            ],
            "image/png": "[encoded data removed]"
          },
          "metadata": {}
        }
      ]
    },
    {
      "cell_type": "code",
      "source": [
        "#Removing outliers\n",
        "percentile_25 = np.percentile(ROSS3['Sales'],25)\n",
        "percentile_75 = np.percentile(ROSS3['Sales'],75)\n",
        "iqr = (percentile_75 - percentile_25)\n",
        "upper_outlier_bound = percentile_75 + 1.5*iqr\n",
        "lower_outlier_bound = percentile_25 - 1.5*iqr\n",
        "ROSS3.drop(index=ROSS3[ROSS3['Sales']>upper_outlier_bound].index,axis=0,inplace=True)\n",
        "ROSS3.drop(index=ROSS3[ROSS3['Sales']<lower_outlier_bound].index,axis=0,inplace=True)"
      ],
      "metadata": {
        "id": "aMhIF7cbLfgF"
      },
      "execution_count": 49,
      "outputs": []
    },
    {
      "cell_type": "code",
      "source": [
        "sns.boxplot(y=ROSS3['Sales'], palette='Accent');\n",
        "plt.show()"
      ],
      "metadata": {
        "colab": {
          "base_uri": "https://localhost:8080/",
          "height": 252
        },
        "id": "84PvkesSMTrL",
        "outputId": "ad30f38e-cdea-48d2-b9ad-19fad960e808"
      },
      "execution_count": 50,
      "outputs": [
        {
          "output_type": "display_data",
          "data": {
            "text/plain": [
              "<Figure size 432x288 with 1 Axes>"
            ],
            "image/png": "[encoded data removed]"
          },
          "metadata": {
            "needs_background": "light"
          }
        }
      ]
    },
    {
      "cell_type": "markdown",
      "source": [
        "Postively skewed customers data."
      ],
      "metadata": {
        "id": "pXys8sLkI3uu"
      }
    },
    {
      "cell_type": "code",
      "source": [
        "#Customers\n",
        "#Applying transformation to reduce skewness \n",
        "ROSS3['Customers']=np.sqrt(ROSS3['Customers'])\n",
        "#checking outliers\n",
        "sns.set_style('whitegrid')\n",
        "sns.boxplot(y=ROSS3['Customers'], palette='Pastel1');\n",
        "plt.show()"
      ],
      "metadata": {
        "colab": {
          "base_uri": "https://localhost:8080/",
          "height": 250
        },
        "id": "1cFKigN0UGKY",
        "outputId": "c94f7cb7-006b-4000-d9ed-91bb024bfb8f"
      },
      "execution_count": 51,
      "outputs": [
        {
          "output_type": "display_data",
          "data": {
            "text/plain": [
              "<Figure size 432x288 with 1 Axes>"
            ],
            "image/png": "[encoded data removed]"
          },
          "metadata": {}
        }
      ]
    },
    {
      "cell_type": "code",
      "source": [
        "percentile_25 = np.percentile(ROSS3['Customers'],25)\n",
        "percentile_75 = np.percentile(ROSS3['Customers'],75)\n",
        "iqr = (percentile_75 - percentile_25)\n",
        "upper_outlier_bound = percentile_75 + 1.5*iqr\n",
        "lower_outlier_bound = percentile_25 - 1.5*iqr\n",
        "ROSS3.drop(index=ROSS3[ROSS3['Customers']>upper_outlier_bound].index,axis=0,inplace=True)\n",
        "ROSS3.drop(index=ROSS3[ROSS3['Customers']<lower_outlier_bound].index,axis=0,inplace=True)\n",
        "sns.set_style('whitegrid')\n",
        "sns.boxplot(y=ROSS3['Customers'], palette='Accent');\n",
        "plt.show()\n"
      ],
      "metadata": {
        "colab": {
          "base_uri": "https://localhost:8080/",
          "height": 248
        },
        "id": "qLrkmqyfUow9",
        "outputId": "b389db44-ca21-4c2b-80f9-5eb2c9e69940"
      },
      "execution_count": 52,
      "outputs": [
        {
          "output_type": "display_data",
          "data": {
            "text/plain": [
              "<Figure size 432x288 with 1 Axes>"
            ],
            "image/png": "[encoded data removed]"
          },
          "metadata": {}
        }
      ]
    },
    {
      "cell_type": "code",
      "source": [
        "#CompetitionDistance\n",
        "#Applying transformation to reduce skewness \n",
        "ROSS3['CompetitionDistance']=np.log(ROSS3['CompetitionDistance'])\n",
        "#checking outliers\n",
        "sns.set_style('whitegrid')\n",
        "sns.boxplot(y=ROSS3['CompetitionDistance'], palette='Pastel1');\n",
        "plt.show()"
      ],
      "metadata": {
        "colab": {
          "base_uri": "https://localhost:8080/",
          "height": 248
        },
        "id": "-L8IF8ZFUDuo",
        "outputId": "9581ffe8-0156-4145-e572-d9a81167183d"
      },
      "execution_count": 53,
      "outputs": [
        {
          "output_type": "display_data",
          "data": {
            "text/plain": [
              "<Figure size 432x288 with 1 Axes>"
            ],
            "image/png": "[encoded data removed]"
          },
          "metadata": {}
        }
      ]
    },
    {
      "cell_type": "code",
      "source": [
        "percentile_25 = np.percentile(ROSS3['CompetitionDistance'],25)\n",
        "percentile_75 = np.percentile(ROSS3['CompetitionDistance'],75)\n",
        "iqr = (percentile_75 - percentile_25)\n",
        "upper_outlier_bound = percentile_75 + 1.5*iqr\n",
        "lower_outlier_bound = percentile_25 - 1.5*iqr\n",
        "ROSS3.drop(index=ROSS3[ROSS3['CompetitionDistance']>upper_outlier_bound].index,axis=0,inplace=True)\n",
        "ROSS3.drop(index=ROSS3[ROSS3['CompetitionDistance']<lower_outlier_bound].index,axis=0,inplace=True)\n",
        "sns.set_style('whitegrid')\n",
        "sns.boxplot(y=ROSS3['CompetitionDistance'], palette='Accent');\n",
        "plt.show()"
      ],
      "metadata": {
        "colab": {
          "base_uri": "https://localhost:8080/",
          "height": 248
        },
        "id": "QstAWzfTXxqu",
        "outputId": "957264e6-3fe9-4f6b-85e1-0458328356a8"
      },
      "execution_count": 54,
      "outputs": [
        {
          "output_type": "display_data",
          "data": {
            "text/plain": [
              "<Figure size 432x288 with 1 Axes>"
            ],
            "image/png": "[encoded data removed]"
          },
          "metadata": {}
        }
      ]
    },
    {
      "cell_type": "code",
      "source": [
        "ROSS3.hist(figsize = (20,20),bins=50,color='red')"
      ],
      "metadata": {
        "colab": {
          "base_uri": "https://localhost:8080/",
          "height": 1000
        },
        "id": "DmoMOvBXLHoZ",
        "outputId": "561b5ca9-11af-465d-c1dc-3b608588bd3e"
      },
      "execution_count": 55,
      "outputs": [
        {
          "output_type": "execute_result",
          "data": {
            "text/plain": [
              "array([[<matplotlib.axes._subplots.AxesSubplot object at 0x7f333cda3550>,\n",
              "        <matplotlib.axes._subplots.AxesSubplot object at 0x7f333cd35bd0>,\n",
              "        <matplotlib.axes._subplots.AxesSubplot object at 0x7f333cd01690>,\n",
              "        <matplotlib.axes._subplots.AxesSubplot object at 0x7f333ccb8c90>],\n",
              "       [<matplotlib.axes._subplots.AxesSubplot object at 0x7f333cc7c2d0>,\n",
              "        <matplotlib.axes._subplots.AxesSubplot object at 0x7f333cc318d0>,\n",
              "        <matplotlib.axes._subplots.AxesSubplot object at 0x7f333cbe9f50>,\n",
              "        <matplotlib.axes._subplots.AxesSubplot object at 0x7f333cbac4d0>],\n",
              "       [<matplotlib.axes._subplots.AxesSubplot object at 0x7f333cbac510>,\n",
              "        <matplotlib.axes._subplots.AxesSubplot object at 0x7f333cb62c10>,\n",
              "        <matplotlib.axes._subplots.AxesSubplot object at 0x7f333cadf750>,\n",
              "        <matplotlib.axes._subplots.AxesSubplot object at 0x7f333ca95d50>],\n",
              "       [<matplotlib.axes._subplots.AxesSubplot object at 0x7f333ca57390>,\n",
              "        <matplotlib.axes._subplots.AxesSubplot object at 0x7f333ca0f990>,\n",
              "        <matplotlib.axes._subplots.AxesSubplot object at 0x7f333ca45f90>,\n",
              "        <matplotlib.axes._subplots.AxesSubplot object at 0x7f333ca095d0>],\n",
              "       [<matplotlib.axes._subplots.AxesSubplot object at 0x7f333c9bfbd0>,\n",
              "        <matplotlib.axes._subplots.AxesSubplot object at 0x7f333c985210>,\n",
              "        <matplotlib.axes._subplots.AxesSubplot object at 0x7f333c93b810>,\n",
              "        <matplotlib.axes._subplots.AxesSubplot object at 0x7f333c8f1e10>]],\n",
              "      dtype=object)"
            ]
          },
          "metadata": {},
          "execution_count": 55
        },
        {
          "output_type": "display_data",
          "data": {
            "text/plain": [
              "<Figure size 1440x1440 with 20 Axes>"
            ],
            "image/png": "[encoded data removed]"
          },
          "metadata": {}
        }
      ]
    },
    {
      "cell_type": "code",
      "source": [
        "ROSS3.head()"
      ],
      "metadata": {
        "colab": {
          "base_uri": "https://localhost:8080/",
          "height": 270
        },
        "id": "xY6INsbbFaX7",
        "outputId": "3902f919-ed1f-464b-92be-3cecb0629ec2"
      },
      "execution_count": 56,
      "outputs": [
        {
          "output_type": "execute_result",
          "data": {
            "text/plain": [
              "   DayOfWeek       Sales  Customers  Promo  SchoolHoliday  \\\n",
              "0          0   72.546537  23.558438      1              1   \n",
              "1          0   77.871689  25.000000      1              1   \n",
              "2          0   91.181138  28.653098      1              1   \n",
              "3          0  118.300465  38.704005      1              1   \n",
              "4          0   69.440622  23.643181      1              1   \n",
              "\n",
              "   CompetitionDistance  Promo2  StateHoliday_1  StateHoliday_2  \\\n",
              "0             7.146772       0               0               0   \n",
              "1             6.345636       1               0               0   \n",
              "2             9.556055       1               0               0   \n",
              "3             6.429719       0               0               0   \n",
              "4            10.305948       0               0               0   \n",
              "\n",
              "   StateHoliday_3  StoreType_0  StoreType_1  StoreType_2  StoreType_3  \\\n",
              "0               0            0            0            1            0   \n",
              "1               0            1            0            0            0   \n",
              "2               0            1            0            0            0   \n",
              "3               0            0            0            1            0   \n",
              "4               0            1            0            0            0   \n",
              "\n",
              "   Assortment_1  Assortment_2  Assortment_3  \n",
              "0             1             0             0  \n",
              "1             1             0             0  \n",
              "2             1             0             0  \n",
              "3             0             0             1  \n",
              "4             1             0             0  "
            ],
            "text/html": [
              "\n",
              "  <div id=\"df-1ea08027-6db5-41af-b67d-995fad483255\">\n",
              "    <div class=\"colab-df-container\">\n",
              "      <div>\n",
              "<style scoped>\n",
              "    .dataframe tbody tr th:only-of-type {\n",
              "        vertical-align: middle;\n",
              "    }\n",
              "\n",
              "    .dataframe tbody tr th {\n",
              "        vertical-align: top;\n",
              "    }\n",
              "\n",
              "    .dataframe thead th {\n",
              "        text-align: right;\n",
              "    }\n",
              "</style>\n",
              "<table border=\"1\" class=\"dataframe\">\n",
              "  <thead>\n",
              "    <tr style=\"text-align: right;\">\n",
              "      <th></th>\n",
              "      <th>DayOfWeek</th>\n",
              "      <th>Sales</th>\n",
              "      <th>Customers</th>\n",
              "      <th>Promo</th>\n",
              "      <th>SchoolHoliday</th>\n",
              "      <th>CompetitionDistance</th>\n",
              "      <th>Promo2</th>\n",
              "      <th>StateHoliday_1</th>\n",
              "      <th>StateHoliday_2</th>\n",
              "      <th>StateHoliday_3</th>\n",
              "      <th>StoreType_0</th>\n",
              "      <th>StoreType_1</th>\n",
              "      <th>StoreType_2</th>\n",
              "      <th>StoreType_3</th>\n",
              "      <th>Assortment_1</th>\n",
              "      <th>Assortment_2</th>\n",
              "      <th>Assortment_3</th>\n",
              "    </tr>\n",
              "  </thead>\n",
              "  <tbody>\n",
              "    <tr>\n",
              "      <th>0</th>\n",
              "      <td>0</td>\n",
              "      <td>72.546537</td>\n",
              "      <td>23.558438</td>\n",
              "      <td>1</td>\n",
              "      <td>1</td>\n",
              "      <td>7.146772</td>\n",
              "      <td>0</td>\n",
              "      <td>0</td>\n",
              "      <td>0</td>\n",
              "      <td>0</td>\n",
              "      <td>0</td>\n",
              "      <td>0</td>\n",
              "      <td>1</td>\n",
              "      <td>0</td>\n",
              "      <td>1</td>\n",
              "      <td>0</td>\n",
              "      <td>0</td>\n",
              "    </tr>\n",
              "    <tr>\n",
              "      <th>1</th>\n",
              "      <td>0</td>\n",
              "      <td>77.871689</td>\n",
              "      <td>25.000000</td>\n",
              "      <td>1</td>\n",
              "      <td>1</td>\n",
              "      <td>6.345636</td>\n",
              "      <td>1</td>\n",
              "      <td>0</td>\n",
              "      <td>0</td>\n",
              "      <td>0</td>\n",
              "      <td>1</td>\n",
              "      <td>0</td>\n",
              "      <td>0</td>\n",
              "      <td>0</td>\n",
              "      <td>1</td>\n",
              "      <td>0</td>\n",
              "      <td>0</td>\n",
              "    </tr>\n",
              "    <tr>\n",
              "      <th>2</th>\n",
              "      <td>0</td>\n",
              "      <td>91.181138</td>\n",
              "      <td>28.653098</td>\n",
              "      <td>1</td>\n",
              "      <td>1</td>\n",
              "      <td>9.556055</td>\n",
              "      <td>1</td>\n",
              "      <td>0</td>\n",
              "      <td>0</td>\n",
              "      <td>0</td>\n",
              "      <td>1</td>\n",
              "      <td>0</td>\n",
              "      <td>0</td>\n",
              "      <td>0</td>\n",
              "      <td>1</td>\n",
              "      <td>0</td>\n",
              "      <td>0</td>\n",
              "    </tr>\n",
              "    <tr>\n",
              "      <th>3</th>\n",
              "      <td>0</td>\n",
              "      <td>118.300465</td>\n",
              "      <td>38.704005</td>\n",
              "      <td>1</td>\n",
              "      <td>1</td>\n",
              "      <td>6.429719</td>\n",
              "      <td>0</td>\n",
              "      <td>0</td>\n",
              "      <td>0</td>\n",
              "      <td>0</td>\n",
              "      <td>0</td>\n",
              "      <td>0</td>\n",
              "      <td>1</td>\n",
              "      <td>0</td>\n",
              "      <td>0</td>\n",
              "      <td>0</td>\n",
              "      <td>1</td>\n",
              "    </tr>\n",
              "    <tr>\n",
              "      <th>4</th>\n",
              "      <td>0</td>\n",
              "      <td>69.440622</td>\n",
              "      <td>23.643181</td>\n",
              "      <td>1</td>\n",
              "      <td>1</td>\n",
              "      <td>10.305948</td>\n",
              "      <td>0</td>\n",
              "      <td>0</td>\n",
              "      <td>0</td>\n",
              "      <td>0</td>\n",
              "      <td>1</td>\n",
              "      <td>0</td>\n",
              "      <td>0</td>\n",
              "      <td>0</td>\n",
              "      <td>1</td>\n",
              "      <td>0</td>\n",
              "      <td>0</td>\n",
              "    </tr>\n",
              "  </tbody>\n",
              "</table>\n",
              "</div>\n",
              "      <button class=\"colab-df-convert\" onclick=\"convertToInteractive('df-1ea08027-6db5-41af-b67d-995fad483255')\"\n",
              "              title=\"Convert this dataframe to an interactive table.\"\n",
              "              style=\"display:none;\">\n",
              "        \n",
              "  <svg xmlns=\"http://www.w3.org/2000/svg\" height=\"24px\"viewBox=\"0 0 24 24\"\n",
              "       width=\"24px\">\n",
              "    <path d=\"M0 0h24v24H0V0z\" fill=\"none\"/>\n",
              "    <path d=\"M18.56 5.44l.94 2.06.94-2.06 2.06-.94-2.06-.94-.94-2.06-.94 2.06-2.06.94zm-11 1L8.5 8.5l.94-2.06 2.06-.94-2.06-.94L8.5 2.5l-.94 2.06-2.06.94zm10 10l.94 2.06.94-2.06 2.06-.94-2.06-.94-.94-2.06-.94 2.06-2.06.94z\"/><path d=\"M17.41 7.96l-1.37-1.37c-.4-.4-.92-.59-1.43-.59-.52 0-1.04.2-1.43.59L10.3 9.45l-7.72 7.72c-.78.78-.78 2.05 0 2.83L4 21.41c.39.39.9.59 1.41.59.51 0 1.02-.2 1.41-.59l7.78-7.78 2.81-2.81c.8-.78.8-2.07 0-2.86zM5.41 20L4 18.59l7.72-7.72 1.47 1.35L5.41 20z\"/>\n",
              "  </svg>\n",
              "      </button>\n",
              "      \n",
              "  <style>\n",
              "    .colab-df-container {\n",
              "      display:flex;\n",
              "      flex-wrap:wrap;\n",
              "      gap: 12px;\n",
              "    }\n",
              "\n",
              "    .colab-df-convert {\n",
              "      background-color: #E8F0FE;\n",
              "      border: none;\n",
              "      border-radius: 50%;\n",
              "      cursor: pointer;\n",
              "      display: none;\n",
              "      fill: #1967D2;\n",
              "      height: 32px;\n",
              "      padding: 0 0 0 0;\n",
              "      width: 32px;\n",
              "    }\n",
              "\n",
              "    .colab-df-convert:hover {\n",
              "      background-color: #E2EBFA;\n",
              "      box-shadow: 0px 1px 2px rgba(60, 64, 67, 0.3), 0px 1px 3px 1px rgba(60, 64, 67, 0.15);\n",
              "      fill: #174EA6;\n",
              "    }\n",
              "\n",
              "    [theme=dark] .colab-df-convert {\n",
              "      background-color: #3B4455;\n",
              "      fill: #D2E3FC;\n",
              "    }\n",
              "\n",
              "    [theme=dark] .colab-df-convert:hover {\n",
              "      background-color: #434B5C;\n",
              "      box-shadow: 0px 1px 3px 1px rgba(0, 0, 0, 0.15);\n",
              "      filter: drop-shadow(0px 1px 2px rgba(0, 0, 0, 0.3));\n",
              "      fill: #FFFFFF;\n",
              "    }\n",
              "  </style>\n",
              "\n",
              "      <script>\n",
              "        const buttonEl =\n",
              "          document.querySelector('#df-1ea08027-6db5-41af-b67d-995fad483255 button.colab-df-convert');\n",
              "        buttonEl.style.display =\n",
              "          google.colab.kernel.accessAllowed ? 'block' : 'none';\n",
              "\n",
              "        async function convertToInteractive(key) {\n",
              "          const element = document.querySelector('#df-1ea08027-6db5-41af-b67d-995fad483255');\n",
              "          const dataTable =\n",
              "            await google.colab.kernel.invokeFunction('convertToInteractive',\n",
              "                                                     [key], {});\n",
              "          if (!dataTable) return;\n",
              "\n",
              "          const docLinkHtml = 'Like what you see? Visit the ' +\n",
              "            '<a target=\"_blank\" href=https://colab.research.google.com/notebooks/data_table.ipynb>data table notebook</a>'\n",
              "            + ' to learn more about interactive tables.';\n",
              "          element.innerHTML = '';\n",
              "          dataTable['output_type'] = 'display_data';\n",
              "          await google.colab.output.renderOutput(dataTable, element);\n",
              "          const docLink = document.createElement('div');\n",
              "          docLink.innerHTML = docLinkHtml;\n",
              "          element.appendChild(docLink);\n",
              "        }\n",
              "      </script>\n",
              "    </div>\n",
              "  </div>\n",
              "  "
            ]
          },
          "metadata": {},
          "execution_count": 56
        }
      ]
    },
    {
      "cell_type": "markdown",
      "source": [
        "## Regression Model"
      ],
      "metadata": {
        "id": "JFxou6zV4rSJ"
      }
    },
    {
      "cell_type": "code",
      "source": [
        "from sklearn import metrics\n",
        "#Evaluate Metrics\n",
        "def print_evaluate(true, predicted):  \n",
        "    mae = metrics.mean_absolute_error(true, predicted)\n",
        "    mse = metrics.mean_squared_error(true, predicted)\n",
        "    rmse = np.sqrt(metrics.mean_squared_error(true, predicted))\n",
        "    r2_square = metrics.r2_score(true, predicted)\n",
        "    print('MAE:', mae)\n",
        "    print('MSE:', mse)\n",
        "    print('RMSE:', rmse)\n",
        "    print('R2 Square', r2_square)\n",
        "    print('__________________________________')\n",
        "    "
      ],
      "metadata": {
        "id": "5WhFGr-B4wp9"
      },
      "execution_count": 57,
      "outputs": []
    },
    {
      "cell_type": "code",
      "source": [
        "#preprocessing data\n",
        "X = ROSS3.drop(columns=['Sales']).copy()\n",
        "y = ROSS3[['Sales']].copy()"
      ],
      "metadata": {
        "id": "lJWAyPIGj3wh"
      },
      "execution_count": 58,
      "outputs": []
    },
    {
      "cell_type": "code",
      "source": [
        "#Test Train Split\n",
        "X_train, X_test, y_train, y_test = train_test_split(X, y, test_size = 0.3, random_state = 42)"
      ],
      "metadata": {
        "id": "848VhvRgkO2B"
      },
      "execution_count": 59,
      "outputs": []
    },
    {
      "cell_type": "code",
      "source": [
        "LR = LinearRegression(normalize=True)\n",
        "LR.fit(X_train,y_train)"
      ],
      "metadata": {
        "colab": {
          "base_uri": "https://localhost:8080/"
        },
        "id": "GRiUnuIC9p5e",
        "outputId": "67869749-bdb1-4f7d-eed2-3d0a27134b6e"
      },
      "execution_count": 60,
      "outputs": [
        {
          "output_type": "execute_result",
          "data": {
            "text/plain": [
              "LinearRegression(normalize=True)"
            ]
          },
          "metadata": {},
          "execution_count": 60
        }
      ]
    },
    {
      "cell_type": "code",
      "source": [
        "pred = LR.predict(X_test)\n",
        "test_pred = LR.predict(X_test)\n",
        "train_pred = LR.predict(X_train)\n",
        "\n",
        "print('Test set evaluation:\\n')\n",
        "print_evaluate(y_test, test_pred)\n",
        "print('Train set evaluation:\\n')\n",
        "print_evaluate(y_train, train_pred)\n"
      ],
      "metadata": {
        "colab": {
          "base_uri": "https://localhost:8080/"
        },
        "id": "EA_EjmzTQtjv",
        "outputId": "e072abd2-5d03-4522-d6bc-6a4cc180cbc3"
      },
      "execution_count": 61,
      "outputs": [
        {
          "output_type": "stream",
          "name": "stdout",
          "text": [
            "Test set evaluation:\n",
            "\n",
            "MAE: 4.879969897252813\n",
            "MSE: 38.101256125301404\n",
            "RMSE: 6.172621495386008\n",
            "R2 Square 0.8310127971223452\n",
            "__________________________________\n",
            "Train set evaluation:\n",
            "\n",
            "MAE: 4.893372282164424\n",
            "MSE: 38.291542581448184\n",
            "RMSE: 6.188016045668287\n",
            "R2 Square 0.8307157914313972\n",
            "__________________________________\n"
          ]
        }
      ]
    },
    {
      "cell_type": "code",
      "source": [
        "#Mean of Residuals \n",
        "residuals = y_train.values-train_pred\n",
        "mean_residuals = np.mean(residuals)\n",
        "print(\"Mean of Residuals {}\".format(mean_residuals))"
      ],
      "metadata": {
        "colab": {
          "base_uri": "https://localhost:8080/"
        },
        "id": "3UeflLEqRy0C",
        "outputId": "394f045e-b326-416e-df79-fa930d4df59b"
      },
      "execution_count": 62,
      "outputs": [
        {
          "output_type": "stream",
          "name": "stdout",
          "text": [
            "Mean of Residuals 1.8599316443868745e-14\n"
          ]
        }
      ]
    },
    {
      "cell_type": "markdown",
      "source": [
        "Mean of residuals is very close to 0 which shows good model fit."
      ],
      "metadata": {
        "id": "FY5OSoNUSCwF"
      }
    },
    {
      "cell_type": "code",
      "source": [
        "#Checking Normality of residuals\n",
        "Rplot = sns.distplot(residuals,kde=True)\n",
        "Rplot = plt.title('Normality of residuals')"
      ],
      "metadata": {
        "colab": {
          "base_uri": "https://localhost:8080/",
          "height": 281
        },
        "id": "ul4dcsdiSYDU",
        "outputId": "6dddcd60-b963-41ca-ea08-3689668aa062"
      },
      "execution_count": 63,
      "outputs": [
        {
          "output_type": "display_data",
          "data": {
            "text/plain": [
              "<Figure size 432x288 with 1 Axes>"
            ],
            "image/png": "[encoded data removed]"
          },
          "metadata": {}
        }
      ]
    },
    {
      "cell_type": "markdown",
      "source": [
        "Normal distribution is seen, but large sample size can show normality and can be biased."
      ],
      "metadata": {
        "id": "epmoeBQKSwNj"
      }
    },
    {
      "cell_type": "markdown",
      "source": [
        "## **CROSS VALIDATION**"
      ],
      "metadata": {
        "id": "2yO7XEEnTOzn"
      }
    },
    {
      "cell_type": "markdown",
      "source": [
        "Cross Validation can help in determining appropriate accuracy."
      ],
      "metadata": {
        "id": "VvGaIzwITqzU"
      }
    },
    {
      "cell_type": "code",
      "source": [
        "# Crossvalidation\n",
        "from sklearn.model_selection import cross_val_score\n",
        "reg = LinearRegression()\n",
        "#Lets take K=7 to predict data 7 times\n",
        "k = 7\n",
        "\n",
        "\n",
        "\n",
        "cv_result = cross_val_score(LR,X,y,cv=k) # uses R^2 as score \n",
        "print('CVscores: ',cv_result)\n",
        "print('CVscoresAverage: ',np.sum(cv_result)/k)"
      ],
      "metadata": {
        "colab": {
          "base_uri": "https://localhost:8080/"
        },
        "id": "cMLQcSF6Svcm",
        "outputId": "66f567a9-a2d8-4db9-d9a2-e29680cf703c"
      },
      "execution_count": 67,
      "outputs": [
        {
          "output_type": "stream",
          "name": "stdout",
          "text": [
            "CVscores:  [0.8104891  0.82795618 0.83496846 0.83448024 0.82968377 0.82562715\n",
            " 0.83209782]\n",
            "CVscoresAverage:  0.8279003894365528\n"
          ]
        }
      ]
    },
    {
      "cell_type": "markdown",
      "source": [
        "Linear Regression gives high coefficient to features it considers important.Adding to this overfitting may arise to large sample size. We can use regularisation techniques to prevent this by penalizing large coefficients.\n",
        "\n",
        "\n",
        "**Ridge regression or L2 regression**: First regularization technique.\n",
        "\n",
        "Ridge regression lost fuction = OLS + alpha * sum(parameter^2) alpha is parameter we need to choose to fit and predict. alpha is hyperparameter that we need to choose for best accuracy and model complexity. This process is called hyperparameter tuning.\n",
        "What if alpha is zero? lost function = OLS so that is linear rigression\n",
        "If alpha is small that can cause overfitting\n",
        "If alpha is big that can cause underfitting.\n",
        "\n",
        "\n",
        "**Lasso regression**: Second regularization technique.\n",
        "\n",
        "Lasso regression lost fuction = OLS + alpha * sum(absolute_value(parameter))\n",
        "It can be used to select important features od the data. Because features whose values are not shrinked to zero, is chosen by lasso regression"
      ],
      "metadata": {
        "id": "nLsMN4FdW7aK"
      }
    },
    {
      "cell_type": "code",
      "source": [
        "#Lasso Regression\n",
        "lasso = Lasso(selection='random',random_state=0)\n",
        "parameters = {'alpha': [1e-8,1e-5,1e-4,1e-3,1e-2,1e-1,1,5,10,]}\n",
        "lasso_regressor = GridSearchCV(lasso, parameters, scoring='neg_mean_squared_error', cv=5)\n",
        "lasso_regressor.fit(X_train, y_train)\n",
        "\n",
        "test_pred = lasso_regressor.predict(X_test)\n",
        "train_pred = lasso_regressor.predict(X_train)\n",
        "\n",
        "print('Test set evaluation:\\n')\n",
        "print_evaluate(y_test, test_pred)\n",
        "print('====================================')\n",
        "print('Train set evaluation:\\n')\n",
        "zw=print_evaluate(y_train, train_pred)\n",
        "\n",
        "print(\"The best fit alpha value is :\" ,lasso_regressor.best_params_)"
      ],
      "metadata": {
        "colab": {
          "base_uri": "https://localhost:8080/"
        },
        "id": "h2L3i1tAYrLz",
        "outputId": "9dc29faa-44eb-454d-a2c7-0176f0393b51"
      },
      "execution_count": 69,
      "outputs": [
        {
          "output_type": "stream",
          "name": "stdout",
          "text": [
            "Test set evaluation:\n",
            "\n",
            "MAE: 4.8799698984579685\n",
            "MSE: 38.10125611814153\n",
            "RMSE: 6.172621494806038\n",
            "R2 Square 0.8310127971541008\n",
            "__________________________________\n",
            "====================================\n",
            "Train set evaluation:\n",
            "\n",
            "MAE: 4.893372283916927\n",
            "MSE: 38.29154258145156\n",
            "RMSE: 6.18801604566856\n",
            "R2 Square 0.8307157914313822\n",
            "__________________________________\n",
            "The best fit alpha value is : {'alpha': 1e-08}\n"
          ]
        }
      ]
    },
    {
      "cell_type": "code",
      "source": [
        "#Ridge Regression\n",
        "ridge = Ridge(alpha=0.001, solver='cholesky', tol=0.0001, random_state=42)\n",
        "ridge.fit(X_train, y_train)\n",
        "pred = ridge.predict(X_test)\n",
        "\n",
        "test_pred = ridge.predict(X_test)\n",
        "train_pred = ridge.predict(X_train)\n",
        "\n",
        "print('Test set evaluation:\\n')\n",
        "print_evaluate(y_test, test_pred)\n",
        "print('====================================')\n",
        "print('Train set evaluation:\\n')\n",
        "print_evaluate(y_train, train_pred)"
      ],
      "metadata": {
        "colab": {
          "base_uri": "https://localhost:8080/"
        },
        "id": "H-W0NvcjZpHU",
        "outputId": "c64d6155-5359-4a85-f30f-bf340ba1e9e9"
      },
      "execution_count": 71,
      "outputs": [
        {
          "output_type": "stream",
          "name": "stdout",
          "text": [
            "Test set evaluation:\n",
            "\n",
            "MAE: 4.879969902932538\n",
            "MSE: 38.1012561337092\n",
            "RMSE: 6.172621496067064\n",
            "R2 Square 0.8310127970850548\n",
            "__________________________________\n",
            "====================================\n",
            "Train set evaluation:\n",
            "\n",
            "MAE: 4.893372286467661\n",
            "MSE: 38.291542581452156\n",
            "RMSE: 6.188016045668608\n",
            "R2 Square 0.8307157914313796\n",
            "__________________________________\n"
          ]
        }
      ]
    },
    {
      "cell_type": "code",
      "source": [
        "#Elastic Net\n",
        "Elastic = ElasticNet(alpha=0.1, l1_ratio=0.9, selection='random', random_state=42)\n",
        "Elastic.fit(X_train, y_train)\n",
        "\n",
        "test_pred = Elastic.predict(X_test)\n",
        "train_pred = Elastic.predict(X_train)\n",
        "\n",
        "print('Test set evaluation:\\n')\n",
        "print_evaluate(y_test, test_pred)\n",
        "print('Train set evaluation:\\n')\n",
        "print_evaluate(y_train, train_pred)"
      ],
      "metadata": {
        "colab": {
          "base_uri": "https://localhost:8080/"
        },
        "id": "Ab79Vxj9ao96",
        "outputId": "844d4b57-f44d-4769-ff20-c907eabbd2a8"
      },
      "execution_count": 72,
      "outputs": [
        {
          "output_type": "stream",
          "name": "stdout",
          "text": [
            "Test set evaluation:\n",
            "\n",
            "MAE: 4.986305484960194\n",
            "MSE: 41.17548387245897\n",
            "RMSE: 6.416812594462999\n",
            "R2 Square 0.8173779409303981\n",
            "__________________________________\n",
            "Train set evaluation:\n",
            "\n",
            "MAE: 5.00114576844674\n",
            "MSE: 41.430084620880244\n",
            "RMSE: 6.436620590098522\n",
            "R2 Square 0.8168405184759023\n",
            "__________________________________\n"
          ]
        }
      ]
    },
    {
      "cell_type": "code",
      "source": [
        "#Decision tree regressor\n",
        "DT_model = DecisionTreeRegressor()\n",
        "DT_model.fit(X_train,y_train)"
      ],
      "metadata": {
        "colab": {
          "base_uri": "https://localhost:8080/"
        },
        "id": "E6N9nRU-a_GV",
        "outputId": "1f3224fb-940e-4941-856a-f0f55ec24dba"
      },
      "execution_count": 73,
      "outputs": [
        {
          "output_type": "execute_result",
          "data": {
            "text/plain": [
              "DecisionTreeRegressor()"
            ]
          },
          "metadata": {},
          "execution_count": 73
        }
      ]
    },
    {
      "cell_type": "code",
      "source": [
        "test_pred = DT_model.predict(X_test)\n",
        "train_pred = DT_model.predict(X_train)\n",
        "\n",
        "print('Test set evaluation:\\n')\n",
        "print_evaluate(y_test, test_pred)\n",
        "print('====================================')\n",
        "print('Train set evaluation:\\n')\n",
        "print_evaluate(y_train, train_pred)"
      ],
      "metadata": {
        "colab": {
          "base_uri": "https://localhost:8080/"
        },
        "id": "pWMmf4x0bKuN",
        "outputId": "c01158da-e52a-4912-8ac8-85b509cea470"
      },
      "execution_count": 74,
      "outputs": [
        {
          "output_type": "stream",
          "name": "stdout",
          "text": [
            "Test set evaluation:\n",
            "\n",
            "MAE: 2.916319665634905\n",
            "MSE: 15.97047740795737\n",
            "RMSE: 3.9963079721109294\n",
            "R2 Square 0.9291675241121687\n",
            "__________________________________\n",
            "====================================\n",
            "Train set evaluation:\n",
            "\n",
            "MAE: 0.5575810328571399\n",
            "MSE: 1.5090816323811005\n",
            "RMSE: 1.2284468374256579\n",
            "R2 Square 0.993328456557746\n",
            "__________________________________\n"
          ]
        }
      ]
    },
    {
      "cell_type": "code",
      "source": [
        "#Support vector Regressor\n",
        "SVR = SVR()\n",
        "SVR.fit(X_train,y_train)"
      ],
      "metadata": {
        "id": "53bc6L5Obc8H"
      },
      "execution_count": null,
      "outputs": []
    },
    {
      "cell_type": "code",
      "source": [
        "test_pred = SVR.predict(X_test)\n",
        "train_pred = SVR.predict(X_train)\n",
        "\n",
        "print('Test set evaluation:\\n')\n",
        "print_evaluate(y_test, test_pred)\n",
        "print('====================================')\n",
        "print('Train set evaluation:\\n')\n",
        "print_evaluate(y_train, train_pred)"
      ],
      "metadata": {
        "id": "peuOhcUqcJJI"
      },
      "execution_count": null,
      "outputs": []
    },
    {
      "cell_type": "code",
      "source": [
        "#Random forest regressor\n",
        "param_grid = {  'bootstrap': [True], 'max_depth': [5, 10, None], 'max_features': ['auto', 'log2'], 'n_estimators': [50]}\n",
        "rfr = RandomForestRegressor(random_state = 1)\n",
        "\n",
        "random_forest_model= GridSearchCV(estimator = rfr, param_grid = param_grid, \n",
        "\n",
        "                          cv = 3, n_jobs = 1, verbose = 0, return_train_score=True)\n",
        "\n",
        "# # Fit the object to train dataset\n",
        "random_forest_model.fit(X_train, y_train)\n",
        "param_grid = {  'bootstrap': [True], 'max_depth': [5, 10, None], 'max_features': ['auto', 'log2'], 'n_estimators': [50]}\n",
        "rfr = RandomForestRegressor(random_state = 1)\n",
        "\n",
        "random_forest_model= GridSearchCV(estimator = rfr, param_grid = param_grid, \n",
        "\n",
        "                          cv = 3, n_jobs = 1, verbose = 0, return_train_score=True)\n",
        "\n",
        "# # Fit the object to train dataset\n",
        "random_forest_model.fit(X_train, y_train)"
      ],
      "metadata": {
        "colab": {
          "base_uri": "https://localhost:8080/",
          "height": 240
        },
        "id": "XRf2ayU3chjJ",
        "outputId": "139e4f83-34fe-480b-8b52-92bbe6a16412"
      },
      "execution_count": 2,
      "outputs": [
        {
          "output_type": "error",
          "ename": "NameError",
          "evalue": "ignored",
          "traceback": [
            "\u001b[0;31m---------------------------------------------------------------------------\u001b[0m",
            "\u001b[0;31mNameError\u001b[0m                                 Traceback (most recent call last)",
            "\u001b[0;32m<ipython-input-2-d65b5b754751>\u001b[0m in \u001b[0;36m<module>\u001b[0;34m\u001b[0m\n\u001b[1;32m      1\u001b[0m \u001b[0;31m#Random forest regressor\u001b[0m\u001b[0;34m\u001b[0m\u001b[0;34m\u001b[0m\u001b[0;34m\u001b[0m\u001b[0m\n\u001b[1;32m      2\u001b[0m \u001b[0mparam_grid\u001b[0m \u001b[0;34m=\u001b[0m \u001b[0;34m{\u001b[0m  \u001b[0;34m'bootstrap'\u001b[0m\u001b[0;34m:\u001b[0m \u001b[0;34m[\u001b[0m\u001b[0;32mTrue\u001b[0m\u001b[0;34m]\u001b[0m\u001b[0;34m,\u001b[0m \u001b[0;34m'max_depth'\u001b[0m\u001b[0;34m:\u001b[0m \u001b[0;34m[\u001b[0m\u001b[0;36m5\u001b[0m\u001b[0;34m,\u001b[0m \u001b[0;36m10\u001b[0m\u001b[0;34m,\u001b[0m \u001b[0;32mNone\u001b[0m\u001b[0;34m]\u001b[0m\u001b[0;34m,\u001b[0m \u001b[0;34m'max_features'\u001b[0m\u001b[0;34m:\u001b[0m \u001b[0;34m[\u001b[0m\u001b[0;34m'auto'\u001b[0m\u001b[0;34m,\u001b[0m \u001b[0;34m'log2'\u001b[0m\u001b[0;34m]\u001b[0m\u001b[0;34m,\u001b[0m \u001b[0;34m'n_estimators'\u001b[0m\u001b[0;34m:\u001b[0m \u001b[0;34m[\u001b[0m\u001b[0;36m50\u001b[0m\u001b[0;34m]\u001b[0m\u001b[0;34m}\u001b[0m\u001b[0;34m\u001b[0m\u001b[0;34m\u001b[0m\u001b[0m\n\u001b[0;32m----> 3\u001b[0;31m \u001b[0mrfr\u001b[0m \u001b[0;34m=\u001b[0m \u001b[0mRandomForestRegressor\u001b[0m\u001b[0;34m(\u001b[0m\u001b[0mrandom_state\u001b[0m \u001b[0;34m=\u001b[0m \u001b[0;36m1\u001b[0m\u001b[0;34m)\u001b[0m\u001b[0;34m\u001b[0m\u001b[0;34m\u001b[0m\u001b[0m\n\u001b[0m\u001b[1;32m      4\u001b[0m \u001b[0;34m\u001b[0m\u001b[0m\n\u001b[1;32m      5\u001b[0m random_forest_model= GridSearchCV(estimator = rfr, param_grid = param_grid, \n",
            "\u001b[0;31mNameError\u001b[0m: name 'RandomForestRegressor' is not defined"
          ]
        }
      ]
    },
    {
      "cell_type": "code",
      "source": [
        "test_pred = random_forest_model.predict(X_test)\n",
        "train_pred = random_forest_model.predict(X_train)\n",
        "\n",
        "print('Test set evaluation:\\n')\n",
        "print_evaluate(y_test, test_pred)\n",
        "print('====================================')\n",
        "print('Train set evaluation:\\n')\n",
        "print_evaluate(y_train, train_pred)"
      ],
      "metadata": {
        "id": "kY70fLR2dZOU"
      },
      "execution_count": null,
      "outputs": []
    },
    {
      "cell_type": "code",
      "source": [
        "models = [\n",
        "           ['Lasso: ', Lasso()],\n",
        "           ['Ridge: ', Ridge()],\n",
        "           ['ElasticNet: ', ElasticNet(random_state=0)],\n",
        "           ['DecisionTreeRegresson: ', DecisionTreeRegressor()],\n",
        "           ['SVR:' , SVR(kernel='rbf')],\n",
        "           ['RandomForest ',RandomForestRegressor()],\n",
        "           ['ExtraTreeRegressor :',ExtraTreesRegressor()],\n",
        "           ['GradientBoostingClassifier: ', GradientBoostingRegressor()] ,\n",
        "           ['XGBRegressor: ', xgb.XGBRegressor()],\n",
        "           ['CatBoost:', CatBoostRegressor()],\n",
        "           ['AdaBoostRegressor: ',AdaBoostRegressor()]]"
      ],
      "metadata": {
        "id": "qvbvKVYYkWsi"
      },
      "execution_count": 96,
      "outputs": []
    },
    {
      "cell_type": "code",
      "source": [
        "model_data = []\n",
        "for name,curr_model in models :\n",
        "    curr_model_data = {}\n",
        "    curr_model.random_state = 42\n",
        "    curr_model_data[\"Name\"] = name\n",
        "    start = time.time()\n",
        "    curr_model.fit(X_train,y_train)\n",
        "    end = time.time()\n",
        "    curr_model_data[\"Train_Time\"] = end - start\n",
        "    curr_model_data[\"Train_R2_Score\"] = metrics.r2_score(y_train,curr_model.predict(X_train))\n",
        "    curr_model_data[\"Test_R2_Score\"] = metrics.r2_score(y_test,curr_model.predict(X_test))\n",
        "    curr_model_data[\"Test_RMSE_Score\"] = sqrt(mean_squared_error(y_test,curr_model.predict(X_test)))\n",
        "    model_data.append(curr_model_data)"
      ],
      "metadata": {
        "id": "ciQiIE3H8c-F"
      },
      "execution_count": null,
      "outputs": []
    },
    {
      "cell_type": "code",
      "source": [
        "['KNeighborsRegressor: ',  neighbors.KNeighborsRegressor()],"
      ],
      "metadata": {
        "id": "xvCZBZ_T7nVc"
      },
      "execution_count": null,
      "outputs": []
    },
    {
      "cell_type": "markdown",
      "source": [
        ""
      ],
      "metadata": {
        "id": "HKSS8Mlvltzn"
      }
    },
    {
      "cell_type": "markdown",
      "source": [
        ""
      ],
      "metadata": {
        "id": "2W8ABc9IkOhq"
      }
    },
    {
      "cell_type": "markdown",
      "source": [
        "Model 1"
      ],
      "metadata": {
        "id": "rDJ0Gy5giSaN"
      }
    },
    {
      "cell_type": "code",
      "metadata": {
        "id": "olomIpoTIihs"
      },
      "source": [
        "# define dependent variable\n",
        "DV = 'Sales'\n",
        "\n",
        "# defining independent variable\n",
        "IV = list(ROSS3.columns.drop(['Promo2SinceYear','Date','Sales']))"
      ],
      "execution_count": null,
      "outputs": []
    },
    {
      "cell_type": "code",
      "source": [
        "IV\n"
      ],
      "metadata": {
        "colab": {
          "base_uri": "https://localhost:8080/"
        },
        "id": "7EiGFRWgjGRu",
        "outputId": "9720e0e1-512e-42e6-c946-2d5ebeab7bbf"
      },
      "execution_count": null,
      "outputs": [
        {
          "output_type": "execute_result",
          "data": {
            "text/plain": [
              "['Store',\n",
              " 'Customers',\n",
              " 'Promo',\n",
              " 'SchoolHoliday',\n",
              " 'CompetitionDistance',\n",
              " 'CompetitionOpenSinceMonth',\n",
              " 'CompetitionOpenSinceYear',\n",
              " 'Promo2',\n",
              " 'Promo2SinceWeek',\n",
              " 'PromoInterval_0',\n",
              " 'PromoInterval_Feb,May,Aug,Nov',\n",
              " 'PromoInterval_Jan,Apr,Jul,Oct',\n",
              " 'PromoInterval_Mar,Jun,Sept,Dec',\n",
              " 'DayOfWeek_1',\n",
              " 'DayOfWeek_2',\n",
              " 'DayOfWeek_3',\n",
              " 'DayOfWeek_4',\n",
              " 'DayOfWeek_5',\n",
              " 'DayOfWeek_6',\n",
              " 'DayOfWeek_7',\n",
              " 'StateHoliday_0',\n",
              " 'StateHoliday_1',\n",
              " 'StateHoliday_2',\n",
              " 'StateHoliday_3',\n",
              " 'StoreType_0',\n",
              " 'StoreType_1',\n",
              " 'StoreType_2',\n",
              " 'StoreType_3',\n",
              " 'Assortment_1',\n",
              " 'Assortment_2',\n",
              " 'Assortment_3']"
            ]
          },
          "metadata": {},
          "execution_count": 62
        }
      ]
    },
    {
      "cell_type": "code",
      "source": [
        ""
      ],
      "metadata": {
        "id": "8rRb1fG9ner1"
      },
      "execution_count": null,
      "outputs": []
    },
    {
      "cell_type": "code",
      "metadata": {
        "id": "ZA6g2TCrn7nG"
      },
      "source": [
        "# Creation of independent variables\n",
        "x = ROSS3[IV].values\n",
        "\n",
        "# Creation of dependent variable\n",
        "y = ROSS3[DV].values"
      ],
      "execution_count": null,
      "outputs": []
    },
    {
      "cell_type": "code",
      "metadata": {
        "colab": {
          "base_uri": "https://localhost:8080/"
        },
        "id": "aYW8J_wwKMXy",
        "outputId": "2e313b53-5d36-41c6-fb95-d6015f5ffd64"
      },
      "source": [
        "# splitting train & test dataset\n",
        "xtrain, xtest, ytrain, ytest = train_test_split(x, y, test_size=0.3, random_state = 0)\n",
        "print(xtrain.shape)\n",
        "print(xtest.shape)"
      ],
      "execution_count": null,
      "outputs": [
        {
          "output_type": "stream",
          "name": "stdout",
          "text": [
            "(591074, 31)\n",
            "(253318, 31)\n"
          ]
        }
      ]
    },
    {
      "cell_type": "markdown",
      "source": [
        "**Linear Regression**"
      ],
      "metadata": {
        "id": "zdZgeB6RpHLv"
      }
    },
    {
      "cell_type": "code",
      "source": [
        "LR = LinearRegression().fit(xtrain, ytrain)"
      ],
      "metadata": {
        "id": "KboHw8e_pN6x"
      },
      "execution_count": null,
      "outputs": []
    },
    {
      "cell_type": "code",
      "metadata": {
        "colab": {
          "base_uri": "https://localhost:8080/"
        },
        "id": "YTf-jhfVK_s8",
        "outputId": "f21b3c4e-4021-4bba-a3ec-c1eb7e877646"
      },
      "source": [
        "LR.score(xtrain, ytrain)"
      ],
      "execution_count": null,
      "outputs": [
        {
          "output_type": "execute_result",
          "data": {
            "text/plain": [
              "0.8300404968461588"
            ]
          },
          "metadata": {},
          "execution_count": 66
        }
      ]
    },
    {
      "cell_type": "code",
      "source": [
        "LR.score(xtest, ytest)"
      ],
      "metadata": {
        "colab": {
          "base_uri": "https://localhost:8080/"
        },
        "id": "dWJu8kgsVUp3",
        "outputId": "4d5b9fe8-be6a-4c05-fbab-40dbd4c1947e"
      },
      "execution_count": null,
      "outputs": [
        {
          "output_type": "execute_result",
          "data": {
            "text/plain": [
              "0.8299474800791719"
            ]
          },
          "metadata": {},
          "execution_count": 67
        }
      ]
    },
    {
      "cell_type": "code",
      "source": [
        "# Predicting the Test set results\n",
        "LRtestpred = LR.predict(xtest)"
      ],
      "metadata": {
        "id": "LDkSDRXKKAgd"
      },
      "execution_count": null,
      "outputs": []
    },
    {
      "cell_type": "code",
      "source": [
        "# Predicting Train\n",
        "LRtrainpred = LR.predict(xtrain)"
      ],
      "metadata": {
        "id": "cdEoEvsFKhhe"
      },
      "execution_count": null,
      "outputs": []
    },
    {
      "cell_type": "code",
      "source": [
        "MSE=mse(ytest,LRtestpred)\n",
        "MSE"
      ],
      "metadata": {
        "colab": {
          "base_uri": "https://localhost:8080/"
        },
        "id": "-4x9-R51Izf0",
        "outputId": "1e3965b5-0d6d-4974-db56-32b6fde7e159"
      },
      "execution_count": null,
      "outputs": [
        {
          "output_type": "execute_result",
          "data": {
            "text/plain": [
              "1629004.7015139114"
            ]
          },
          "metadata": {},
          "execution_count": 70
        }
      ]
    },
    {
      "cell_type": "code",
      "source": [
        "RMSE = np.sqrt(MSE)"
      ],
      "metadata": {
        "id": "Qc4HjukRWG8q"
      },
      "execution_count": null,
      "outputs": []
    },
    {
      "cell_type": "code",
      "source": [
        "RMSE"
      ],
      "metadata": {
        "colab": {
          "base_uri": "https://localhost:8080/"
        },
        "id": "4P9UJRp3Vvig",
        "outputId": "d40373d0-289f-4377-964d-c347a5044f46"
      },
      "execution_count": null,
      "outputs": [
        {
          "output_type": "execute_result",
          "data": {
            "text/plain": [
              "1276.324684989643"
            ]
          },
          "metadata": {},
          "execution_count": 72
        }
      ]
    },
    {
      "cell_type": "code",
      "source": [
        "LR.coef_"
      ],
      "metadata": {
        "colab": {
          "base_uri": "https://localhost:8080/"
        },
        "id": "_kLtfYyVPoGP",
        "outputId": "3e9fd317-c327-4b8c-fda3-84a1c37aecae"
      },
      "execution_count": null,
      "outputs": [
        {
          "output_type": "execute_result",
          "data": {
            "text/plain": [
              "array([-1.15505401e-01,  7.33586707e+00,  1.27938577e+03,  1.33610193e+02,\n",
              "        2.48857631e-02, -4.94516515e+00,  6.21226131e-02,  2.43705777e+01,\n",
              "        8.71010821e+00, -2.43705777e+01,  4.05505580e+01,  1.13102717e+02,\n",
              "       -1.29282697e+02,  3.67320732e+02, -1.02481231e+02, -2.46685136e+02,\n",
              "       -3.35581550e+02, -1.84619524e+02,  1.98664379e+02,  3.03382330e+02,\n",
              "       -7.39362424e+02, -5.47242897e+02, -1.12934949e+03,  2.41595481e+03,\n",
              "        5.59757777e+02, -2.69665030e+03,  4.45810104e+02,  1.69108242e+03,\n",
              "        1.22952030e+03, -2.79883487e+03,  1.56931457e+03])"
            ]
          },
          "metadata": {},
          "execution_count": 81
        }
      ]
    },
    {
      "cell_type": "code",
      "source": [
        "LR = LinearRegression()\n",
        "LR.fit(xtrain,ytrain)"
      ],
      "metadata": {
        "colab": {
          "base_uri": "https://localhost:8080/"
        },
        "id": "-uyNwgTNPv2u",
        "outputId": "fbecce56-afe2-48c0-f61c-e38f853c2dca"
      },
      "execution_count": null,
      "outputs": [
        {
          "output_type": "execute_result",
          "data": {
            "text/plain": [
              "LinearRegression()"
            ]
          },
          "metadata": {},
          "execution_count": 80
        }
      ]
    },
    {
      "cell_type": "code",
      "source": [
        "from scipy import stats\n",
        "LRres=LR.fit(x,y)\n",
        "sns.distplot(LRres.resid, fit=stats.norm);"
      ],
      "metadata": {
        "colab": {
          "base_uri": "https://localhost:8080/",
          "height": 240
        },
        "id": "Awy71AZrnOiO",
        "outputId": "8b7004d0-30ba-4ea5-c0dc-860bf2c28ad7"
      },
      "execution_count": null,
      "outputs": [
        {
          "output_type": "error",
          "ename": "AttributeError",
          "evalue": "ignored",
          "traceback": [
            "\u001b[0;31m---------------------------------------------------------------------------\u001b[0m",
            "\u001b[0;31mAttributeError\u001b[0m                            Traceback (most recent call last)",
            "\u001b[0;32m<ipython-input-79-0bb887974757>\u001b[0m in \u001b[0;36m<module>\u001b[0;34m()\u001b[0m\n\u001b[1;32m      1\u001b[0m \u001b[0;32mfrom\u001b[0m \u001b[0mscipy\u001b[0m \u001b[0;32mimport\u001b[0m \u001b[0mstats\u001b[0m\u001b[0;34m\u001b[0m\u001b[0;34m\u001b[0m\u001b[0m\n\u001b[1;32m      2\u001b[0m \u001b[0mLRres\u001b[0m\u001b[0;34m=\u001b[0m\u001b[0mLR\u001b[0m\u001b[0;34m.\u001b[0m\u001b[0mfit\u001b[0m\u001b[0;34m(\u001b[0m\u001b[0mx\u001b[0m\u001b[0;34m,\u001b[0m\u001b[0my\u001b[0m\u001b[0;34m)\u001b[0m\u001b[0;34m\u001b[0m\u001b[0;34m\u001b[0m\u001b[0m\n\u001b[0;32m----> 3\u001b[0;31m \u001b[0msns\u001b[0m\u001b[0;34m.\u001b[0m\u001b[0mdistplot\u001b[0m\u001b[0;34m(\u001b[0m\u001b[0mLRres\u001b[0m\u001b[0;34m.\u001b[0m\u001b[0mresid\u001b[0m\u001b[0;34m,\u001b[0m \u001b[0mfit\u001b[0m\u001b[0;34m=\u001b[0m\u001b[0mstats\u001b[0m\u001b[0;34m.\u001b[0m\u001b[0mnorm\u001b[0m\u001b[0;34m)\u001b[0m\u001b[0;34m;\u001b[0m\u001b[0;34m\u001b[0m\u001b[0;34m\u001b[0m\u001b[0m\n\u001b[0m",
            "\u001b[0;31mAttributeError\u001b[0m: 'LinearRegression' object has no attribute 'resid'"
          ]
        }
      ]
    },
    {
      "cell_type": "markdown",
      "source": [
        "LASSO"
      ],
      "metadata": {
        "id": "SsPIz9eYB-IT"
      }
    },
    {
      "cell_type": "code",
      "source": [
        "L1 = Lasso(alpha = 0.2, max_iter=10000)"
      ],
      "metadata": {
        "id": "BhTRoZGNB9JN"
      },
      "execution_count": null,
      "outputs": []
    },
    {
      "cell_type": "code",
      "source": [
        "L1.fit(xtrain, ytrain)"
      ],
      "metadata": {
        "id": "OVDbR-mwCXdK",
        "outputId": "b6076c51-809b-4190-e200-e22a393a95c0",
        "colab": {
          "base_uri": "https://localhost:8080/"
        }
      },
      "execution_count": null,
      "outputs": [
        {
          "output_type": "execute_result",
          "data": {
            "text/plain": [
              "Lasso(alpha=0.2, max_iter=10000)"
            ]
          },
          "metadata": {},
          "execution_count": 84
        }
      ]
    },
    {
      "cell_type": "code",
      "source": [
        "yPredLasso = L1.predict(xtest)"
      ],
      "metadata": {
        "id": "u4MjacW0CmIP"
      },
      "execution_count": null,
      "outputs": []
    },
    {
      "cell_type": "code",
      "source": [
        "L1.score(xtest, ytest)"
      ],
      "metadata": {
        "id": "TVcV4ZP9C3iF",
        "outputId": "5fbd4413-c9cc-47c2-c450-f00b7bb0e147",
        "colab": {
          "base_uri": "https://localhost:8080/"
        }
      },
      "execution_count": null,
      "outputs": [
        {
          "output_type": "execute_result",
          "data": {
            "text/plain": [
              "0.8299522574540386"
            ]
          },
          "metadata": {},
          "execution_count": 87
        }
      ]
    },
    {
      "cell_type": "code",
      "source": [
        "pd.DataFrame(zip(ytest, yPredLasso), columns = ['actual', 'pred'])"
      ],
      "metadata": {
        "id": "LmfNt9GODAF9",
        "outputId": "1ef36731-ac8a-4799-f4b6-2100168cbedd",
        "colab": {
          "base_uri": "https://localhost:8080/",
          "height": 424
        }
      },
      "execution_count": null,
      "outputs": [
        {
          "output_type": "execute_result",
          "data": {
            "text/plain": [
              "        actual         pred\n",
              "0         5495  5755.214363\n",
              "1         5472  4940.948358\n",
              "2         7969  7179.190606\n",
              "3         7384  6783.960520\n",
              "4        13212  8670.687779\n",
              "...        ...          ...\n",
              "253313    8528  9873.942640\n",
              "253314    5671  5797.045841\n",
              "253315    9214  9896.369834\n",
              "253316    9035  8265.679074\n",
              "253317    3591  2812.505623\n",
              "\n",
              "[253318 rows x 2 columns]"
            ],
            "text/html": [
              "\n",
              "  <div id=\"df-3d5c972e-5461-4b0f-b3ed-c2c5ecc6786c\">\n",
              "    <div class=\"colab-df-container\">\n",
              "      <div>\n",
              "<style scoped>\n",
              "    .dataframe tbody tr th:only-of-type {\n",
              "        vertical-align: middle;\n",
              "    }\n",
              "\n",
              "    .dataframe tbody tr th {\n",
              "        vertical-align: top;\n",
              "    }\n",
              "\n",
              "    .dataframe thead th {\n",
              "        text-align: right;\n",
              "    }\n",
              "</style>\n",
              "<table border=\"1\" class=\"dataframe\">\n",
              "  <thead>\n",
              "    <tr style=\"text-align: right;\">\n",
              "      <th></th>\n",
              "      <th>actual</th>\n",
              "      <th>pred</th>\n",
              "    </tr>\n",
              "  </thead>\n",
              "  <tbody>\n",
              "    <tr>\n",
              "      <th>0</th>\n",
              "      <td>5495</td>\n",
              "      <td>5755.214363</td>\n",
              "    </tr>\n",
              "    <tr>\n",
              "      <th>1</th>\n",
              "      <td>5472</td>\n",
              "      <td>4940.948358</td>\n",
              "    </tr>\n",
              "    <tr>\n",
              "      <th>2</th>\n",
              "      <td>7969</td>\n",
              "      <td>7179.190606</td>\n",
              "    </tr>\n",
              "    <tr>\n",
              "      <th>3</th>\n",
              "      <td>7384</td>\n",
              "      <td>6783.960520</td>\n",
              "    </tr>\n",
              "    <tr>\n",
              "      <th>4</th>\n",
              "      <td>13212</td>\n",
              "      <td>8670.687779</td>\n",
              "    </tr>\n",
              "    <tr>\n",
              "      <th>...</th>\n",
              "      <td>...</td>\n",
              "      <td>...</td>\n",
              "    </tr>\n",
              "    <tr>\n",
              "      <th>253313</th>\n",
              "      <td>8528</td>\n",
              "      <td>9873.942640</td>\n",
              "    </tr>\n",
              "    <tr>\n",
              "      <th>253314</th>\n",
              "      <td>5671</td>\n",
              "      <td>5797.045841</td>\n",
              "    </tr>\n",
              "    <tr>\n",
              "      <th>253315</th>\n",
              "      <td>9214</td>\n",
              "      <td>9896.369834</td>\n",
              "    </tr>\n",
              "    <tr>\n",
              "      <th>253316</th>\n",
              "      <td>9035</td>\n",
              "      <td>8265.679074</td>\n",
              "    </tr>\n",
              "    <tr>\n",
              "      <th>253317</th>\n",
              "      <td>3591</td>\n",
              "      <td>2812.505623</td>\n",
              "    </tr>\n",
              "  </tbody>\n",
              "</table>\n",
              "<p>253318 rows × 2 columns</p>\n",
              "</div>\n",
              "      <button class=\"colab-df-convert\" onclick=\"convertToInteractive('df-3d5c972e-5461-4b0f-b3ed-c2c5ecc6786c')\"\n",
              "              title=\"Convert this dataframe to an interactive table.\"\n",
              "              style=\"display:none;\">\n",
              "        \n",
              "  <svg xmlns=\"http://www.w3.org/2000/svg\" height=\"24px\"viewBox=\"0 0 24 24\"\n",
              "       width=\"24px\">\n",
              "    <path d=\"M0 0h24v24H0V0z\" fill=\"none\"/>\n",
              "    <path d=\"M18.56 5.44l.94 2.06.94-2.06 2.06-.94-2.06-.94-.94-2.06-.94 2.06-2.06.94zm-11 1L8.5 8.5l.94-2.06 2.06-.94-2.06-.94L8.5 2.5l-.94 2.06-2.06.94zm10 10l.94 2.06.94-2.06 2.06-.94-2.06-.94-.94-2.06-.94 2.06-2.06.94z\"/><path d=\"M17.41 7.96l-1.37-1.37c-.4-.4-.92-.59-1.43-.59-.52 0-1.04.2-1.43.59L10.3 9.45l-7.72 7.72c-.78.78-.78 2.05 0 2.83L4 21.41c.39.39.9.59 1.41.59.51 0 1.02-.2 1.41-.59l7.78-7.78 2.81-2.81c.8-.78.8-2.07 0-2.86zM5.41 20L4 18.59l7.72-7.72 1.47 1.35L5.41 20z\"/>\n",
              "  </svg>\n",
              "      </button>\n",
              "      \n",
              "  <style>\n",
              "    .colab-df-container {\n",
              "      display:flex;\n",
              "      flex-wrap:wrap;\n",
              "      gap: 12px;\n",
              "    }\n",
              "\n",
              "    .colab-df-convert {\n",
              "      background-color: #E8F0FE;\n",
              "      border: none;\n",
              "      border-radius: 50%;\n",
              "      cursor: pointer;\n",
              "      display: none;\n",
              "      fill: #1967D2;\n",
              "      height: 32px;\n",
              "      padding: 0 0 0 0;\n",
              "      width: 32px;\n",
              "    }\n",
              "\n",
              "    .colab-df-convert:hover {\n",
              "      background-color: #E2EBFA;\n",
              "      box-shadow: 0px 1px 2px rgba(60, 64, 67, 0.3), 0px 1px 3px 1px rgba(60, 64, 67, 0.15);\n",
              "      fill: #174EA6;\n",
              "    }\n",
              "\n",
              "    [theme=dark] .colab-df-convert {\n",
              "      background-color: #3B4455;\n",
              "      fill: #D2E3FC;\n",
              "    }\n",
              "\n",
              "    [theme=dark] .colab-df-convert:hover {\n",
              "      background-color: #434B5C;\n",
              "      box-shadow: 0px 1px 3px 1px rgba(0, 0, 0, 0.15);\n",
              "      filter: drop-shadow(0px 1px 2px rgba(0, 0, 0, 0.3));\n",
              "      fill: #FFFFFF;\n",
              "    }\n",
              "  </style>\n",
              "\n",
              "      <script>\n",
              "        const buttonEl =\n",
              "          document.querySelector('#df-3d5c972e-5461-4b0f-b3ed-c2c5ecc6786c button.colab-df-convert');\n",
              "        buttonEl.style.display =\n",
              "          google.colab.kernel.accessAllowed ? 'block' : 'none';\n",
              "\n",
              "        async function convertToInteractive(key) {\n",
              "          const element = document.querySelector('#df-3d5c972e-5461-4b0f-b3ed-c2c5ecc6786c');\n",
              "          const dataTable =\n",
              "            await google.colab.kernel.invokeFunction('convertToInteractive',\n",
              "                                                     [key], {});\n",
              "          if (!dataTable) return;\n",
              "\n",
              "          const docLinkHtml = 'Like what you see? Visit the ' +\n",
              "            '<a target=\"_blank\" href=https://colab.research.google.com/notebooks/data_table.ipynb>data table notebook</a>'\n",
              "            + ' to learn more about interactive tables.';\n",
              "          element.innerHTML = '';\n",
              "          dataTable['output_type'] = 'display_data';\n",
              "          await google.colab.output.renderOutput(dataTable, element);\n",
              "          const docLink = document.createElement('div');\n",
              "          docLink.innerHTML = docLinkHtml;\n",
              "          element.appendChild(docLink);\n",
              "        }\n",
              "      </script>\n",
              "    </div>\n",
              "  </div>\n",
              "  "
            ]
          },
          "metadata": {},
          "execution_count": 88
        }
      ]
    },
    {
      "cell_type": "markdown",
      "source": [
        "RIDGE"
      ],
      "metadata": {
        "id": "XFi8qgC0DPz0"
      }
    },
    {
      "cell_type": "code",
      "source": [
        "L2 = Ridge(alpha = 0.5)"
      ],
      "metadata": {
        "id": "iwi1OewBDRoY"
      },
      "execution_count": null,
      "outputs": []
    },
    {
      "cell_type": "code",
      "source": [
        "L2.fit(xtrain, ytrain)"
      ],
      "metadata": {
        "id": "jvSxElS-DXp6",
        "outputId": "76d6a8e2-34b2-4bed-a9d4-71545e2d2881",
        "colab": {
          "base_uri": "https://localhost:8080/"
        }
      },
      "execution_count": null,
      "outputs": [
        {
          "output_type": "execute_result",
          "data": {
            "text/plain": [
              "Ridge(alpha=0.5)"
            ]
          },
          "metadata": {},
          "execution_count": 90
        }
      ]
    },
    {
      "cell_type": "code",
      "source": [
        "L2.predict(xtest)"
      ],
      "metadata": {
        "id": "Yww2qtzJDeHg",
        "outputId": "45ed50f8-63e9-4717-f38a-9a11da287b53",
        "colab": {
          "base_uri": "https://localhost:8080/"
        }
      },
      "execution_count": null,
      "outputs": [
        {
          "output_type": "execute_result",
          "data": {
            "text/plain": [
              "array([5758.1868486 , 4938.8061261 , 7177.54752837, ..., 9902.46312507,\n",
              "       8270.96285534, 2807.96358235])"
            ]
          },
          "metadata": {},
          "execution_count": 91
        }
      ]
    },
    {
      "cell_type": "code",
      "source": [
        "L2.score(xtest, ytest)"
      ],
      "metadata": {
        "id": "0fibWvESDjvw",
        "outputId": "87801ce2-60ca-4f1b-a618-7b18bfb126e0",
        "colab": {
          "base_uri": "https://localhost:8080/"
        }
      },
      "execution_count": null,
      "outputs": [
        {
          "output_type": "execute_result",
          "data": {
            "text/plain": [
              "0.8299478763142543"
            ]
          },
          "metadata": {},
          "execution_count": 92
        }
      ]
    },
    {
      "cell_type": "markdown",
      "source": [
        "DECISION TREE"
      ],
      "metadata": {
        "id": "UcMtd8alDv3J"
      }
    },
    {
      "cell_type": "code",
      "source": [
        "sales_mean=ROSS3['Sales'].mean()"
      ],
      "metadata": {
        "id": "7VLnAilOEgUp"
      },
      "execution_count": null,
      "outputs": []
    },
    {
      "cell_type": "code",
      "source": [
        "decision_tree=DecisionTreeRegressor(max_depth=5)\n",
        "decision_tree.fit(xtrain, ytrain)\n",
        "y_pred_dt = decision_tree.predict(xtest)\n",
        "y_train_dt = decision_tree.predict(xtrain)\n",
        "#print('dt_regressor R^2: ', r2(v_test,v_pred))\n",
        "MSE  = mse(ytest, y_pred_dt)\n",
        "print(\"MSE :\" , MSE)\n",
        "\n",
        "RMSE = np.sqrt(MSE)\n",
        "print(\"RMSE :\" ,RMSE)\n",
        "\n",
        "RMPSE=RMSE/sales_mean\n",
        "print(\"RMPSE :\",RMPSE)\n",
        "\n",
        "r2 = r2_score(ytest, y_pred_dt)\n",
        "print(\"R2 :\" ,r2)"
      ],
      "metadata": {
        "id": "K84-Rl4TDrec",
        "outputId": "4d94196a-385c-4fd7-b082-a87394c0573a",
        "colab": {
          "base_uri": "https://localhost:8080/"
        }
      },
      "execution_count": null,
      "outputs": [
        {
          "output_type": "stream",
          "name": "stdout",
          "text": [
            "MSE : 1926742.9565548762\n",
            "RMSE : 1388.0716683784292\n",
            "RMPSE : 0.19956420335778913\n",
            "R2 : 0.7988664521978573\n"
          ]
        }
      ]
    }
  ]
}